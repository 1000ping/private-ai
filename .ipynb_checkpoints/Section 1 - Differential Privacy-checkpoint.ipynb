{
  "nbformat": 4,
  "nbformat_minor": 0,
  "metadata": {
    "colab": {
      "name": "Section 1 - Differential Privacy-checkpoint.ipynb",
      "version": "0.3.2",
      "provenance": []
    },
    "language_info": {
      "codemirror_mode": {
        "name": "ipython",
        "version": 3
      },
      "file_extension": ".py",
      "mimetype": "text/x-python",
      "name": "python",
      "nbconvert_exporter": "python",
      "pygments_lexer": "ipython3",
      "version": "3.6.1"
    },
    "kernelspec": {
      "name": "python3",
      "display_name": "Python 3"
    }
  },
  "cells": [
    {
      "cell_type": "markdown",
      "metadata": {
        "id": "pHtfNKH9e0hh",
        "colab_type": "text"
      },
      "source": [
        "## Lesson: Toy Differential Privacy - Simple Database Queries"
      ]
    },
    {
      "cell_type": "markdown",
      "metadata": {
        "id": "Y0YvSC2Ve0hm",
        "colab_type": "text"
      },
      "source": [
        "In this section we're going to play around with Differential Privacy in the context of a database query. The database is going to be a VERY simple database with only one boolean column. Each row corresponds to a person. Each value corresponds to whether or not that person has a certain private attribute (such as whether they have a certain disease, or whether they are above/below a certain age). We are then going to learn how to know whether a database query over such a small database is differentially private or not - and more importantly - what techniques are at our disposal to ensure various levels of privacy\n",
        "\n",
        "\n",
        "### First We Create a Simple Database\n",
        "\n",
        "Step one is to create our database - we're going to do this by initializing a random list of 1s and 0s (which are the entries in our database). Note - the number of entries directly corresponds to the number of people in our database."
      ]
    },
    {
      "cell_type": "code",
      "metadata": {
        "id": "h6warzcee0ho",
        "colab_type": "code",
        "outputId": "b3ef253a-e97d-479a-806e-8a766b6c65be",
        "colab": {
          "base_uri": "https://localhost:8080/",
          "height": 34
        }
      },
      "source": [
        "import torch\n",
        "\n",
        "# the number of entries in our database\n",
        "num_entries = 5000\n",
        "\n",
        "db = torch.rand(num_entries) > 0.5\n",
        "db"
      ],
      "execution_count": 0,
      "outputs": [
        {
          "output_type": "execute_result",
          "data": {
            "text/plain": [
              "tensor([1, 0, 0,  ..., 0, 0, 0], dtype=torch.uint8)"
            ]
          },
          "metadata": {
            "tags": []
          },
          "execution_count": 1
        }
      ]
    },
    {
      "cell_type": "markdown",
      "metadata": {
        "id": "S6Z3ylGme0h0",
        "colab_type": "text"
      },
      "source": [
        "## Project: Generate Parallel Databases\n",
        "\n",
        "Key to the definition of differenital privacy is the ability to ask the question \"When querying a database, if I removed someone from the database, would the output of the query be any different?\". Thus, in order to check this, we must construct what we term \"parallel databases\" which are simply databases with one entry removed. \n",
        "\n",
        "In this first project, I want you to create a list of every parallel database to the one currently contained in the \"db\" variable. Then, I want you to create a function which both:\n",
        "\n",
        "- creates the initial database (db)\n",
        "- creates all parallel databases"
      ]
    },
    {
      "cell_type": "code",
      "metadata": {
        "id": "LGvS0MRee0h2",
        "colab_type": "code",
        "colab": {}
      },
      "source": [
        "def get_parallel_dbs(db):\n",
        "  dbs=list()\n",
        "  for i in range(len(db)):\n",
        "    dbs.append(torch.cat((db[:i],db[i+1:])))\n",
        "  return dbs"
      ],
      "execution_count": 0,
      "outputs": []
    },
    {
      "cell_type": "code",
      "metadata": {
        "id": "UtmFkNaae0h7",
        "colab_type": "code",
        "colab": {}
      },
      "source": [
        "dbs=get_parallel_dbs(db)"
      ],
      "execution_count": 0,
      "outputs": []
    },
    {
      "cell_type": "code",
      "metadata": {
        "id": "D5WhriXde0h9",
        "colab_type": "code",
        "colab": {}
      },
      "source": [
        "def create_db_and_parallels(num_entries):\n",
        "  db = torch.rand(num_entries) > 0.5\n",
        "  dbs=get_parallel_dbs(db)\n",
        "  return db,dbs\n",
        "\n"
      ],
      "execution_count": 0,
      "outputs": []
    },
    {
      "cell_type": "code",
      "metadata": {
        "id": "JtUBSO-Ke0h_",
        "colab_type": "code",
        "colab": {}
      },
      "source": [
        "def get_parallel_db(db,index):\n",
        "  dbs=torch.cat((db[:index],db[index+1:]))\n",
        "  return dbs"
      ],
      "execution_count": 0,
      "outputs": []
    },
    {
      "cell_type": "code",
      "metadata": {
        "id": "KYbCGAD9e0iB",
        "colab_type": "code",
        "colab": {}
      },
      "source": [
        ""
      ],
      "execution_count": 0,
      "outputs": []
    },
    {
      "cell_type": "markdown",
      "metadata": {
        "id": "oSx1fYeCe0iD",
        "colab_type": "text"
      },
      "source": [
        "# Lesson: Towards Evaluating The Differential Privacy of a Function\n",
        "\n",
        "Intuitively, we want to be able to query our database and evaluate whether or not the result of the query is leaking \"private\" information. As mentioned previously, this is about evaluating whether the output of a query changes when we remove someone from the database. Specifically, we want to evaluate the *maximum* amount the query changes when someone is removed (maximum over all possible people who could be removed). So, in order to evaluate how much privacy is leaked, we're going to iterate over each person in the database and measure the difference in the output of the query relative to when we query the entire database. \n",
        "\n",
        "Just for the sake of argument, let's make our first \"database query\" a simple sum. Aka, we're going to count the number of 1s in the database."
      ]
    },
    {
      "cell_type": "code",
      "metadata": {
        "id": "r6vJZwrWe0iD",
        "colab_type": "code",
        "colab": {}
      },
      "source": [
        "db, pdbs = create_db_and_parallels(20)"
      ],
      "execution_count": 0,
      "outputs": []
    },
    {
      "cell_type": "code",
      "metadata": {
        "id": "9bP_Sssie0iF",
        "colab_type": "code",
        "colab": {}
      },
      "source": [
        "def query(db):\n",
        "    return db.sum()"
      ],
      "execution_count": 0,
      "outputs": []
    },
    {
      "cell_type": "code",
      "metadata": {
        "id": "Qw8RuvCse0iH",
        "colab_type": "code",
        "outputId": "aba14004-4f5a-4dfd-88d8-48085ced3ae3",
        "colab": {
          "base_uri": "https://localhost:8080/",
          "height": 181
        }
      },
      "source": [
        "full_db_result = query(db)\n",
        "print(full_db_result)"
      ],
      "execution_count": 0,
      "outputs": [
        {
          "output_type": "error",
          "ename": "NameError",
          "evalue": "ignored",
          "traceback": [
            "\u001b[0;31m---------------------------------------------------------------------------\u001b[0m",
            "\u001b[0;31mNameError\u001b[0m                                 Traceback (most recent call last)",
            "\u001b[0;32m<ipython-input-5-6d9f2f3e5210>\u001b[0m in \u001b[0;36m<module>\u001b[0;34m()\u001b[0m\n\u001b[0;32m----> 1\u001b[0;31m \u001b[0mfull_db_result\u001b[0m \u001b[0;34m=\u001b[0m \u001b[0mquery\u001b[0m\u001b[0;34m(\u001b[0m\u001b[0mdb\u001b[0m\u001b[0;34m)\u001b[0m\u001b[0;34m\u001b[0m\u001b[0;34m\u001b[0m\u001b[0m\n\u001b[0m\u001b[1;32m      2\u001b[0m \u001b[0mprint\u001b[0m\u001b[0;34m(\u001b[0m\u001b[0mfull_db_result\u001b[0m\u001b[0;34m)\u001b[0m\u001b[0;34m\u001b[0m\u001b[0;34m\u001b[0m\u001b[0m\n",
            "\u001b[0;31mNameError\u001b[0m: name 'query' is not defined"
          ]
        }
      ]
    },
    {
      "cell_type": "code",
      "metadata": {
        "id": "kX2IkjCae0iK",
        "colab_type": "code",
        "colab": {}
      },
      "source": [
        "sensitivity = 0\n",
        "\n",
        "for pdb in pdbs:\n",
        "    pdb_result = query(pdb)\n",
        "    \n",
        "    db_distance = torch.abs(pdb_result - full_db_result)\n",
        "    \n",
        "    if(db_distance > sensitivity):\n",
        "        sensitivity = db_distance"
      ],
      "execution_count": 0,
      "outputs": []
    },
    {
      "cell_type": "code",
      "metadata": {
        "id": "RHojOSrwe0iM",
        "colab_type": "code",
        "outputId": "5b531925-e04d-462d-8bda-09dba587a5fd",
        "colab": {
          "base_uri": "https://localhost:8080/",
          "height": 34
        }
      },
      "source": [
        "sensitivity"
      ],
      "execution_count": 0,
      "outputs": [
        {
          "output_type": "execute_result",
          "data": {
            "text/plain": [
              "tensor(1)"
            ]
          },
          "metadata": {
            "tags": []
          },
          "execution_count": 12
        }
      ]
    },
    {
      "cell_type": "markdown",
      "metadata": {
        "id": "3Pt2_SRje0iO",
        "colab_type": "text"
      },
      "source": [
        "# Project - Evaluating the Privacy of a Function\n",
        "\n",
        "In the last section, we measured the difference between each parallel db's query result and the query result for the entire database and then calculated the max value (which was 1). This value is called \"sensitivity\", and it corresponds to the function we chose for the query. Namely, the \"sum\" query will always have a sensitivity of exactly 1. However, we can also calculate sensitivity for other functions as well.\n",
        "\n",
        "Let's try to calculate sensitivity for the \"mean\" function."
      ]
    },
    {
      "cell_type": "code",
      "metadata": {
        "id": "GjvTd6M-e0iP",
        "colab_type": "code",
        "colab": {}
      },
      "source": [
        "# try this project here!"
      ],
      "execution_count": 0,
      "outputs": []
    },
    {
      "cell_type": "code",
      "metadata": {
        "id": "VcI_IkQNe0iR",
        "colab_type": "code",
        "colab": {}
      },
      "source": [
        "def sensitivity(func,num_entries):\n",
        "  db = torch.rand(num_entries) > 0.5\n",
        "  dbs=get_parallel_dbs(db)\n",
        "  result_db=func(db)\n",
        "  sensitivity = 0\n",
        "  for pdb in dbs:\n",
        "    pdb_result = func(pdb)\n",
        "    \n",
        "    db_distance = torch.abs(pdb_result - result_db)\n",
        "    \n",
        "    if(db_distance > sensitivity):\n",
        "        sensitivity = db_distance\n",
        "        \n",
        "  return sensitivity\n",
        "        "
      ],
      "execution_count": 0,
      "outputs": []
    },
    {
      "cell_type": "code",
      "metadata": {
        "id": "27z1yDNHe0iS",
        "colab_type": "code",
        "colab": {}
      },
      "source": [
        "sen=sensitivity(mean,1000)"
      ],
      "execution_count": 0,
      "outputs": []
    },
    {
      "cell_type": "code",
      "metadata": {
        "id": "WmyS7Idbe0iU",
        "colab_type": "code",
        "outputId": "0b31ac8b-0f24-49ee-fdee-72f50b283eb3",
        "colab": {
          "base_uri": "https://localhost:8080/",
          "height": 34
        }
      },
      "source": [
        "sen"
      ],
      "execution_count": 0,
      "outputs": [
        {
          "output_type": "execute_result",
          "data": {
            "text/plain": [
              "tensor(0.0005)"
            ]
          },
          "metadata": {
            "tags": []
          },
          "execution_count": 112
        }
      ]
    },
    {
      "cell_type": "code",
      "metadata": {
        "id": "wxYb5QXde0iW",
        "colab_type": "code",
        "colab": {}
      },
      "source": [
        " def mean(a):\n",
        "    return a.float().mean()"
      ],
      "execution_count": 0,
      "outputs": []
    },
    {
      "cell_type": "code",
      "metadata": {
        "id": "halOoCzYe0iX",
        "colab_type": "code",
        "outputId": "99ebfd4d-c6ef-4162-e59a-f2519e23ba30",
        "colab": {
          "base_uri": "https://localhost:8080/",
          "height": 34
        }
      },
      "source": [
        "mean(db)-mean(dbs[0])"
      ],
      "execution_count": 0,
      "outputs": [
        {
          "output_type": "execute_result",
          "data": {
            "text/plain": [
              "tensor(0.0981)"
            ]
          },
          "metadata": {
            "tags": []
          },
          "execution_count": 102
        }
      ]
    },
    {
      "cell_type": "code",
      "metadata": {
        "id": "F58mDVWde0iZ",
        "colab_type": "code",
        "colab": {}
      },
      "source": [
        ""
      ],
      "execution_count": 0,
      "outputs": []
    },
    {
      "cell_type": "code",
      "metadata": {
        "id": "4AcaOVZee0ic",
        "colab_type": "code",
        "colab": {}
      },
      "source": [
        ""
      ],
      "execution_count": 0,
      "outputs": []
    },
    {
      "cell_type": "markdown",
      "metadata": {
        "id": "AMbSNXBKe0ie",
        "colab_type": "text"
      },
      "source": [
        "Wow! That sensitivity is WAY lower. Note the intuition here. \"Sensitivity\" is measuring how sensitive the output of the query is to a person being removed from the database. For a simple sum, this is always 1, but for the mean, removing a person is going to change the result of the query by rougly 1 divided by the size of the database (which is much smaller). Thus, \"mean\" is a VASTLY less \"sensitive\" function (query) than SUM."
      ]
    },
    {
      "cell_type": "markdown",
      "metadata": {
        "id": "dpLfvhp-e0ig",
        "colab_type": "text"
      },
      "source": [
        "# Project: Calculate L1 Sensitivity For Threshold\n",
        "\n",
        "In this first project, I want you to calculate the sensitivty for the \"threshold\" function. \n",
        "\n",
        "- First compute the sum over the database (i.e. sum(db)) and return whether that sum is greater than a certain threshold.\n",
        "- Then, I want you to create databases of size 10 and threshold of 5 and calculate the sensitivity of the function. \n",
        "- Finally, re-initialize the database 10 times and calculate the sensitivity each time."
      ]
    },
    {
      "cell_type": "code",
      "metadata": {
        "id": "LiSGsh5Ze0ig",
        "colab_type": "code",
        "colab": {}
      },
      "source": [
        "def threshold(db,th=5):\n",
        "  return (db.sum()>th).float()"
      ],
      "execution_count": 0,
      "outputs": []
    },
    {
      "cell_type": "code",
      "metadata": {
        "id": "OdEKPPwXe0ik",
        "colab_type": "code",
        "outputId": "d3e09ea2-9177-438e-bee9-26c0a3378812",
        "colab": {
          "base_uri": "https://localhost:8080/",
          "height": 187
        }
      },
      "source": [
        "for i in range(10):\n",
        "  sens_f=sensitivity(query,10)\n",
        "  print(sens_f)"
      ],
      "execution_count": 0,
      "outputs": [
        {
          "output_type": "stream",
          "text": [
            "tensor(1)\n",
            "tensor(1)\n",
            "tensor(1)\n",
            "tensor(1)\n",
            "tensor(1)\n",
            "tensor(1)\n",
            "tensor(1)\n",
            "tensor(1)\n",
            "tensor(1)\n",
            "tensor(1)\n"
          ],
          "name": "stdout"
        }
      ]
    },
    {
      "cell_type": "code",
      "metadata": {
        "id": "wHHcTPH1e0im",
        "colab_type": "code",
        "colab": {}
      },
      "source": [
        ""
      ],
      "execution_count": 0,
      "outputs": []
    },
    {
      "cell_type": "code",
      "metadata": {
        "id": "ZBtc7EbRe0io",
        "colab_type": "code",
        "colab": {}
      },
      "source": [
        ""
      ],
      "execution_count": 0,
      "outputs": []
    },
    {
      "cell_type": "markdown",
      "metadata": {
        "id": "KicSV9aIe0is",
        "colab_type": "text"
      },
      "source": [
        "# Lesson: A Basic Differencing Attack\n",
        "\n",
        "Sadly none of the functions we've looked at so far are differentially private (despite them having varying levels of sensitivity). The most basic type of attack can be done as follows.\n",
        "\n",
        "Let's say we wanted to figure out a specific person's value in the database. All we would have to do is query for the sum of the entire database and then the sum of the entire database without that person!\n",
        "\n",
        "# Project: Perform a Differencing Attack on Row 10\n",
        "\n",
        "In this project, I want you to construct a database and then demonstrate how you can use two different sum queries to explose the value of the person represented by row 10 in the database (note, you'll need to use a database with at least 10 rows)"
      ]
    },
    {
      "cell_type": "code",
      "metadata": {
        "id": "7Cja6H0ae0it",
        "colab_type": "code",
        "colab": {}
      },
      "source": [
        "db,_=create_db_and_parallels(100)"
      ],
      "execution_count": 0,
      "outputs": []
    },
    {
      "cell_type": "code",
      "metadata": {
        "id": "DTtbbBrqe0iu",
        "colab_type": "code",
        "outputId": "a20924ea-e39d-41b5-dbbe-3b1e2061390a",
        "colab": {
          "base_uri": "https://localhost:8080/",
          "height": 34
        }
      },
      "source": [
        "db.sum()\n",
        "db_without=torch.cat((db[0:10],db[11:]))\n",
        "db_without.sum()\n"
      ],
      "execution_count": 0,
      "outputs": [
        {
          "output_type": "execute_result",
          "data": {
            "text/plain": [
              "tensor(48)"
            ]
          },
          "metadata": {
            "tags": []
          },
          "execution_count": 95
        }
      ]
    },
    {
      "cell_type": "code",
      "metadata": {
        "id": "lx78mPEIe0iv",
        "colab_type": "code",
        "outputId": "0b3a446b-b8fd-4420-b5e3-9418b0a4e5e0",
        "colab": {
          "base_uri": "https://localhost:8080/",
          "height": 34
        }
      },
      "source": [
        "db.sum()-db_without.sum()\n"
      ],
      "execution_count": 0,
      "outputs": [
        {
          "output_type": "execute_result",
          "data": {
            "text/plain": [
              "tensor(1)"
            ]
          },
          "metadata": {
            "tags": []
          },
          "execution_count": 96
        }
      ]
    },
    {
      "cell_type": "code",
      "metadata": {
        "id": "-89FKCGoe0ix",
        "colab_type": "code",
        "outputId": "16612122-ba2c-42f3-9de4-b570c928822b",
        "colab": {
          "base_uri": "https://localhost:8080/",
          "height": 34
        }
      },
      "source": [
        "db.float().sum()/len(db)-db_without.float().sum()/len(db_without)\n"
      ],
      "execution_count": 0,
      "outputs": [
        {
          "output_type": "execute_result",
          "data": {
            "text/plain": [
              "tensor(0.0052)"
            ]
          },
          "metadata": {
            "tags": []
          },
          "execution_count": 97
        }
      ]
    },
    {
      "cell_type": "code",
      "metadata": {
        "id": "4jRFYr8fe0iy",
        "colab_type": "code",
        "outputId": "68672644-437c-46ea-8d62-45b20c67f204",
        "colab": {
          "base_uri": "https://localhost:8080/",
          "height": 34
        }
      },
      "source": [
        "(sum(db).float()>48)-(sum(db_without).float()>48)"
      ],
      "execution_count": 0,
      "outputs": [
        {
          "output_type": "execute_result",
          "data": {
            "text/plain": [
              "tensor(1, dtype=torch.uint8)"
            ]
          },
          "metadata": {
            "tags": []
          },
          "execution_count": 99
        }
      ]
    },
    {
      "cell_type": "code",
      "metadata": {
        "id": "HciXvsMwe0i0",
        "colab_type": "code",
        "outputId": "79a5c644-86a0-49cd-e99c-3e96889e0b24",
        "colab": {
          "base_uri": "https://localhost:8080/",
          "height": 34
        }
      },
      "source": [
        ""
      ],
      "execution_count": 0,
      "outputs": [
        {
          "output_type": "execute_result",
          "data": {
            "text/plain": [
              "tensor(49)"
            ]
          },
          "metadata": {
            "tags": []
          },
          "execution_count": 90
        }
      ]
    },
    {
      "cell_type": "code",
      "metadata": {
        "id": "aiQCB5mWe0i2",
        "colab_type": "code",
        "outputId": "61b78afb-d032-4526-98b4-a25b7c4d682c",
        "colab": {
          "base_uri": "https://localhost:8080/",
          "height": 34
        }
      },
      "source": [
        ""
      ],
      "execution_count": 0,
      "outputs": [
        {
          "output_type": "execute_result",
          "data": {
            "text/plain": [
              "tensor(49)"
            ]
          },
          "metadata": {
            "tags": []
          },
          "execution_count": 91
        }
      ]
    },
    {
      "cell_type": "code",
      "metadata": {
        "id": "Id-3265ae0i3",
        "colab_type": "code",
        "outputId": "df3ad0dd-2308-48b0-ce07-e549cb73ec15",
        "colab": {
          "base_uri": "https://localhost:8080/",
          "height": 34
        }
      },
      "source": [
        ""
      ],
      "execution_count": 0,
      "outputs": [
        {
          "output_type": "execute_result",
          "data": {
            "text/plain": [
              "100"
            ]
          },
          "metadata": {
            "tags": []
          },
          "execution_count": 94
        }
      ]
    },
    {
      "cell_type": "markdown",
      "metadata": {
        "id": "sYD_pW6Oe0i4",
        "colab_type": "text"
      },
      "source": [
        "# Project: Local Differential Privacy\n",
        "\n",
        "As you can see, the basic sum query is not differentially private at all! In truth, differential privacy always requires a form of randomness added to the query. Let me show you what I mean.\n",
        "\n",
        "### Randomized Response (Local Differential Privacy)\n",
        "\n",
        "Let's say I have a group of people I wish to survey about a very taboo behavior which I think they will lie about (say, I want to know if they have ever committed a certain kind of crime). I'm not a policeman, I'm just trying to collect statistics to understand the higher level trend in society. So, how do we do this? One technique is to add randomness to each person's response by giving each person the following instructions (assuming I'm asking a simple yes/no question):\n",
        "\n",
        "- Flip a coin 2 times.\n",
        "- If the first coin flip is heads, answer honestly\n",
        "- If the first coin flip is tails, answer according to the second coin flip (heads for yes, tails for no)!\n",
        "\n",
        "Thus, each person is now protected with \"plausible deniability\". If they answer \"Yes\" to the question \"have you committed X crime?\", then it might becasue they actually did, or it might be becasue they are answering according to a random coin flip. Each person has a high degree of protection. Furthermore, we can recover the underlying statistics with some accuracy, as the \"true statistics\" are simply averaged with a 50% probability. Thus, if we collect a bunch of samples and it turns out that 60% of people answer yes, then we know that the TRUE distribution is actually centered around 70%, because 70% averaged wtih 50% (a coin flip) is 60% which is the result we obtained. \n",
        "\n",
        "However, it should be noted that, especially when we only have a few samples, the this comes at the cost of accuracy. This tradeoff exists across all of Differential Privacy. The greater the privacy protection (plausible deniability) the less accurate the results. \n",
        "\n",
        "Let's implement this local DP for our database before!"
      ]
    },
    {
      "cell_type": "code",
      "metadata": {
        "id": "bICuF801e0i5",
        "colab_type": "code",
        "outputId": "8c90c2e0-9dae-4f65-fbb7-3fe9351c7ebd",
        "colab": {
          "base_uri": "https://localhost:8080/",
          "height": 34
        }
      },
      "source": [
        "coinone=torch.rand(1)>0.5\n",
        "cointwo=torch.rand(1)>0.5\n",
        "print(coinone)\n"
      ],
      "execution_count": 0,
      "outputs": [
        {
          "output_type": "stream",
          "text": [
            "tensor([1], dtype=torch.uint8)\n"
          ],
          "name": "stdout"
        }
      ]
    },
    {
      "cell_type": "code",
      "metadata": {
        "id": "o5gsOyJFe0i6",
        "colab_type": "code",
        "colab": {}
      },
      "source": [
        "db_one,_=create_db_and_parallels(10)\n",
        "db_two,_=create_db_and_parallels(100)\n",
        "db_three,_=create_db_and_parallels(1000)\n",
        "db_four,_=create_db_and_parallels(10000)\n"
      ],
      "execution_count": 0,
      "outputs": []
    },
    {
      "cell_type": "code",
      "metadata": {
        "id": "hCUaCqF2e0i7",
        "colab_type": "code",
        "outputId": "ca20316c-5838-404f-851a-fc92018b05ca",
        "colab": {
          "base_uri": "https://localhost:8080/",
          "height": 85
        }
      },
      "source": [
        "def db_noise(entry):\n",
        "  db,_=create_db_and_parallels(entry)\n",
        "  dbn=torch.zeros(entry)\n",
        "  for i in range(len(db)):\n",
        "    coinone=torch.rand(1)>0.5\n",
        "    cointwo=torch.rand(1)>0.5\n",
        "    if coinone==1:\n",
        "      dbn[i]=db[i]\n",
        "    else:\n",
        "      dbn[i]=cointwo \n",
        "  return db,dbn\n",
        "\n",
        "db_one,db_one_noise=db_noise(10)\n",
        "print(\"simple: {} , noise: {} \".format(db_one.float().mean(),db_one_noise.float().mean()))\n",
        "db_two,db_two_noise=db_noise(100)\n",
        "print(\"simple: {} , noise: {} \".format(db_two.float().mean(),db_two_noise.float().mean()))\n",
        "db_three,db_three_noise=db_noise(1000)\n",
        "print(\"simple: {} , noise: {} \".format(db_three.float().mean(),db_three_noise.float().mean()))\n",
        "db_four,db_four_noise=db_noise(10000)\n",
        "print(\"simple: {} , noise: {} \".format(db_four.float().mean(),db_four_noise.float().mean()))"
      ],
      "execution_count": 0,
      "outputs": [
        {
          "output_type": "stream",
          "text": [
            "simple: 0.6000000238418579 , noise: 0.30000001192092896 \n",
            "simple: 0.5299999713897705 , noise: 0.5099999904632568 \n",
            "simple: 0.4950000047683716 , noise: 0.49799999594688416 \n",
            "simple: 0.5019999742507935 , noise: 0.5019999742507935 \n"
          ],
          "name": "stdout"
        }
      ]
    },
    {
      "cell_type": "code",
      "metadata": {
        "id": "Pfpxq7y-e0i9",
        "colab_type": "code",
        "outputId": "fe687758-b938-4b7f-a645-8ab14fddd705",
        "colab": {
          "base_uri": "https://localhost:8080/",
          "height": 85
        }
      },
      "source": [
        "def db_noise(entry):\n",
        "  db,_=create_db_and_parallels(entry)\n",
        "\n",
        "  coinone=(torch.rand(entry)>0.5).float()\n",
        "  cointwo=(torch.rand(entry)>0.5).float()\n",
        "  dbn=db.float()*coinone+(1-coinone)*cointwo\n",
        "  dbs=((torch.mean(dbn.float()))*2)-0.5\n",
        "  return db,dbn,dbs\n",
        "\n",
        "db_one,db_one_noise,dbs_one=db_noise(10)\n",
        "print(\"simple: {} , noise: {} , deskewed: {}\".format(db_one.float().mean(),db_one_noise.float().mean(),dbs_one))\n",
        "db_two,db_two_noise,dbs_two=db_noise(100)\n",
        "print(\"simple: {} , noise: {} , deskewed: {}\".format(db_two.float().mean(),db_two_noise.float().mean(),dbs_two))\n",
        "db_three,db_three_noise,dbs_three=db_noise(1000)\n",
        "print(\"simple: {} , noise: {} , deskewed: {}\".format(db_three.float().mean(),db_three_noise.float().mean(),dbs_three))\n",
        "db_four,db_four_noise,dbs_four=db_noise(10000)\n",
        "print(\"simple: {} , noise: {} , deskewed: {}\".format(db_four.float().mean(),db_four_noise.float().mean(),dbs_four))"
      ],
      "execution_count": 0,
      "outputs": [
        {
          "output_type": "stream",
          "text": [
            "simple: 0.4000000059604645 , noise: 0.4000000059604645 , deskewed: 0.30000001192092896\n",
            "simple: 0.5799999833106995 , noise: 0.5400000214576721 , deskewed: 0.5800000429153442\n",
            "simple: 0.5350000262260437 , noise: 0.5220000147819519 , deskewed: 0.5440000295639038\n",
            "simple: 0.5016000270843506 , noise: 0.49970000982284546 , deskewed: 0.4994000196456909\n"
          ],
          "name": "stdout"
        }
      ]
    },
    {
      "cell_type": "code",
      "metadata": {
        "id": "67Q03NXKe0i-",
        "colab_type": "code",
        "outputId": "5ee53f23-ac63-4097-907a-d6fea400c135",
        "colab": {
          "base_uri": "https://localhost:8080/",
          "height": 34
        }
      },
      "source": [
        "(mean(db_one_noise)-0.25)*2"
      ],
      "execution_count": 0,
      "outputs": [
        {
          "output_type": "execute_result",
          "data": {
            "text/plain": [
              "tensor(0.1000)"
            ]
          },
          "metadata": {
            "tags": []
          },
          "execution_count": 148
        }
      ]
    },
    {
      "cell_type": "code",
      "metadata": {
        "id": "aK2aWzd8e0jA",
        "colab_type": "code",
        "colab": {}
      },
      "source": [
        ""
      ],
      "execution_count": 0,
      "outputs": []
    },
    {
      "cell_type": "code",
      "metadata": {
        "id": "HJh6OyVOe0jC",
        "colab_type": "code",
        "colab": {}
      },
      "source": [
        ""
      ],
      "execution_count": 0,
      "outputs": []
    },
    {
      "cell_type": "code",
      "metadata": {
        "id": "NESnN09le0jE",
        "colab_type": "code",
        "colab": {}
      },
      "source": [
        ""
      ],
      "execution_count": 0,
      "outputs": []
    },
    {
      "cell_type": "code",
      "metadata": {
        "id": "Z7ruqQH8e0jG",
        "colab_type": "code",
        "colab": {}
      },
      "source": [
        ""
      ],
      "execution_count": 0,
      "outputs": []
    },
    {
      "cell_type": "markdown",
      "metadata": {
        "id": "St--WuvXe0jH",
        "colab_type": "text"
      },
      "source": [
        "# Project: Varying Amounts of Noise\n",
        "\n",
        "In this project, I want you to augment the randomized response query (the one we just wrote) to allow for varying amounts of randomness to be added. Specifically, I want you to bias the coin flip to be higher or lower and then run the same experiment. \n",
        "\n",
        "Note - this one is a bit tricker than you might expect. You need to both adjust the likelihood of the first coin flip AND the de-skewing at the end (where we create the \"augmented_result\" variable)."
      ]
    },
    {
      "cell_type": "code",
      "metadata": {
        "id": "hMVnMQ-le0jH",
        "colab_type": "code",
        "outputId": "f8d089a7-7758-4acd-9acb-338543ba9765",
        "colab": {
          "base_uri": "https://localhost:8080/",
          "height": 85
        }
      },
      "source": [
        "noise=0.1\n",
        "def db_noise(entry,noise):\n",
        "  db,_=create_db_and_parallels(entry)\n",
        "\n",
        "  coinone=(torch.rand(entry)>noise).float()\n",
        "  cointwo=(torch.rand(entry)>0.5).float()\n",
        "  dbn=db.float()*coinone+(1-coinone)*cointwo\n",
        "  dbs=((torch.mean(dbn.float()))-(noise*0.5))/(1-noise)\n",
        "  return db,dbn,dbs\n",
        "\n",
        "db_one,db_one_noise,dbs_one=db_noise(10,noise)\n",
        "print(\"simple: {} , noise: {} , deskewed: {}\".format(db_one.float().mean(),db_one_noise.float().mean(),dbs_one))\n",
        "db_two,db_two_noise,dbs_two=db_noise(100,noise)\n",
        "print(\"simple: {} , noise: {} , deskewed: {}\".format(db_two.float().mean(),db_two_noise.float().mean(),dbs_two))\n",
        "db_three,db_three_noise,dbs_three=db_noise(1000,noise)\n",
        "print(\"simple: {} , noise: {} , deskewed: {}\".format(db_three.float().mean(),db_three_noise.float().mean(),dbs_three))\n",
        "db_four,db_four_noise,dbs_four=db_noise(10000,noise)\n",
        "print(\"simple: {} , noise: {} , deskewed: {}\".format(db_four.float().mean(),db_four_noise.float().mean(),dbs_four))"
      ],
      "execution_count": 0,
      "outputs": [
        {
          "output_type": "stream",
          "text": [
            "simple: 0.20000000298023224 , noise: 0.20000000298023224 , deskewed: 0.1666666716337204\n",
            "simple: 0.41999998688697815 , noise: 0.41999998688697815 , deskewed: 0.41111108660697937\n",
            "simple: 0.49000000953674316 , noise: 0.47600001096725464 , deskewed: 0.47333335876464844\n",
            "simple: 0.49950000643730164 , noise: 0.5013999938964844 , deskewed: 0.5015555620193481\n"
          ],
          "name": "stdout"
        }
      ]
    },
    {
      "cell_type": "code",
      "metadata": {
        "id": "PxvSOgXBe0jJ",
        "colab_type": "code",
        "colab": {}
      },
      "source": [
        ""
      ],
      "execution_count": 0,
      "outputs": []
    },
    {
      "cell_type": "code",
      "metadata": {
        "id": "F6mnszvWe0jL",
        "colab_type": "code",
        "colab": {}
      },
      "source": [
        ""
      ],
      "execution_count": 0,
      "outputs": []
    },
    {
      "cell_type": "code",
      "metadata": {
        "id": "IywVo1R_e0jM",
        "colab_type": "code",
        "colab": {}
      },
      "source": [
        ""
      ],
      "execution_count": 0,
      "outputs": []
    },
    {
      "cell_type": "code",
      "metadata": {
        "id": "hjD4am-8e0jT",
        "colab_type": "code",
        "colab": {}
      },
      "source": [
        ""
      ],
      "execution_count": 0,
      "outputs": []
    },
    {
      "cell_type": "code",
      "metadata": {
        "id": "ePJIfKSIe0jW",
        "colab_type": "code",
        "colab": {}
      },
      "source": [
        ""
      ],
      "execution_count": 0,
      "outputs": []
    },
    {
      "cell_type": "code",
      "metadata": {
        "id": "_MUEHm5Ae0jY",
        "colab_type": "code",
        "colab": {}
      },
      "source": [
        ""
      ],
      "execution_count": 0,
      "outputs": []
    },
    {
      "cell_type": "code",
      "metadata": {
        "id": "gaDVM2pce0ja",
        "colab_type": "code",
        "colab": {}
      },
      "source": [
        ""
      ],
      "execution_count": 0,
      "outputs": []
    },
    {
      "cell_type": "code",
      "metadata": {
        "id": "u91xJWDfe0jd",
        "colab_type": "code",
        "colab": {}
      },
      "source": [
        ""
      ],
      "execution_count": 0,
      "outputs": []
    },
    {
      "cell_type": "code",
      "metadata": {
        "id": "YLpDcjgAe0je",
        "colab_type": "code",
        "colab": {}
      },
      "source": [
        ""
      ],
      "execution_count": 0,
      "outputs": []
    },
    {
      "cell_type": "markdown",
      "metadata": {
        "id": "UoEzZN1Ie0jf",
        "colab_type": "text"
      },
      "source": [
        "# Lesson: The Formal Definition of Differential Privacy\n",
        "\n",
        "The previous method of adding noise was called \"Local Differentail Privacy\" because we added noise to each datapoint individually. This is necessary for some situations wherein the data is SO sensitive that individuals do not trust noise to be added later. However, it comes at a very high cost in terms of accuracy. \n",
        "\n",
        "However, alternatively we can add noise AFTER data has been aggregated by a function. This kind of noise can allow for similar levels of protection with a lower affect on accuracy. However, participants must be able to trust that no-one looked at their datapoints _before_ the aggregation took place. In some situations this works out well, in others (such as an individual hand-surveying a group of people), this is less realistic.\n",
        "\n",
        "Nevertheless, global differential privacy is incredibly important because it allows us to perform differential privacy on smaller groups of individuals with lower amounts of noise. Let's revisit our sum functions."
      ]
    },
    {
      "cell_type": "code",
      "metadata": {
        "id": "gIGXxz1fe0jg",
        "colab_type": "code",
        "outputId": "511d0046-bbc1-40c7-e18b-b3754f3a7a08",
        "colab": {}
      },
      "source": [
        "db, pdbs = create_db_and_parallels(100)\n",
        "\n",
        "def query(db):\n",
        "    return torch.sum(db.float())\n",
        "\n",
        "def M(db):\n",
        "    query(db) + noise\n",
        "\n",
        "query(db)"
      ],
      "execution_count": 0,
      "outputs": [
        {
          "output_type": "execute_result",
          "data": {
            "text/plain": [
              "tensor(40.)"
            ]
          },
          "metadata": {
            "tags": []
          },
          "execution_count": 40
        }
      ]
    },
    {
      "cell_type": "markdown",
      "metadata": {
        "id": "OtCcRNxje0ji",
        "colab_type": "text"
      },
      "source": [
        "So the idea here is that we want to add noise to the output of our function. We actually have two different kinds of noise we can add - Laplacian Noise or Gaussian Noise. However, before we do so at this point we need to dive into the formal definition of Differential Privacy.\n",
        "\n",
        "![alt text](dp_formula.png \"Title\")"
      ]
    },
    {
      "cell_type": "markdown",
      "metadata": {
        "id": "Soj68vzke0ji",
        "colab_type": "text"
      },
      "source": [
        "_Image From: \"The Algorithmic Foundations of Differential Privacy\" - Cynthia Dwork and Aaron Roth - https://www.cis.upenn.edu/~aaroth/Papers/privacybook.pdf_"
      ]
    },
    {
      "cell_type": "markdown",
      "metadata": {
        "id": "3C79So2ge0jj",
        "colab_type": "text"
      },
      "source": [
        "This definition does not _create_ differential privacy, instead it is a measure of how much privacy is afforded by a query M. Specifically, it's a comparison between running the query M on a database (x) and a parallel database (y). As you remember, parallel databases are defined to be the same as a full database (x) with one entry/person removed.\n",
        "\n",
        "Thus, this definition says that FOR ALL parallel databases, the maximum distance between a query on database (x) and the same query on database (y) will be e^epsilon, but that occasionally this constraint won't hold with probability delta. Thus, this theorem is called \"epsilon delta\" differential privacy.\n",
        "\n",
        "# Epsilon\n",
        "\n",
        "Let's unpack the intuition of this for a moment. \n",
        "\n",
        "Epsilon Zero: If a query satisfied this inequality where epsilon was set to 0, then that would mean that the query for all parallel databases outputed the exact same value as the full database. As you may remember, when we calculated the \"threshold\" function, often the Sensitivity was 0. In that case, the epsilon also happened to be zero.\n",
        "\n",
        "Epsilon One: If a query satisfied this inequality with epsilon 1, then the maximum distance between all queries would be 1 - or more precisely - the maximum distance between the two random distributions M(x) and M(y) is 1 (because all these queries have some amount of randomness in them, just like we observed in the last section).\n",
        "\n",
        "# Delta\n",
        "\n",
        "Delta is basically the probability that epsilon breaks. Namely, sometimes the epsilon is different for some queries than it is for others. For example, you may remember when we were calculating the sensitivity of threshold, most of the time sensitivity was 0 but sometimes it was 1. Thus, we could calculate this as \"epsilon zero but non-zero delta\" which would say that epsilon is perfect except for some probability of the time when it's arbitrarily higher. Note that this expression doesn't represent the full tradeoff between epsilon and delta."
      ]
    },
    {
      "cell_type": "markdown",
      "metadata": {
        "id": "JSmkxeRve0jj",
        "colab_type": "text"
      },
      "source": [
        "# Lesson: How To Add Noise for Global Differential Privacy\n",
        "\n",
        "In this lesson, we're going to learn about how to take a query and add varying amounts of noise so that it satisfies a certain degree of differential privacy. In particular, we're going to leave behind the Local Differential privacy previously discussed and instead opt to focus on Global differential privacy. \n",
        "\n",
        "So, to sum up, this lesson is about adding noise to the output of our query so that it satisfies a certain epsilon-delta differential privacy threshold.\n",
        "\n",
        "There are two kinds of noise we can add - Gaussian Noise or Laplacian Noise. Generally speaking Laplacian is better, but both are still valid. Now to the hard question...\n",
        "\n",
        "### How much noise should we add?\n",
        "\n",
        "The amount of noise necessary to add to the output of a query is a function of four things:\n",
        "\n",
        "- the type of noise (Gaussian/Laplacian)\n",
        "- the sensitivity of the query/function\n",
        "- the desired epsilon (ε)\n",
        "- the desired delta (δ)\n",
        "\n",
        "Thus, for each type of noise we're adding, we have different way of calculating how much to add as a function of sensitivity, epsilon, and delta. We're going to focus on Laplacian noise. Laplacian noise is increased/decreased according to a \"scale\" parameter b. We choose \"b\" based on the following formula.\n",
        "\n",
        "b = sensitivity(query) / epsilon\n",
        "\n",
        "In other words, if we set b to be this value, then we know that we will have a privacy leakage of <= epsilon. Furthermore, the nice thing about Laplace is that it guarantees this with delta == 0. There are some tunings where we can have very low epsilon where delta is non-zero, but we'll ignore them for now.\n",
        "\n",
        "### Querying Repeatedly\n",
        "\n",
        "- if we query the database multiple times - we can simply add the epsilons (Even if we change the amount of noise and their epsilons are not the same)."
      ]
    },
    {
      "cell_type": "code",
      "metadata": {
        "id": "-_yQTtgfe0jj",
        "colab_type": "code",
        "colab": {}
      },
      "source": [
        ""
      ],
      "execution_count": 0,
      "outputs": []
    },
    {
      "cell_type": "markdown",
      "metadata": {
        "id": "VWjkIYP2e0jl",
        "colab_type": "text"
      },
      "source": [
        "# Project: Create a Differentially Private Query\n",
        "\n",
        "In this project, I want you to take what you learned in the previous lesson and create a query function which sums over the database and adds just the right amount of noise such that it satisfies an epsilon constraint. Write a query for both \"sum\" and for \"mean\". Ensure that you use the correct sensitivity measures for both."
      ]
    },
    {
      "cell_type": "code",
      "metadata": {
        "id": "ES9PgnrWe0jl",
        "colab_type": "code",
        "colab": {}
      },
      "source": [
        "import torch\n",
        "\n",
        "def get_parallel_dbs(db):\n",
        "  dbs=list()\n",
        "  for i in range(len(db)):\n",
        "    dbs.append(torch.cat((db[:i],db[i+1:])))\n",
        "  return dbs\n",
        "def create_db_and_parallels(num_entries):\n",
        "  db = torch.rand(num_entries) > 0.5\n",
        "  dbs=get_parallel_dbs(db)\n",
        "  return db,dbs\n",
        "\n",
        "def query(db):\n",
        "    return db.sum()\n",
        "\n",
        "def mean(a):\n",
        "   return a.float().mean()\n",
        "  "
      ],
      "execution_count": 0,
      "outputs": []
    },
    {
      "cell_type": "code",
      "metadata": {
        "id": "vsY9SMIPe0jo",
        "colab_type": "code",
        "colab": {}
      },
      "source": [
        "epsilon=0.7\n",
        "\n",
        "import numpy as np\n",
        "\n",
        "def sensitivity_two(func,db,dbs):\n",
        "  result_db=func(db)\n",
        "  sensitivity = 0\n",
        "  \n",
        "  for pdb in dbs:\n",
        "    \n",
        "    pdb_result = func(pdb)\n",
        "    \n",
        "    db_distance = torch.abs(pdb_result - result_db)\n",
        "    \n",
        "    if(db_distance > sensitivity):\n",
        "        sensitivity = db_distance\n",
        "        \n",
        "  return sensitivity"
      ],
      "execution_count": 0,
      "outputs": []
    },
    {
      "cell_type": "code",
      "metadata": {
        "id": "GWJ3OnREe0jq",
        "colab_type": "code",
        "colab": {}
      },
      "source": [
        "        \n",
        "def laplacian_mechanism(entry,query):\n",
        "  db,dbs=create_db_and_parallels(entry)\n",
        "  sen=sensitivity_two(query,db,dbs)\n",
        "  beta=sen/torch.tensor(epsilon)\n",
        "  n1=np.random.laplace(0,beta,1)\n",
        "  noise=torch.tensor(n1)\n",
        "  return query(db),(query(db)+noise)\n",
        "\n",
        "\n"
      ],
      "execution_count": 0,
      "outputs": []
    },
    {
      "cell_type": "code",
      "metadata": {
        "id": "OLHOMLa1e0jr",
        "colab_type": "code",
        "outputId": "772405f5-2922-4011-b4f6-0dd2c9126991",
        "colab": {
          "base_uri": "https://localhost:8080/",
          "height": 85
        }
      },
      "source": [
        "db_one,db_one_noise=laplacian_mechanism(10,mean)\n",
        "print(\"simple: {} , noise: {} \".format(db_one,db_one_noise))\n",
        "db_two,db_two_noise=laplacian_mechanism(100,mean)\n",
        "print(\"simple: {} , noise: {} \".format(db_two,db_two_noise))\n",
        "db_three,db_three_noise=laplacian_mechanism(1000,mean)\n",
        "print(\"simple: {} , noise: {} \".format(db_three,db_three_noise))\n",
        "db_four,db_four_noise=laplacian_mechanism(10000,mean)\n",
        "print(\"simple: {} , noise: {} \".format(db_four,db_four_noise))\n"
      ],
      "execution_count": 0,
      "outputs": [
        {
          "output_type": "stream",
          "text": [
            "simple: 0.5 , noise: tensor([0.5922], dtype=torch.float64) \n",
            "simple: 0.5 , noise: tensor([0.4975], dtype=torch.float64) \n",
            "simple: 0.5320000052452087 , noise: tensor([0.5337], dtype=torch.float64) \n",
            "simple: 0.5026000142097473 , noise: tensor([0.5027], dtype=torch.float64) \n"
          ],
          "name": "stdout"
        }
      ]
    },
    {
      "cell_type": "code",
      "metadata": {
        "id": "YiVU8TDSe0js",
        "colab_type": "code",
        "outputId": "fa16403e-93f9-4e07-ffd7-cf5be1be6737",
        "colab": {
          "base_uri": "https://localhost:8080/",
          "height": 34
        }
      },
      "source": [
        "\n"
      ],
      "execution_count": 0,
      "outputs": [
        {
          "output_type": "stream",
          "text": [
            "tensor(1)\n"
          ],
          "name": "stdout"
        }
      ]
    },
    {
      "cell_type": "code",
      "metadata": {
        "id": "C3rpIq2ye0ju",
        "colab_type": "code",
        "colab": {}
      },
      "source": [
        "\n"
      ],
      "execution_count": 0,
      "outputs": []
    },
    {
      "cell_type": "code",
      "metadata": {
        "id": "L_rjw1lKe0jv",
        "colab_type": "code",
        "colab": {}
      },
      "source": [
        ""
      ],
      "execution_count": 0,
      "outputs": []
    },
    {
      "cell_type": "code",
      "metadata": {
        "id": "TRgnLJN3e0jx",
        "colab_type": "code",
        "colab": {}
      },
      "source": [
        ""
      ],
      "execution_count": 0,
      "outputs": []
    },
    {
      "cell_type": "code",
      "metadata": {
        "id": "8oc936YQe0jy",
        "colab_type": "code",
        "outputId": "d41bb2eb-c3f8-4628-ce4b-fae65ebb5e60",
        "colab": {
          "base_uri": "https://localhost:8080/",
          "height": 85
        }
      },
      "source": [
        ""
      ],
      "execution_count": 0,
      "outputs": [
        {
          "output_type": "stream",
          "text": [
            "simple: 5 , noise: tensor([5.5908], dtype=torch.float64) \n",
            "simple: 51 , noise: tensor([54.5943], dtype=torch.float64) \n",
            "simple: 500 , noise: tensor([498.8116], dtype=torch.float64) \n",
            "simple: 5037 , noise: tensor([5042.9325], dtype=torch.float64) \n"
          ],
          "name": "stdout"
        }
      ]
    },
    {
      "cell_type": "markdown",
      "metadata": {
        "id": "yXGXObCQe0j1",
        "colab_type": "text"
      },
      "source": [
        "# Lesson: Differential Privacy for Deep Learning\n",
        "\n",
        "So in the last lessons you may have been wondering - what does all of this have to do with Deep Learning? Well, these same techniques we were just studying form the core primitives for how Differential Privacy provides guarantees in the context of Deep Learning. \n",
        "\n",
        "Previously, we defined perfect privacy as \"a query to a database returns the same value even if we remove any person from the database\", and used this intuition in the description of epsilon/delta. In the context of deep learning we have a similar standard.\n",
        "\n",
        "Training a model on a dataset should return the same model even if we remove any person from the dataset.\n",
        "\n",
        "Thus, we've replaced \"querying a database\" with \"training a model on a dataset\". In essence, the training process is a kind of query. However, one should note that this adds two points of complexity which database queries did not have:\n",
        "\n",
        "    1. do we always know where \"people\" are referenced in the dataset?\n",
        "    2. neural models rarely never train to the same output model, even on identical data\n",
        "\n",
        "The answer to (1) is to treat each training example as a single, separate person. Strictly speaking, this is often overly zealous as some training examples have no relevance to people and others may have multiple/partial (consider an image with multiple people contained within it). Thus, localizing exactly where \"people\" are referenced, and thus how much your model would change if people were removed, is challenging.\n",
        "\n",
        "The answer to (2) is also an open problem - but several interesitng proposals have been made. We're going to focus on one of the most popular proposals, PATE.\n",
        "\n",
        "## An Example Scenario: A Health Neural Network\n",
        "\n",
        "First we're going to consider a scenario - you work for a hospital and you have a large collection of images about your patients. However, you don't know what's in them. You would like to use these images to develop a neural network which can automatically classify them, however since your images aren't labeled, they aren't sufficient to train a classifier. \n",
        "\n",
        "However, being a cunning strategist, you realize that you can reach out to 10 partner hospitals which DO have annotated data. It is your hope to train your new classifier on their datasets so that you can automatically label your own. While these hospitals are interested in helping, they have privacy concerns regarding information about their patients. Thus, you will use the following technique to train a classifier which protects the privacy of patients in the other hospitals.\n",
        "\n",
        "- 1) You'll ask each of the 10 hospitals to train a model on their own datasets (All of which have the same kinds of labels)\n",
        "- 2) You'll then use each of the 10 partner models to predict on your local dataset, generating 10 labels for each of your datapoints\n",
        "- 3) Then, for each local data point (now with 10 labels), you will perform a DP query to generate the final true label. This query is a \"max\" function, where \"max\" is the most frequent label across the 10 labels. We will need to add laplacian noise to make this Differentially Private to a certain epsilon/delta constraint.\n",
        "- 4) Finally, we will retrain a new model on our local dataset which now has labels. This will be our final \"DP\" model.\n",
        "\n",
        "So, let's walk through these steps. I will assume you're already familiar with how to train/predict a deep neural network, so we'll skip steps 1 and 2 and work with example data. We'll focus instead on step 3, namely how to perform the DP query for each example using toy data.\n",
        "\n",
        "So, let's say we have 10,000 training examples, and we've got 10 labels for each example (from our 10 \"teacher models\" which were trained directly on private data). Each label is chosen from a set of 10 possible labels (categories) for each image."
      ]
    },
    {
      "cell_type": "code",
      "metadata": {
        "id": "sFKWSm6Se0j1",
        "colab_type": "code",
        "colab": {}
      },
      "source": [
        "import numpy as np "
      ],
      "execution_count": 0,
      "outputs": []
    },
    {
      "cell_type": "code",
      "metadata": {
        "id": "q3IIQu6Je0j2",
        "colab_type": "code",
        "colab": {}
      },
      "source": [
        "num_teachers = 10 # we're working with 10 partner hospitals\n",
        "num_examples = 10000 # the size of OUR dataset\n",
        "num_labels = 10 # number of lablels for our classifier"
      ],
      "execution_count": 0,
      "outputs": []
    },
    {
      "cell_type": "code",
      "metadata": {
        "id": "Nbhi3XsNe0j4",
        "colab_type": "code",
        "colab": {}
      },
      "source": [
        "preds = (np.random.rand(num_teachers, num_examples) * num_labels).astype(int).transpose(1,0) # fake predictions\n"
      ],
      "execution_count": 0,
      "outputs": []
    },
    {
      "cell_type": "code",
      "metadata": {
        "id": "kRvjML79I9Tj",
        "colab_type": "code",
        "colab": {
          "base_uri": "https://localhost:8080/",
          "height": 34
        },
        "outputId": "1afb47fb-2a9d-41e8-e2a2-72feab407d52"
      },
      "source": [
        "preds.shape"
      ],
      "execution_count": 159,
      "outputs": [
        {
          "output_type": "execute_result",
          "data": {
            "text/plain": [
              "(10000, 10)"
            ]
          },
          "metadata": {
            "tags": []
          },
          "execution_count": 159
        }
      ]
    },
    {
      "cell_type": "code",
      "metadata": {
        "id": "9c5UVTGEe0j5",
        "colab_type": "code",
        "colab": {}
      },
      "source": [
        "new_labels = list()\n",
        "for an_image in preds:\n",
        "\n",
        "    label_counts = np.bincount(an_image, minlength=num_labels)\n",
        "\n",
        "    epsilon = 0.1\n",
        "    beta = 1 / epsilon\n",
        "\n",
        "    for i in range(len(label_counts)):\n",
        "        label_counts[i] += np.random.laplace(0, beta, 1)\n",
        "\n",
        "    new_label = np.argmax(label_counts)\n",
        "    \n",
        "    new_labels.append(new_label)"
      ],
      "execution_count": 0,
      "outputs": []
    },
    {
      "cell_type": "code",
      "metadata": {
        "id": "NK0BCM-ke0j7",
        "colab_type": "code",
        "colab": {}
      },
      "source": [
        "new_labels"
      ],
      "execution_count": 0,
      "outputs": []
    },
    {
      "cell_type": "markdown",
      "metadata": {
        "id": "iTeL2CBJe0j9",
        "colab_type": "text"
      },
      "source": [
        "# PATE Analysis"
      ]
    },
    {
      "cell_type": "code",
      "metadata": {
        "id": "WNCto0ZAe0j-",
        "colab_type": "code",
        "outputId": "2aeb0b1c-df71-4675-9aa5-dc1d219289b9",
        "colab": {
          "base_uri": "https://localhost:8080/",
          "height": 34
        }
      },
      "source": [
        "labels = np.array([9, 9, 3, 6, 9, 9, 9, 9, 8, 2])\n",
        "counts = np.bincount(labels, minlength=10)\n",
        "query_result = np.argmax(counts)\n",
        "query_result"
      ],
      "execution_count": 0,
      "outputs": [
        {
          "output_type": "execute_result",
          "data": {
            "text/plain": [
              "9"
            ]
          },
          "metadata": {
            "tags": []
          },
          "execution_count": 7
        }
      ]
    },
    {
      "cell_type": "code",
      "metadata": {
        "id": "229sTRWTe0kA",
        "colab_type": "code",
        "colab": {}
      },
      "source": [
        "from syft.frameworks.torch.differential_privacy import pate"
      ],
      "execution_count": 0,
      "outputs": []
    },
    {
      "cell_type": "code",
      "metadata": {
        "id": "qoDbCXZFe0kB",
        "colab_type": "code",
        "outputId": "8ef011d7-3ac0-4a09-c223-778d1ba97bd9",
        "colab": {
          "base_uri": "https://localhost:8080/",
          "height": 34
        }
      },
      "source": [
        "num_teachers, num_examples, num_labels = (100, 100, 10)\n",
        "preds = (np.random.rand(num_teachers, num_examples) * num_labels).astype(int) #fake preds\n",
        "indices = (np.random.rand(num_examples) * num_labels).astype(int) # true answers\n",
        "preds.shape\n",
        "preds[:,0:10] *= 0\n",
        "\n",
        "data_dep_eps, data_ind_eps = pate.perform_analysis(teacher_preds=preds, indices=indices, noise_eps=0.1, delta=1e-5)\n",
        "\n",
        "assert data_dep_eps < data_ind_eps\n",
        "preds.shape\n"
      ],
      "execution_count": 195,
      "outputs": [
        {
          "output_type": "stream",
          "text": [
            "Warning: May not have used enough values of l. Increase 'moments' variable and run again.\n"
          ],
          "name": "stdout"
        }
      ]
    },
    {
      "cell_type": "code",
      "metadata": {
        "id": "0OruLCFXe0kD",
        "colab_type": "code",
        "outputId": "0a1567c5-58b7-4eed-a217-fd30ac1a0a94",
        "colab": {
          "base_uri": "https://localhost:8080/",
          "height": 68
        }
      },
      "source": [
        "data_dep_eps, data_ind_eps = pate.perform_analysis(teacher_preds=preds, indices=indices, noise_eps=0.1, delta=1e-5)\n",
        "print(\"Data Independent Epsilon:\", data_ind_eps)\n",
        "print(\"Data Dependent Epsilon:\", data_dep_eps)"
      ],
      "execution_count": 196,
      "outputs": [
        {
          "output_type": "stream",
          "text": [
            "Warning: May not have used enough values of l. Increase 'moments' variable and run again.\n",
            "Data Independent Epsilon: 11.756462732485115\n",
            "Data Dependent Epsilon: 1.52655213289881\n"
          ],
          "name": "stdout"
        }
      ]
    },
    {
      "cell_type": "code",
      "metadata": {
        "id": "xYxsE9r8e0kF",
        "colab_type": "code",
        "colab": {
          "base_uri": "https://localhost:8080/",
          "height": 102
        },
        "outputId": "51a0790d-9428-4405-b765-8a38f4026a48"
      },
      "source": [
        "preds[:,0:50] *= 0"
      ],
      "execution_count": 198,
      "outputs": [
        {
          "output_type": "execute_result",
          "data": {
            "text/plain": [
              "array([6, 5, 4, 9, 3, 7, 9, 0, 5, 3, 7, 2, 7, 0, 0, 1, 2, 8, 8, 0, 9, 6,\n",
              "       8, 8, 4, 9, 3, 7, 8, 5, 2, 2, 1, 0, 2, 4, 4, 0, 2, 7, 7, 8, 6, 9,\n",
              "       7, 4, 5, 2, 9, 6, 8, 0, 3, 6, 5, 5, 6, 9, 3, 3, 4, 0, 4, 3, 6, 9,\n",
              "       2, 1, 2, 1, 6, 7, 6, 3, 0, 8, 6, 8, 5, 3, 8, 1, 8, 5, 9, 6, 1, 5,\n",
              "       7, 6, 0, 4, 4, 0, 2, 7, 3, 3, 5, 5])"
            ]
          },
          "metadata": {
            "tags": []
          },
          "execution_count": 198
        }
      ]
    },
    {
      "cell_type": "code",
      "metadata": {
        "id": "ZTUI5bL7e0kG",
        "colab_type": "code",
        "outputId": "6dc8b6aa-6a7d-46f0-aced-f16ad5449d2d",
        "colab": {
          "base_uri": "https://localhost:8080/",
          "height": 51
        }
      },
      "source": [
        "data_dep_eps, data_ind_eps = pate.perform_analysis(teacher_preds=preds, indices=indices, noise_eps=0.1, delta=1e-5, moments=20)\n",
        "print(\"Data Independent Epsilon:\", data_ind_eps)\n",
        "print(\"Data Dependent Epsilon:\", data_dep_eps)"
      ],
      "execution_count": 0,
      "outputs": [
        {
          "output_type": "stream",
          "text": [
            "Data Independent Epsilon: 11.756462732485115\n",
            "Data Dependent Epsilon: 0.9029013677789843\n"
          ],
          "name": "stdout"
        }
      ]
    },
    {
      "cell_type": "code",
      "metadata": {
        "id": "MrQC72U8e0kI",
        "colab_type": "code",
        "colab": {}
      },
      "source": [
        ""
      ],
      "execution_count": 0,
      "outputs": []
    },
    {
      "cell_type": "markdown",
      "metadata": {
        "id": "HMJX9i42e0kJ",
        "colab_type": "text"
      },
      "source": [
        "# Where to Go From Here\n",
        "\n",
        "\n",
        "Read:\n",
        "    - Algorithmic Foundations of Differential Privacy: https://www.cis.upenn.edu/~aaroth/Papers/privacybook.pdf\n",
        "    - Deep Learning with Differential Privacy: https://arxiv.org/pdf/1607.00133.pdf\n",
        "    - The Ethical Algorithm: https://www.amazon.com/Ethical-Algorithm-Science-Socially-Design/dp/0190948205\n",
        "   \n",
        "Topics:\n",
        "    - The Exponential Mechanism\n",
        "    - The Moment's Accountant\n",
        "    - Differentially Private Stochastic Gradient Descent\n",
        "\n",
        "Advice:\n",
        "    - For deployments - stick with public frameworks!\n",
        "    - Join the Differential Privacy Community\n",
        "    - Don't get ahead of yourself - DP is still in the early days"
      ]
    },
    {
      "cell_type": "code",
      "metadata": {
        "id": "6M4tSlZIe0kJ",
        "colab_type": "code",
        "colab": {}
      },
      "source": [
        ""
      ],
      "execution_count": 0,
      "outputs": []
    },
    {
      "cell_type": "code",
      "metadata": {
        "id": "Bb4oeZ2Me0kM",
        "colab_type": "code",
        "colab": {}
      },
      "source": [
        ""
      ],
      "execution_count": 0,
      "outputs": []
    },
    {
      "cell_type": "markdown",
      "metadata": {
        "id": "3ANYeCWxe0kN",
        "colab_type": "text"
      },
      "source": [
        "# Section Project:\n",
        "\n",
        "For the final project for this section, you're going to train a DP model using this PATE method on the MNIST dataset, provided below."
      ]
    },
    {
      "cell_type": "code",
      "metadata": {
        "id": "apRK8KDOe0kN",
        "colab_type": "code",
        "colab": {}
      },
      "source": [
        "import torch \n",
        "import torch.nn as nn\n",
        "import torch.nn.functional as f\n",
        "from torch import optim\n",
        "from torchvision import datasets, transforms\n",
        "transform = transforms.Compose([transforms.ToTensor(),\n",
        "                                transforms.Normalize((0.5, 0.5, 0.5), (0.5, 0.5, 0.5)),\n",
        "                              ])\n",
        "mnist_trainset = datasets.MNIST(root='./data', train=True, download=True, transform=transform)\n"
      ],
      "execution_count": 0,
      "outputs": []
    },
    {
      "cell_type": "code",
      "metadata": {
        "id": "Fz50m6FYe0kP",
        "colab_type": "code",
        "outputId": "e9f584e8-be6a-4da1-90da-648a1d667142",
        "colab": {
          "base_uri": "https://localhost:8080/",
          "height": 85
        }
      },
      "source": [
        "train_data = mnist_trainset.train_data\n",
        "train_targets = mnist_trainset.train_labels\n"
      ],
      "execution_count": 101,
      "outputs": [
        {
          "output_type": "stream",
          "text": [
            "/usr/local/lib/python3.6/dist-packages/torchvision/datasets/mnist.py:53: UserWarning: train_data has been renamed data\n",
            "  warnings.warn(\"train_data has been renamed data\")\n",
            "/usr/local/lib/python3.6/dist-packages/torchvision/datasets/mnist.py:43: UserWarning: train_labels has been renamed targets\n",
            "  warnings.warn(\"train_labels has been renamed targets\")\n"
          ],
          "name": "stderr"
        }
      ]
    },
    {
      "cell_type": "code",
      "metadata": {
        "id": "muu-PKmze0kQ",
        "colab_type": "code",
        "outputId": "da509730-faa8-4b94-a0d0-2cc40fa77388",
        "colab": {
          "base_uri": "https://localhost:8080/",
          "height": 85
        }
      },
      "source": [
        "test_data = mnist_trainset.test_data\n",
        "test_targets = mnist_trainset.test_labels"
      ],
      "execution_count": 102,
      "outputs": [
        {
          "output_type": "stream",
          "text": [
            "/usr/local/lib/python3.6/dist-packages/torchvision/datasets/mnist.py:58: UserWarning: test_data has been renamed data\n",
            "  warnings.warn(\"test_data has been renamed data\")\n",
            "/usr/local/lib/python3.6/dist-packages/torchvision/datasets/mnist.py:48: UserWarning: test_labels has been renamed targets\n",
            "  warnings.warn(\"test_labels has been renamed targets\")\n"
          ],
          "name": "stderr"
        }
      ]
    },
    {
      "cell_type": "code",
      "metadata": {
        "id": "UXOtLSwge0kU",
        "colab_type": "code",
        "outputId": "ddc3e71b-8e27-4ee2-e2a0-cdb8459ab78e",
        "colab": {
          "base_uri": "https://localhost:8080/",
          "height": 221
        }
      },
      "source": [
        "train_data_one=train_data[:10000,:]\n",
        "print(train_data_one.shape)\n",
        "train_targets_one=train_targets[:10000]\n",
        "print(train_targets_one.shape)\n",
        "train_data_two=train_data[10000:20000,:]\n",
        "print(train_data_two.shape)\n",
        "train_targets_two=train_targets[10000:20000]\n",
        "print(train_targets_two.shape)\n",
        "train_data_three=train_data[20000:30000,:]\n",
        "print(train_data_three.shape)\n",
        "train_targets_three=train_targets[20000:30000]\n",
        "print(train_targets_three.shape)\n",
        "train_data_four=train_data[30000:40000,:]\n",
        "print(train_data_four.shape)\n",
        "train_targets_four=train_targets[30000:40000]\n",
        "print(train_targets_four.shape)\n",
        "train_data_five=train_data[40000:50000,:]\n",
        "print(train_data_five.shape)\n",
        "train_targets_five=train_targets[40000:50000]\n",
        "print(train_targets_five.shape)\n",
        "train_data_six=train_data[50000:,:]\n",
        "print(train_data_six.shape)\n",
        "train_targets_six=train_targets[50000:]\n",
        "print(train_targets_six.shape)\n",
        "# model=nn.Sequencial()\n"
      ],
      "execution_count": 76,
      "outputs": [
        {
          "output_type": "stream",
          "text": [
            "torch.Size([10000, 28, 28])\n",
            "torch.Size([10000])\n",
            "torch.Size([10000, 28, 28])\n",
            "torch.Size([10000])\n",
            "torch.Size([10000, 28, 28])\n",
            "torch.Size([10000])\n",
            "torch.Size([10000, 28, 28])\n",
            "torch.Size([10000])\n",
            "torch.Size([10000, 28, 28])\n",
            "torch.Size([10000])\n",
            "torch.Size([10000, 28, 28])\n",
            "torch.Size([10000])\n"
          ],
          "name": "stdout"
        }
      ]
    },
    {
      "cell_type": "code",
      "metadata": {
        "id": "6ddVRJo6yAh8",
        "colab_type": "code",
        "colab": {}
      },
      "source": [
        "\n",
        "from torch.utils.data import TensorDataset,DataLoader\n",
        "batch_size=100\n",
        "def data_label(data,targets,size):\n",
        "  dataset=TensorDataset(data,targets)\n",
        "  data=DataLoader(dataset,batch_size=size,shuffle=True)\n",
        "  return data\n",
        "def data_label_test(data,targets,size):\n",
        "  dataset=TensorDataset(data,targets)\n",
        "  data=DataLoader(dataset,batch_size=size,shuffle=False)\n",
        "  return data"
      ],
      "execution_count": 0,
      "outputs": []
    },
    {
      "cell_type": "code",
      "metadata": {
        "id": "-wOifwWkyAsq",
        "colab_type": "code",
        "colab": {}
      },
      "source": [
        "class digit_classifier(nn.Module):\n",
        "    def __init__(self):\n",
        "        super().__init__()\n",
        "        self.fc1=nn.Linear(784,256)\n",
        "        self.fc2=nn.Linear(256,128)\n",
        "        self.fc3=nn.Linear(128,100)\n",
        "        self.fc4=nn.Linear(100,10)\n",
        "        \n",
        "        self.dropout=nn.Dropout(p=0.2)\n",
        "        \n",
        "    def forward(self,x):\n",
        "        x = x.view(x.shape[0], -1)\n",
        "        x=self.dropout(f.relu(self.fc1(x)))\n",
        "        x=self.dropout(f.relu(self.fc2(x)))\n",
        "        x=self.dropout(f.relu(self.fc3(x)))\n",
        "        \n",
        "        x=f.log_softmax(self.fc4(x),dim=1)\n",
        "        return x\n",
        "      "
      ],
      "execution_count": 0,
      "outputs": []
    },
    {
      "cell_type": "code",
      "metadata": {
        "id": "tXWP8o2myAw6",
        "colab_type": "code",
        "colab": {}
      },
      "source": [
        "model=digit_classifier()\n",
        "criterion = nn.NLLLoss()\n",
        "optimizer = optim.Adam(model.parameters(), lr=0.003)\n",
        "epochs = 30\n",
        "steps = 0\n",
        "train_losses, test_losses = [], []\n",
        "size=100\n",
        "teachers=list()\n",
        "student=list()\n",
        "testloader=data_label_test(test_data,test_targets,size)\n"
      ],
      "execution_count": 0,
      "outputs": []
    },
    {
      "cell_type": "code",
      "metadata": {
        "id": "mBxC-cy8y3Wr",
        "colab_type": "code",
        "colab": {
          "base_uri": "https://localhost:8080/",
          "height": 1000
        },
        "outputId": "df48123e-5c24-46f3-ec85-2402324f4bf6"
      },
      "source": [
        "teacher.clear()\n",
        "for i in range(6):\n",
        "  model=digit_classifier()\n",
        "  criterion = nn.NLLLoss()\n",
        "  optimizer = optim.Adam(model.parameters(), lr=0.003)\n",
        "  epochs = 30\n",
        "  steps = 0\n",
        "  train_losses, test_losses = [], []\n",
        "  size=100\n",
        "  data=train_data[i*10000:((i+1)*10000),:]\n",
        "  label=train_targets[i*10000:((i+1)*10000)]\n",
        "  trainloader=data_label(data,label,size)\n",
        "  for e in range(epochs):\n",
        "      running_loss = 0\n",
        "      for images, labels in trainloader:\n",
        "          images=images.float()\n",
        "          optimizer.zero_grad()\n",
        "\n",
        "          log_ps = model(images)\n",
        "          loss = criterion(log_ps, labels)\n",
        "          loss.backward()\n",
        "          optimizer.step()\n",
        "\n",
        "          running_loss += loss.item()\n",
        "      else:\n",
        "          test_loss=0\n",
        "          accuracy=0\n",
        "          with torch.no_grad():\n",
        "              model.eval()\n",
        "          # validation pass here\n",
        "              for images, labels in testloader:\n",
        "                  images=images.float()\n",
        "                  val=model(images)\n",
        "                  test_loss += criterion(val, labels)\n",
        "                  val_prob= torch.exp(val)\n",
        "                  top_p, top_class = val_prob.topk(1, dim=1)\n",
        "                  \n",
        "                  equals = top_class == labels.view(*top_class.shape)\n",
        "                  accuracy += torch.mean(equals.type(torch.FloatTensor))\n",
        "          model.train()\n",
        "          train_losses.append(running_loss/len(trainloader))\n",
        "          test_losses.append(test_loss/len(testloader))\n",
        "          print(\"Epoch:{}/{}.. \".format(e+1, epochs),\n",
        "               \"Training Loss: {:.3f}.. \".format(running_loss/len(trainloader)),\n",
        "               \"Test Loss: {:.3f}.. \".format(test_loss/len(testloader)),\n",
        "               \"Test Accuracy: {:.3f}\".format(accuracy/len(testloader)))\n",
        "  else:\n",
        "    with torch.no_grad():\n",
        "              model.eval()\n",
        "          # validation pass here\n",
        "              for images, labels in testloader:\n",
        "                  images=images.float()\n",
        "                  val=model(images)\n",
        "                  val_prob= torch.exp(val)\n",
        "                  top_p, top_class = val_prob.topk(1, dim=1)\n",
        "                  student.append(top_class)\n",
        "              teacher.append(list(student))\n",
        "              student.clear()\n",
        "    model.train()\n",
        "    "
      ],
      "execution_count": 121,
      "outputs": [
        {
          "output_type": "stream",
          "text": [
            "Epoch:1/30..  Training Loss: 1.117..  Test Loss: 0.329..  Test Accuracy: 0.904\n",
            "Epoch:2/30..  Training Loss: 0.436..  Test Loss: 0.267..  Test Accuracy: 0.922\n",
            "Epoch:3/30..  Training Loss: 0.338..  Test Loss: 0.255..  Test Accuracy: 0.929\n",
            "Epoch:4/30..  Training Loss: 0.318..  Test Loss: 0.273..  Test Accuracy: 0.920\n",
            "Epoch:5/30..  Training Loss: 0.273..  Test Loss: 0.234..  Test Accuracy: 0.937\n",
            "Epoch:6/30..  Training Loss: 0.254..  Test Loss: 0.220..  Test Accuracy: 0.942\n",
            "Epoch:7/30..  Training Loss: 0.242..  Test Loss: 0.249..  Test Accuracy: 0.937\n",
            "Epoch:8/30..  Training Loss: 0.236..  Test Loss: 0.226..  Test Accuracy: 0.943\n",
            "Epoch:9/30..  Training Loss: 0.227..  Test Loss: 0.224..  Test Accuracy: 0.945\n",
            "Epoch:10/30..  Training Loss: 0.230..  Test Loss: 0.228..  Test Accuracy: 0.944\n",
            "Epoch:11/30..  Training Loss: 0.200..  Test Loss: 0.229..  Test Accuracy: 0.948\n",
            "Epoch:12/30..  Training Loss: 0.179..  Test Loss: 0.226..  Test Accuracy: 0.947\n",
            "Epoch:13/30..  Training Loss: 0.207..  Test Loss: 0.277..  Test Accuracy: 0.935\n",
            "Epoch:14/30..  Training Loss: 0.196..  Test Loss: 0.256..  Test Accuracy: 0.947\n",
            "Epoch:15/30..  Training Loss: 0.219..  Test Loss: 0.274..  Test Accuracy: 0.940\n",
            "Epoch:16/30..  Training Loss: 0.245..  Test Loss: 0.260..  Test Accuracy: 0.941\n",
            "Epoch:17/30..  Training Loss: 0.208..  Test Loss: 0.259..  Test Accuracy: 0.946\n",
            "Epoch:18/30..  Training Loss: 0.184..  Test Loss: 0.254..  Test Accuracy: 0.950\n",
            "Epoch:19/30..  Training Loss: 0.196..  Test Loss: 0.243..  Test Accuracy: 0.949\n",
            "Epoch:20/30..  Training Loss: 0.173..  Test Loss: 0.238..  Test Accuracy: 0.948\n",
            "Epoch:21/30..  Training Loss: 0.186..  Test Loss: 0.256..  Test Accuracy: 0.947\n",
            "Epoch:22/30..  Training Loss: 0.196..  Test Loss: 0.285..  Test Accuracy: 0.947\n",
            "Epoch:23/30..  Training Loss: 0.178..  Test Loss: 0.291..  Test Accuracy: 0.948\n",
            "Epoch:24/30..  Training Loss: 0.182..  Test Loss: 0.283..  Test Accuracy: 0.948\n",
            "Epoch:25/30..  Training Loss: 0.223..  Test Loss: 0.303..  Test Accuracy: 0.949\n",
            "Epoch:26/30..  Training Loss: 0.201..  Test Loss: 0.269..  Test Accuracy: 0.946\n",
            "Epoch:27/30..  Training Loss: 0.213..  Test Loss: 0.334..  Test Accuracy: 0.941\n",
            "Epoch:28/30..  Training Loss: 0.245..  Test Loss: 0.311..  Test Accuracy: 0.948\n",
            "Epoch:29/30..  Training Loss: 0.194..  Test Loss: 0.324..  Test Accuracy: 0.945\n",
            "Epoch:30/30..  Training Loss: 0.197..  Test Loss: 0.296..  Test Accuracy: 0.947\n",
            "Epoch:1/30..  Training Loss: 1.116..  Test Loss: 0.343..  Test Accuracy: 0.901\n",
            "Epoch:2/30..  Training Loss: 0.430..  Test Loss: 0.283..  Test Accuracy: 0.922\n",
            "Epoch:3/30..  Training Loss: 0.354..  Test Loss: 0.252..  Test Accuracy: 0.933\n",
            "Epoch:4/30..  Training Loss: 0.326..  Test Loss: 0.264..  Test Accuracy: 0.932\n",
            "Epoch:5/30..  Training Loss: 0.290..  Test Loss: 0.216..  Test Accuracy: 0.940\n",
            "Epoch:6/30..  Training Loss: 0.244..  Test Loss: 0.234..  Test Accuracy: 0.941\n",
            "Epoch:7/30..  Training Loss: 0.222..  Test Loss: 0.269..  Test Accuracy: 0.934\n",
            "Epoch:8/30..  Training Loss: 0.220..  Test Loss: 0.206..  Test Accuracy: 0.950\n",
            "Epoch:9/30..  Training Loss: 0.207..  Test Loss: 0.209..  Test Accuracy: 0.951\n",
            "Epoch:10/30..  Training Loss: 0.211..  Test Loss: 0.234..  Test Accuracy: 0.945\n",
            "Epoch:11/30..  Training Loss: 0.207..  Test Loss: 0.219..  Test Accuracy: 0.948\n",
            "Epoch:12/30..  Training Loss: 0.226..  Test Loss: 0.235..  Test Accuracy: 0.943\n",
            "Epoch:13/30..  Training Loss: 0.211..  Test Loss: 0.250..  Test Accuracy: 0.949\n",
            "Epoch:14/30..  Training Loss: 0.203..  Test Loss: 0.220..  Test Accuracy: 0.950\n",
            "Epoch:15/30..  Training Loss: 0.219..  Test Loss: 0.252..  Test Accuracy: 0.947\n",
            "Epoch:16/30..  Training Loss: 0.193..  Test Loss: 0.253..  Test Accuracy: 0.951\n",
            "Epoch:17/30..  Training Loss: 0.199..  Test Loss: 0.269..  Test Accuracy: 0.948\n",
            "Epoch:18/30..  Training Loss: 0.193..  Test Loss: 0.270..  Test Accuracy: 0.947\n",
            "Epoch:19/30..  Training Loss: 0.186..  Test Loss: 0.269..  Test Accuracy: 0.948\n",
            "Epoch:20/30..  Training Loss: 0.193..  Test Loss: 0.247..  Test Accuracy: 0.953\n",
            "Epoch:21/30..  Training Loss: 0.190..  Test Loss: 0.269..  Test Accuracy: 0.953\n",
            "Epoch:22/30..  Training Loss: 0.204..  Test Loss: 0.285..  Test Accuracy: 0.949\n",
            "Epoch:23/30..  Training Loss: 0.185..  Test Loss: 0.258..  Test Accuracy: 0.950\n",
            "Epoch:24/30..  Training Loss: 0.181..  Test Loss: 0.334..  Test Accuracy: 0.950\n",
            "Epoch:25/30..  Training Loss: 0.207..  Test Loss: 0.257..  Test Accuracy: 0.953\n",
            "Epoch:26/30..  Training Loss: 0.176..  Test Loss: 0.303..  Test Accuracy: 0.950\n",
            "Epoch:27/30..  Training Loss: 0.207..  Test Loss: 0.313..  Test Accuracy: 0.952\n",
            "Epoch:28/30..  Training Loss: 0.194..  Test Loss: 0.292..  Test Accuracy: 0.947\n",
            "Epoch:29/30..  Training Loss: 0.175..  Test Loss: 0.312..  Test Accuracy: 0.954\n",
            "Epoch:30/30..  Training Loss: 0.191..  Test Loss: 0.315..  Test Accuracy: 0.948\n",
            "Epoch:1/30..  Training Loss: 1.314..  Test Loss: 0.327..  Test Accuracy: 0.903\n",
            "Epoch:2/30..  Training Loss: 0.448..  Test Loss: 0.263..  Test Accuracy: 0.926\n",
            "Epoch:3/30..  Training Loss: 0.350..  Test Loss: 0.282..  Test Accuracy: 0.921\n",
            "Epoch:4/30..  Training Loss: 0.300..  Test Loss: 0.242..  Test Accuracy: 0.932\n",
            "Epoch:5/30..  Training Loss: 0.289..  Test Loss: 0.238..  Test Accuracy: 0.933\n",
            "Epoch:6/30..  Training Loss: 0.256..  Test Loss: 0.226..  Test Accuracy: 0.938\n",
            "Epoch:7/30..  Training Loss: 0.237..  Test Loss: 0.206..  Test Accuracy: 0.944\n",
            "Epoch:8/30..  Training Loss: 0.255..  Test Loss: 0.205..  Test Accuracy: 0.945\n",
            "Epoch:9/30..  Training Loss: 0.220..  Test Loss: 0.200..  Test Accuracy: 0.947\n",
            "Epoch:10/30..  Training Loss: 0.196..  Test Loss: 0.213..  Test Accuracy: 0.946\n",
            "Epoch:11/30..  Training Loss: 0.193..  Test Loss: 0.202..  Test Accuracy: 0.950\n",
            "Epoch:12/30..  Training Loss: 0.222..  Test Loss: 0.215..  Test Accuracy: 0.945\n",
            "Epoch:13/30..  Training Loss: 0.220..  Test Loss: 0.255..  Test Accuracy: 0.944\n",
            "Epoch:14/30..  Training Loss: 0.209..  Test Loss: 0.240..  Test Accuracy: 0.947\n",
            "Epoch:15/30..  Training Loss: 0.208..  Test Loss: 0.255..  Test Accuracy: 0.941\n",
            "Epoch:16/30..  Training Loss: 0.237..  Test Loss: 0.238..  Test Accuracy: 0.944\n",
            "Epoch:17/30..  Training Loss: 0.217..  Test Loss: 0.242..  Test Accuracy: 0.942\n",
            "Epoch:18/30..  Training Loss: 0.202..  Test Loss: 0.260..  Test Accuracy: 0.944\n",
            "Epoch:19/30..  Training Loss: 0.178..  Test Loss: 0.224..  Test Accuracy: 0.949\n",
            "Epoch:20/30..  Training Loss: 0.186..  Test Loss: 0.270..  Test Accuracy: 0.944\n",
            "Epoch:21/30..  Training Loss: 0.183..  Test Loss: 0.253..  Test Accuracy: 0.950\n",
            "Epoch:22/30..  Training Loss: 0.169..  Test Loss: 0.269..  Test Accuracy: 0.950\n",
            "Epoch:23/30..  Training Loss: 0.221..  Test Loss: 0.271..  Test Accuracy: 0.946\n",
            "Epoch:24/30..  Training Loss: 0.190..  Test Loss: 0.278..  Test Accuracy: 0.949\n",
            "Epoch:25/30..  Training Loss: 0.184..  Test Loss: 0.293..  Test Accuracy: 0.945\n",
            "Epoch:26/30..  Training Loss: 0.221..  Test Loss: 0.288..  Test Accuracy: 0.950\n",
            "Epoch:27/30..  Training Loss: 0.218..  Test Loss: 0.321..  Test Accuracy: 0.941\n",
            "Epoch:28/30..  Training Loss: 0.210..  Test Loss: 0.306..  Test Accuracy: 0.946\n",
            "Epoch:29/30..  Training Loss: 0.226..  Test Loss: 0.288..  Test Accuracy: 0.950\n",
            "Epoch:30/30..  Training Loss: 0.204..  Test Loss: 0.282..  Test Accuracy: 0.945\n",
            "Epoch:1/30..  Training Loss: 1.047..  Test Loss: 0.332..  Test Accuracy: 0.906\n",
            "Epoch:2/30..  Training Loss: 0.478..  Test Loss: 0.338..  Test Accuracy: 0.906\n",
            "Epoch:3/30..  Training Loss: 0.366..  Test Loss: 0.293..  Test Accuracy: 0.920\n",
            "Epoch:4/30..  Training Loss: 0.320..  Test Loss: 0.286..  Test Accuracy: 0.922\n",
            "Epoch:5/30..  Training Loss: 0.295..  Test Loss: 0.247..  Test Accuracy: 0.936\n",
            "Epoch:6/30..  Training Loss: 0.270..  Test Loss: 0.210..  Test Accuracy: 0.943\n",
            "Epoch:7/30..  Training Loss: 0.238..  Test Loss: 0.211..  Test Accuracy: 0.945\n",
            "Epoch:8/30..  Training Loss: 0.234..  Test Loss: 0.223..  Test Accuracy: 0.943\n",
            "Epoch:9/30..  Training Loss: 0.232..  Test Loss: 0.225..  Test Accuracy: 0.946\n",
            "Epoch:10/30..  Training Loss: 0.220..  Test Loss: 0.253..  Test Accuracy: 0.938\n",
            "Epoch:11/30..  Training Loss: 0.245..  Test Loss: 0.242..  Test Accuracy: 0.945\n",
            "Epoch:12/30..  Training Loss: 0.229..  Test Loss: 0.225..  Test Accuracy: 0.949\n",
            "Epoch:13/30..  Training Loss: 0.223..  Test Loss: 0.210..  Test Accuracy: 0.947\n",
            "Epoch:14/30..  Training Loss: 0.239..  Test Loss: 0.263..  Test Accuracy: 0.944\n",
            "Epoch:15/30..  Training Loss: 0.243..  Test Loss: 0.242..  Test Accuracy: 0.948\n",
            "Epoch:16/30..  Training Loss: 0.226..  Test Loss: 0.301..  Test Accuracy: 0.939\n",
            "Epoch:17/30..  Training Loss: 0.212..  Test Loss: 0.290..  Test Accuracy: 0.950\n",
            "Epoch:18/30..  Training Loss: 0.195..  Test Loss: 0.273..  Test Accuracy: 0.946\n",
            "Epoch:19/30..  Training Loss: 0.181..  Test Loss: 0.254..  Test Accuracy: 0.953\n",
            "Epoch:20/30..  Training Loss: 0.209..  Test Loss: 0.271..  Test Accuracy: 0.950\n",
            "Epoch:21/30..  Training Loss: 0.189..  Test Loss: 0.268..  Test Accuracy: 0.954\n",
            "Epoch:22/30..  Training Loss: 0.198..  Test Loss: 0.315..  Test Accuracy: 0.950\n",
            "Epoch:23/30..  Training Loss: 0.184..  Test Loss: 0.354..  Test Accuracy: 0.947\n",
            "Epoch:24/30..  Training Loss: 0.242..  Test Loss: 0.267..  Test Accuracy: 0.950\n",
            "Epoch:25/30..  Training Loss: 0.175..  Test Loss: 0.303..  Test Accuracy: 0.953\n",
            "Epoch:26/30..  Training Loss: 0.209..  Test Loss: 0.336..  Test Accuracy: 0.950\n",
            "Epoch:27/30..  Training Loss: 0.198..  Test Loss: 0.297..  Test Accuracy: 0.951\n",
            "Epoch:28/30..  Training Loss: 0.212..  Test Loss: 0.293..  Test Accuracy: 0.948\n",
            "Epoch:29/30..  Training Loss: 0.222..  Test Loss: 0.292..  Test Accuracy: 0.947\n",
            "Epoch:30/30..  Training Loss: 0.204..  Test Loss: 0.315..  Test Accuracy: 0.947\n",
            "Epoch:1/30..  Training Loss: 1.095..  Test Loss: 0.330..  Test Accuracy: 0.907\n",
            "Epoch:2/30..  Training Loss: 0.437..  Test Loss: 0.274..  Test Accuracy: 0.924\n",
            "Epoch:3/30..  Training Loss: 0.354..  Test Loss: 0.246..  Test Accuracy: 0.933\n",
            "Epoch:4/30..  Training Loss: 0.307..  Test Loss: 0.218..  Test Accuracy: 0.939\n",
            "Epoch:5/30..  Training Loss: 0.275..  Test Loss: 0.273..  Test Accuracy: 0.927\n",
            "Epoch:6/30..  Training Loss: 0.275..  Test Loss: 0.243..  Test Accuracy: 0.943\n",
            "Epoch:7/30..  Training Loss: 0.266..  Test Loss: 0.243..  Test Accuracy: 0.939\n",
            "Epoch:8/30..  Training Loss: 0.249..  Test Loss: 0.253..  Test Accuracy: 0.934\n",
            "Epoch:9/30..  Training Loss: 0.255..  Test Loss: 0.231..  Test Accuracy: 0.944\n",
            "Epoch:10/30..  Training Loss: 0.221..  Test Loss: 0.243..  Test Accuracy: 0.946\n",
            "Epoch:11/30..  Training Loss: 0.234..  Test Loss: 0.234..  Test Accuracy: 0.948\n",
            "Epoch:12/30..  Training Loss: 0.225..  Test Loss: 0.240..  Test Accuracy: 0.946\n",
            "Epoch:13/30..  Training Loss: 0.216..  Test Loss: 0.254..  Test Accuracy: 0.948\n",
            "Epoch:14/30..  Training Loss: 0.229..  Test Loss: 0.295..  Test Accuracy: 0.935\n",
            "Epoch:15/30..  Training Loss: 0.249..  Test Loss: 0.287..  Test Accuracy: 0.942\n",
            "Epoch:16/30..  Training Loss: 0.241..  Test Loss: 0.263..  Test Accuracy: 0.947\n",
            "Epoch:17/30..  Training Loss: 0.198..  Test Loss: 0.236..  Test Accuracy: 0.950\n",
            "Epoch:18/30..  Training Loss: 0.192..  Test Loss: 0.296..  Test Accuracy: 0.947\n",
            "Epoch:19/30..  Training Loss: 0.202..  Test Loss: 0.281..  Test Accuracy: 0.950\n",
            "Epoch:20/30..  Training Loss: 0.225..  Test Loss: 0.272..  Test Accuracy: 0.947\n",
            "Epoch:21/30..  Training Loss: 0.199..  Test Loss: 0.276..  Test Accuracy: 0.949\n",
            "Epoch:22/30..  Training Loss: 0.209..  Test Loss: 0.298..  Test Accuracy: 0.950\n",
            "Epoch:23/30..  Training Loss: 0.202..  Test Loss: 0.303..  Test Accuracy: 0.947\n",
            "Epoch:24/30..  Training Loss: 0.190..  Test Loss: 0.301..  Test Accuracy: 0.947\n",
            "Epoch:25/30..  Training Loss: 0.202..  Test Loss: 0.308..  Test Accuracy: 0.946\n",
            "Epoch:26/30..  Training Loss: 0.204..  Test Loss: 0.308..  Test Accuracy: 0.949\n",
            "Epoch:27/30..  Training Loss: 0.190..  Test Loss: 0.346..  Test Accuracy: 0.944\n",
            "Epoch:28/30..  Training Loss: 0.206..  Test Loss: 0.302..  Test Accuracy: 0.947\n",
            "Epoch:29/30..  Training Loss: 0.168..  Test Loss: 0.301..  Test Accuracy: 0.952\n",
            "Epoch:30/30..  Training Loss: 0.161..  Test Loss: 0.332..  Test Accuracy: 0.949\n",
            "Epoch:1/30..  Training Loss: 1.059..  Test Loss: 0.350..  Test Accuracy: 0.899\n",
            "Epoch:2/30..  Training Loss: 0.379..  Test Loss: 0.314..  Test Accuracy: 0.915\n",
            "Epoch:3/30..  Training Loss: 0.346..  Test Loss: 0.320..  Test Accuracy: 0.908\n",
            "Epoch:4/30..  Training Loss: 0.281..  Test Loss: 0.286..  Test Accuracy: 0.923\n",
            "Epoch:5/30..  Training Loss: 0.237..  Test Loss: 0.257..  Test Accuracy: 0.936\n",
            "Epoch:6/30..  Training Loss: 0.223..  Test Loss: 0.289..  Test Accuracy: 0.926\n",
            "Epoch:7/30..  Training Loss: 0.232..  Test Loss: 0.260..  Test Accuracy: 0.933\n",
            "Epoch:8/30..  Training Loss: 0.209..  Test Loss: 0.223..  Test Accuracy: 0.941\n",
            "Epoch:9/30..  Training Loss: 0.204..  Test Loss: 0.222..  Test Accuracy: 0.943\n",
            "Epoch:10/30..  Training Loss: 0.198..  Test Loss: 0.260..  Test Accuracy: 0.938\n",
            "Epoch:11/30..  Training Loss: 0.201..  Test Loss: 0.251..  Test Accuracy: 0.944\n",
            "Epoch:12/30..  Training Loss: 0.200..  Test Loss: 0.273..  Test Accuracy: 0.940\n",
            "Epoch:13/30..  Training Loss: 0.185..  Test Loss: 0.258..  Test Accuracy: 0.944\n",
            "Epoch:14/30..  Training Loss: 0.186..  Test Loss: 0.269..  Test Accuracy: 0.942\n",
            "Epoch:15/30..  Training Loss: 0.217..  Test Loss: 0.240..  Test Accuracy: 0.948\n",
            "Epoch:16/30..  Training Loss: 0.170..  Test Loss: 0.257..  Test Accuracy: 0.946\n",
            "Epoch:17/30..  Training Loss: 0.184..  Test Loss: 0.279..  Test Accuracy: 0.945\n",
            "Epoch:18/30..  Training Loss: 0.176..  Test Loss: 0.266..  Test Accuracy: 0.941\n",
            "Epoch:19/30..  Training Loss: 0.186..  Test Loss: 0.237..  Test Accuracy: 0.950\n",
            "Epoch:20/30..  Training Loss: 0.161..  Test Loss: 0.277..  Test Accuracy: 0.942\n",
            "Epoch:21/30..  Training Loss: 0.178..  Test Loss: 0.298..  Test Accuracy: 0.942\n",
            "Epoch:22/30..  Training Loss: 0.164..  Test Loss: 0.279..  Test Accuracy: 0.944\n",
            "Epoch:23/30..  Training Loss: 0.167..  Test Loss: 0.291..  Test Accuracy: 0.945\n",
            "Epoch:24/30..  Training Loss: 0.178..  Test Loss: 0.330..  Test Accuracy: 0.941\n",
            "Epoch:25/30..  Training Loss: 0.160..  Test Loss: 0.348..  Test Accuracy: 0.949\n",
            "Epoch:26/30..  Training Loss: 0.201..  Test Loss: 0.411..  Test Accuracy: 0.929\n",
            "Epoch:27/30..  Training Loss: 0.193..  Test Loss: 0.345..  Test Accuracy: 0.938\n",
            "Epoch:28/30..  Training Loss: 0.174..  Test Loss: 0.331..  Test Accuracy: 0.943\n",
            "Epoch:29/30..  Training Loss: 0.228..  Test Loss: 0.385..  Test Accuracy: 0.938\n",
            "Epoch:30/30..  Training Loss: 0.220..  Test Loss: 0.380..  Test Accuracy: 0.943\n"
          ],
          "name": "stdout"
        }
      ]
    },
    {
      "cell_type": "code",
      "metadata": {
        "id": "Gbiv-Zz7y3oy",
        "colab_type": "code",
        "colab": {
          "base_uri": "https://localhost:8080/",
          "height": 198
        },
        "outputId": "6f4dc6be-3baf-4f6a-c7f0-48d974402835"
      },
      "source": [
        "\n",
        "b=torch.tensor(5)\n",
        "a=torch.distributions.laplace.Laplace(0, 2)\n",
        "b=a+b"
      ],
      "execution_count": 173,
      "outputs": [
        {
          "output_type": "error",
          "ename": "TypeError",
          "evalue": "ignored",
          "traceback": [
            "\u001b[0;31m---------------------------------------------------------------------------\u001b[0m",
            "\u001b[0;31mTypeError\u001b[0m                                 Traceback (most recent call last)",
            "\u001b[0;32m<ipython-input-173-b62878ea9a72>\u001b[0m in \u001b[0;36m<module>\u001b[0;34m()\u001b[0m\n\u001b[1;32m      2\u001b[0m \u001b[0mb\u001b[0m\u001b[0;34m=\u001b[0m\u001b[0mtorch\u001b[0m\u001b[0;34m.\u001b[0m\u001b[0mtensor\u001b[0m\u001b[0;34m(\u001b[0m\u001b[0;36m5\u001b[0m\u001b[0;34m)\u001b[0m\u001b[0;34m\u001b[0m\u001b[0;34m\u001b[0m\u001b[0m\n\u001b[1;32m      3\u001b[0m \u001b[0ma\u001b[0m\u001b[0;34m=\u001b[0m\u001b[0mtorch\u001b[0m\u001b[0;34m.\u001b[0m\u001b[0mdistributions\u001b[0m\u001b[0;34m.\u001b[0m\u001b[0mlaplace\u001b[0m\u001b[0;34m.\u001b[0m\u001b[0mLaplace\u001b[0m\u001b[0;34m(\u001b[0m\u001b[0;36m0\u001b[0m\u001b[0;34m,\u001b[0m \u001b[0;36m2\u001b[0m\u001b[0;34m)\u001b[0m\u001b[0;34m\u001b[0m\u001b[0;34m\u001b[0m\u001b[0m\n\u001b[0;32m----> 4\u001b[0;31m \u001b[0mb\u001b[0m\u001b[0;34m=\u001b[0m\u001b[0ma\u001b[0m\u001b[0;34m+\u001b[0m\u001b[0mb\u001b[0m\u001b[0;34m\u001b[0m\u001b[0;34m\u001b[0m\u001b[0m\n\u001b[0m",
            "\u001b[0;31mTypeError\u001b[0m: add(): argument 'other' (position 1) must be Tensor, not Laplace"
          ]
        }
      ]
    },
    {
      "cell_type": "code",
      "metadata": {
        "id": "GoD8LHuDy39S",
        "colab_type": "code",
        "colab": {}
      },
      "source": [
        "teacher_one=teacher[0]\n",
        "teacher_two=teacher[1]\n",
        "teacher_three=teacher[2]\n",
        "teacher_four=teacher[3]\n",
        "teacher_five=teacher[4]\n",
        "teacher_six=teacher[5]\n"
      ],
      "execution_count": 0,
      "outputs": []
    },
    {
      "cell_type": "code",
      "metadata": {
        "id": "wragDmtfDn-5",
        "colab_type": "code",
        "colab": {}
      },
      "source": [
        "teacher_one=torch.stack(teacher_one)\n",
        "teacher_two=torch.stack(teacher_two)\n",
        "teacher_three=torch.stack(teacher_three)\n",
        "teacher_four=torch.stack(teacher_four)\n",
        "teacher_five=torch.stack(teacher_five)\n",
        "teacher_six=torch.stack(teacher_six)\n"
      ],
      "execution_count": 0,
      "outputs": []
    },
    {
      "cell_type": "code",
      "metadata": {
        "id": "pFXwCofKDoOU",
        "colab_type": "code",
        "colab": {}
      },
      "source": [
        "teacher_one=teacher_one.view(60000)\n",
        "teacher_two=teacher_two.view(60000)\n",
        "teacher_three=teacher_three.view(60000)\n",
        "teacher_four=teacher_four.view(60000)\n",
        "teacher_five=teacher_five.view(60000)\n",
        "teacher_six=teacher_six.view(60000)\n"
      ],
      "execution_count": 0,
      "outputs": []
    },
    {
      "cell_type": "code",
      "metadata": {
        "id": "wTnP6miPFh2_",
        "colab_type": "code",
        "colab": {}
      },
      "source": [
        "teacher_tensor=torch.stack((teacher_one,teacher_two,teacher_three,teacher_four,teacher_five,teacher_six))\n"
      ],
      "execution_count": 0,
      "outputs": []
    },
    {
      "cell_type": "code",
      "metadata": {
        "id": "9Lk0uyRHIzaw",
        "colab_type": "code",
        "colab": {}
      },
      "source": [
        "teacher_tensor=teacher_tensor.view(60000,-1)\n",
        "teacher_tensor"
      ],
      "execution_count": 0,
      "outputs": []
    },
    {
      "cell_type": "code",
      "metadata": {
        "id": "YaAdvVT3JS-X",
        "colab_type": "code",
        "colab": {}
      },
      "source": [
        "new_labels=list()\n",
        "for an_image in teacher_tensor:\n",
        "\n",
        "    label_counts = torch.bincount(an_image, minlength=num_labels)\n",
        "    label_counts=label_counts.numpy()\n",
        "    epsilon = 0.1\n",
        "    beta = 1 / epsilon\n",
        "\n",
        "    for i in range(len(label_counts)):\n",
        "        label_counts[i] += np.random.laplace(0, beta, 1)\n",
        "\n",
        "    new_label = np.argmax(label_counts)\n",
        "    \n",
        "    new_labels.append(new_label)"
      ],
      "execution_count": 0,
      "outputs": []
    },
    {
      "cell_type": "code",
      "metadata": {
        "id": "J4wAMNv_JoHc",
        "colab_type": "code",
        "colab": {}
      },
      "source": [
        "equals = torch.tensor(new_labels) == test_targets\n",
        "accuracy += torch.mean(equals.type(torch.FloatTensor))"
      ],
      "execution_count": 0,
      "outputs": []
    },
    {
      "cell_type": "code",
      "metadata": {
        "id": "PbpFJvtfOevJ",
        "colab_type": "code",
        "colab": {
          "base_uri": "https://localhost:8080/",
          "height": 34
        },
        "outputId": "d333db00-f0d3-498f-d46f-d20d6c19e943"
      },
      "source": [
        "print(accuracy/len(testloader))"
      ],
      "execution_count": 186,
      "outputs": [
        {
          "output_type": "stream",
          "text": [
            "tensor(0.9435)\n"
          ],
          "name": "stdout"
        }
      ]
    },
    {
      "cell_type": "code",
      "metadata": {
        "id": "dHZIZB_UOvnA",
        "colab_type": "code",
        "colab": {
          "base_uri": "https://localhost:8080/",
          "height": 51
        },
        "outputId": "0e1fd3a6-8eca-449a-8bd5-38f50bb7b39f"
      },
      "source": [
        "from syft.frameworks.torch.differential_privacy import pate\n",
        "data_dep_eps, data_ind_eps = pate.perform_analysis(teacher_preds=teacher_tensor.view(6,-1).numpy(), indices=test_targets.numpy(), noise_eps=0.1, delta=1e-5,moments=20)\n",
        "\n",
        "print(\"Data Independent Epsilon:\", data_ind_eps)\n",
        "print(\"Data Dependent Epsilon:\", data_dep_eps)"
      ],
      "execution_count": 232,
      "outputs": [
        {
          "output_type": "stream",
          "text": [
            "Data Independent Epsilon: 2411.5129254649705\n",
            "Data Dependent Epsilon: 2411.5129254633675\n"
          ],
          "name": "stdout"
        }
      ]
    },
    {
      "cell_type": "code",
      "metadata": {
        "id": "bYyYbIyqyA1r",
        "colab_type": "code",
        "colab": {
          "base_uri": "https://localhost:8080/",
          "height": 68
        },
        "outputId": "d71a441e-a04f-4320-d86a-c6f6da110ca2"
      },
      "source": [
        "from syft.frameworks.torch.differential_privacy import pate\n",
        "data_dep_eps, data_ind_eps = pate.perform_analysis(teacher_preds=teacher_tensor[:10,:].view(6,-1).numpy(), indices=test_targets[:10].numpy(), noise_eps=0.1, delta=1e-5,moments=20)\n",
        "\n",
        "print(\"Data Independent Epsilon:\", data_ind_eps)\n",
        "print(\"Data Dependent Epsilon:\", data_dep_eps)"
      ],
      "execution_count": 233,
      "outputs": [
        {
          "output_type": "stream",
          "text": [
            "Warning: May not have used enough values of l. Increase 'moments' variable and run again.\n",
            "Data Independent Epsilon: 2.5756462732485117\n",
            "Data Dependent Epsilon: 2.5756462732485117\n"
          ],
          "name": "stdout"
        }
      ]
    },
    {
      "cell_type": "code",
      "metadata": {
        "id": "voVfvBgVXOyp",
        "colab_type": "code",
        "colab": {
          "base_uri": "https://localhost:8080/",
          "height": 34
        },
        "outputId": "13cb8353-94e1-4730-e28e-c67d28d214bd"
      },
      "source": [
        "test_targets[:10].numpy().shape"
      ],
      "execution_count": 205,
      "outputs": [
        {
          "output_type": "execute_result",
          "data": {
            "text/plain": [
              "(10,)"
            ]
          },
          "metadata": {
            "tags": []
          },
          "execution_count": 205
        }
      ]
    },
    {
      "cell_type": "code",
      "metadata": {
        "id": "WLkeawbvyA5T",
        "colab_type": "code",
        "colab": {}
      },
      "source": [
        "\n"
      ],
      "execution_count": 0,
      "outputs": []
    }
  ]
}