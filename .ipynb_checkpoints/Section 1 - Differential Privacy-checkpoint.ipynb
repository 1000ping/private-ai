{
  "nbformat": 4,
  "nbformat_minor": 0,
  "metadata": {
    "colab": {
      "name": "Section 1 - Differential Privacy-checkpoint.ipynb",
      "version": "0.3.2",
      "provenance": []
    },
    "language_info": {
      "codemirror_mode": {
        "name": "ipython",
        "version": 3
      },
      "file_extension": ".py",
      "mimetype": "text/x-python",
      "name": "python",
      "nbconvert_exporter": "python",
      "pygments_lexer": "ipython3",
      "version": "3.6.1"
    },
    "kernelspec": {
      "name": "python3",
      "display_name": "Python 3"
    }
  },
  "cells": [
    {
      "cell_type": "markdown",
      "metadata": {
        "id": "pHtfNKH9e0hh",
        "colab_type": "text"
      },
      "source": [
        "## Lesson: Toy Differential Privacy - Simple Database Queries"
      ]
    },
    {
      "cell_type": "markdown",
      "metadata": {
        "id": "Y0YvSC2Ve0hm",
        "colab_type": "text"
      },
      "source": [
        "In this section we're going to play around with Differential Privacy in the context of a database query. The database is going to be a VERY simple database with only one boolean column. Each row corresponds to a person. Each value corresponds to whether or not that person has a certain private attribute (such as whether they have a certain disease, or whether they are above/below a certain age). We are then going to learn how to know whether a database query over such a small database is differentially private or not - and more importantly - what techniques are at our disposal to ensure various levels of privacy\n",
        "\n",
        "\n",
        "### First We Create a Simple Database\n",
        "\n",
        "Step one is to create our database - we're going to do this by initializing a random list of 1s and 0s (which are the entries in our database). Note - the number of entries directly corresponds to the number of people in our database."
      ]
    },
    {
      "cell_type": "code",
      "metadata": {
        "id": "h6warzcee0ho",
        "colab_type": "code",
        "outputId": "b3ef253a-e97d-479a-806e-8a766b6c65be",
        "colab": {
          "base_uri": "https://localhost:8080/",
          "height": 34
        }
      },
      "source": [
        "import torch\n",
        "\n",
        "# the number of entries in our database\n",
        "num_entries = 5000\n",
        "\n",
        "db = torch.rand(num_entries) > 0.5\n",
        "db"
      ],
      "execution_count": 0,
      "outputs": [
        {
          "output_type": "execute_result",
          "data": {
            "text/plain": [
              "tensor([1, 0, 0,  ..., 0, 0, 0], dtype=torch.uint8)"
            ]
          },
          "metadata": {
            "tags": []
          },
          "execution_count": 1
        }
      ]
    },
    {
      "cell_type": "markdown",
      "metadata": {
        "id": "S6Z3ylGme0h0",
        "colab_type": "text"
      },
      "source": [
        "## Project: Generate Parallel Databases\n",
        "\n",
        "Key to the definition of differenital privacy is the ability to ask the question \"When querying a database, if I removed someone from the database, would the output of the query be any different?\". Thus, in order to check this, we must construct what we term \"parallel databases\" which are simply databases with one entry removed. \n",
        "\n",
        "In this first project, I want you to create a list of every parallel database to the one currently contained in the \"db\" variable. Then, I want you to create a function which both:\n",
        "\n",
        "- creates the initial database (db)\n",
        "- creates all parallel databases"
      ]
    },
    {
      "cell_type": "code",
      "metadata": {
        "id": "LGvS0MRee0h2",
        "colab_type": "code",
        "colab": {}
      },
      "source": [
        "def get_parallel_dbs(db):\n",
        "  dbs=list()\n",
        "  for i in range(len(db)):\n",
        "    dbs.append(torch.cat((db[:i],db[i+1:])))\n",
        "  return dbs"
      ],
      "execution_count": 0,
      "outputs": []
    },
    {
      "cell_type": "code",
      "metadata": {
        "id": "UtmFkNaae0h7",
        "colab_type": "code",
        "colab": {}
      },
      "source": [
        "dbs=get_parallel_dbs(db)"
      ],
      "execution_count": 0,
      "outputs": []
    },
    {
      "cell_type": "code",
      "metadata": {
        "id": "D5WhriXde0h9",
        "colab_type": "code",
        "colab": {}
      },
      "source": [
        "def create_db_and_parallels(num_entries):\n",
        "  db = torch.rand(num_entries) > 0.5\n",
        "  dbs=get_parallel_dbs(db)\n",
        "  return db,dbs\n",
        "\n"
      ],
      "execution_count": 0,
      "outputs": []
    },
    {
      "cell_type": "code",
      "metadata": {
        "id": "JtUBSO-Ke0h_",
        "colab_type": "code",
        "colab": {}
      },
      "source": [
        "def get_parallel_db(db,index):\n",
        "  dbs=torch.cat((db[:index],db[index+1:]))\n",
        "  return dbs"
      ],
      "execution_count": 0,
      "outputs": []
    },
    {
      "cell_type": "code",
      "metadata": {
        "id": "KYbCGAD9e0iB",
        "colab_type": "code",
        "colab": {}
      },
      "source": [
        ""
      ],
      "execution_count": 0,
      "outputs": []
    },
    {
      "cell_type": "markdown",
      "metadata": {
        "id": "oSx1fYeCe0iD",
        "colab_type": "text"
      },
      "source": [
        "# Lesson: Towards Evaluating The Differential Privacy of a Function\n",
        "\n",
        "Intuitively, we want to be able to query our database and evaluate whether or not the result of the query is leaking \"private\" information. As mentioned previously, this is about evaluating whether the output of a query changes when we remove someone from the database. Specifically, we want to evaluate the *maximum* amount the query changes when someone is removed (maximum over all possible people who could be removed). So, in order to evaluate how much privacy is leaked, we're going to iterate over each person in the database and measure the difference in the output of the query relative to when we query the entire database. \n",
        "\n",
        "Just for the sake of argument, let's make our first \"database query\" a simple sum. Aka, we're going to count the number of 1s in the database."
      ]
    },
    {
      "cell_type": "code",
      "metadata": {
        "id": "r6vJZwrWe0iD",
        "colab_type": "code",
        "colab": {}
      },
      "source": [
        "db, pdbs = create_db_and_parallels(20)"
      ],
      "execution_count": 0,
      "outputs": []
    },
    {
      "cell_type": "code",
      "metadata": {
        "id": "9bP_Sssie0iF",
        "colab_type": "code",
        "colab": {}
      },
      "source": [
        "def query(db):\n",
        "    return db.sum()"
      ],
      "execution_count": 0,
      "outputs": []
    },
    {
      "cell_type": "code",
      "metadata": {
        "id": "Qw8RuvCse0iH",
        "colab_type": "code",
        "outputId": "aba14004-4f5a-4dfd-88d8-48085ced3ae3",
        "colab": {
          "base_uri": "https://localhost:8080/",
          "height": 181
        }
      },
      "source": [
        "full_db_result = query(db)\n",
        "print(full_db_result)"
      ],
      "execution_count": 0,
      "outputs": [
        {
          "output_type": "error",
          "ename": "NameError",
          "evalue": "ignored",
          "traceback": [
            "\u001b[0;31m---------------------------------------------------------------------------\u001b[0m",
            "\u001b[0;31mNameError\u001b[0m                                 Traceback (most recent call last)",
            "\u001b[0;32m<ipython-input-5-6d9f2f3e5210>\u001b[0m in \u001b[0;36m<module>\u001b[0;34m()\u001b[0m\n\u001b[0;32m----> 1\u001b[0;31m \u001b[0mfull_db_result\u001b[0m \u001b[0;34m=\u001b[0m \u001b[0mquery\u001b[0m\u001b[0;34m(\u001b[0m\u001b[0mdb\u001b[0m\u001b[0;34m)\u001b[0m\u001b[0;34m\u001b[0m\u001b[0;34m\u001b[0m\u001b[0m\n\u001b[0m\u001b[1;32m      2\u001b[0m \u001b[0mprint\u001b[0m\u001b[0;34m(\u001b[0m\u001b[0mfull_db_result\u001b[0m\u001b[0;34m)\u001b[0m\u001b[0;34m\u001b[0m\u001b[0;34m\u001b[0m\u001b[0m\n",
            "\u001b[0;31mNameError\u001b[0m: name 'query' is not defined"
          ]
        }
      ]
    },
    {
      "cell_type": "code",
      "metadata": {
        "id": "kX2IkjCae0iK",
        "colab_type": "code",
        "colab": {}
      },
      "source": [
        "sensitivity = 0\n",
        "\n",
        "for pdb in pdbs:\n",
        "    pdb_result = query(pdb)\n",
        "    \n",
        "    db_distance = torch.abs(pdb_result - full_db_result)\n",
        "    \n",
        "    if(db_distance > sensitivity):\n",
        "        sensitivity = db_distance"
      ],
      "execution_count": 0,
      "outputs": []
    },
    {
      "cell_type": "code",
      "metadata": {
        "id": "RHojOSrwe0iM",
        "colab_type": "code",
        "outputId": "5b531925-e04d-462d-8bda-09dba587a5fd",
        "colab": {
          "base_uri": "https://localhost:8080/",
          "height": 34
        }
      },
      "source": [
        "sensitivity"
      ],
      "execution_count": 0,
      "outputs": [
        {
          "output_type": "execute_result",
          "data": {
            "text/plain": [
              "tensor(1)"
            ]
          },
          "metadata": {
            "tags": []
          },
          "execution_count": 12
        }
      ]
    },
    {
      "cell_type": "markdown",
      "metadata": {
        "id": "3Pt2_SRje0iO",
        "colab_type": "text"
      },
      "source": [
        "# Project - Evaluating the Privacy of a Function\n",
        "\n",
        "In the last section, we measured the difference between each parallel db's query result and the query result for the entire database and then calculated the max value (which was 1). This value is called \"sensitivity\", and it corresponds to the function we chose for the query. Namely, the \"sum\" query will always have a sensitivity of exactly 1. However, we can also calculate sensitivity for other functions as well.\n",
        "\n",
        "Let's try to calculate sensitivity for the \"mean\" function."
      ]
    },
    {
      "cell_type": "code",
      "metadata": {
        "id": "GjvTd6M-e0iP",
        "colab_type": "code",
        "colab": {}
      },
      "source": [
        "# try this project here!"
      ],
      "execution_count": 0,
      "outputs": []
    },
    {
      "cell_type": "code",
      "metadata": {
        "id": "VcI_IkQNe0iR",
        "colab_type": "code",
        "colab": {}
      },
      "source": [
        "def sensitivity(func,num_entries):\n",
        "  db = torch.rand(num_entries) > 0.5\n",
        "  dbs=get_parallel_dbs(db)\n",
        "  result_db=func(db)\n",
        "  sensitivity = 0\n",
        "  for pdb in dbs:\n",
        "    pdb_result = func(pdb)\n",
        "    \n",
        "    db_distance = torch.abs(pdb_result - result_db)\n",
        "    \n",
        "    if(db_distance > sensitivity):\n",
        "        sensitivity = db_distance\n",
        "        \n",
        "  return sensitivity\n",
        "        "
      ],
      "execution_count": 0,
      "outputs": []
    },
    {
      "cell_type": "code",
      "metadata": {
        "id": "27z1yDNHe0iS",
        "colab_type": "code",
        "colab": {}
      },
      "source": [
        "sen=sensitivity(mean,1000)"
      ],
      "execution_count": 0,
      "outputs": []
    },
    {
      "cell_type": "code",
      "metadata": {
        "id": "WmyS7Idbe0iU",
        "colab_type": "code",
        "outputId": "0b31ac8b-0f24-49ee-fdee-72f50b283eb3",
        "colab": {
          "base_uri": "https://localhost:8080/",
          "height": 34
        }
      },
      "source": [
        "sen"
      ],
      "execution_count": 0,
      "outputs": [
        {
          "output_type": "execute_result",
          "data": {
            "text/plain": [
              "tensor(0.0005)"
            ]
          },
          "metadata": {
            "tags": []
          },
          "execution_count": 112
        }
      ]
    },
    {
      "cell_type": "code",
      "metadata": {
        "id": "wxYb5QXde0iW",
        "colab_type": "code",
        "colab": {}
      },
      "source": [
        " def mean(a):\n",
        "    return a.float().mean()"
      ],
      "execution_count": 0,
      "outputs": []
    },
    {
      "cell_type": "code",
      "metadata": {
        "id": "halOoCzYe0iX",
        "colab_type": "code",
        "outputId": "99ebfd4d-c6ef-4162-e59a-f2519e23ba30",
        "colab": {
          "base_uri": "https://localhost:8080/",
          "height": 34
        }
      },
      "source": [
        "mean(db)-mean(dbs[0])"
      ],
      "execution_count": 0,
      "outputs": [
        {
          "output_type": "execute_result",
          "data": {
            "text/plain": [
              "tensor(0.0981)"
            ]
          },
          "metadata": {
            "tags": []
          },
          "execution_count": 102
        }
      ]
    },
    {
      "cell_type": "code",
      "metadata": {
        "id": "F58mDVWde0iZ",
        "colab_type": "code",
        "colab": {}
      },
      "source": [
        ""
      ],
      "execution_count": 0,
      "outputs": []
    },
    {
      "cell_type": "code",
      "metadata": {
        "id": "4AcaOVZee0ic",
        "colab_type": "code",
        "colab": {}
      },
      "source": [
        ""
      ],
      "execution_count": 0,
      "outputs": []
    },
    {
      "cell_type": "markdown",
      "metadata": {
        "id": "AMbSNXBKe0ie",
        "colab_type": "text"
      },
      "source": [
        "Wow! That sensitivity is WAY lower. Note the intuition here. \"Sensitivity\" is measuring how sensitive the output of the query is to a person being removed from the database. For a simple sum, this is always 1, but for the mean, removing a person is going to change the result of the query by rougly 1 divided by the size of the database (which is much smaller). Thus, \"mean\" is a VASTLY less \"sensitive\" function (query) than SUM."
      ]
    },
    {
      "cell_type": "markdown",
      "metadata": {
        "id": "dpLfvhp-e0ig",
        "colab_type": "text"
      },
      "source": [
        "# Project: Calculate L1 Sensitivity For Threshold\n",
        "\n",
        "In this first project, I want you to calculate the sensitivty for the \"threshold\" function. \n",
        "\n",
        "- First compute the sum over the database (i.e. sum(db)) and return whether that sum is greater than a certain threshold.\n",
        "- Then, I want you to create databases of size 10 and threshold of 5 and calculate the sensitivity of the function. \n",
        "- Finally, re-initialize the database 10 times and calculate the sensitivity each time."
      ]
    },
    {
      "cell_type": "code",
      "metadata": {
        "id": "LiSGsh5Ze0ig",
        "colab_type": "code",
        "colab": {}
      },
      "source": [
        "def threshold(db,th=5):\n",
        "  return (db.sum()>th).float()"
      ],
      "execution_count": 0,
      "outputs": []
    },
    {
      "cell_type": "code",
      "metadata": {
        "id": "OdEKPPwXe0ik",
        "colab_type": "code",
        "outputId": "d3e09ea2-9177-438e-bee9-26c0a3378812",
        "colab": {
          "base_uri": "https://localhost:8080/",
          "height": 187
        }
      },
      "source": [
        "for i in range(10):\n",
        "  sens_f=sensitivity(query,10)\n",
        "  print(sens_f)"
      ],
      "execution_count": 0,
      "outputs": [
        {
          "output_type": "stream",
          "text": [
            "tensor(1)\n",
            "tensor(1)\n",
            "tensor(1)\n",
            "tensor(1)\n",
            "tensor(1)\n",
            "tensor(1)\n",
            "tensor(1)\n",
            "tensor(1)\n",
            "tensor(1)\n",
            "tensor(1)\n"
          ],
          "name": "stdout"
        }
      ]
    },
    {
      "cell_type": "code",
      "metadata": {
        "id": "wHHcTPH1e0im",
        "colab_type": "code",
        "colab": {}
      },
      "source": [
        ""
      ],
      "execution_count": 0,
      "outputs": []
    },
    {
      "cell_type": "code",
      "metadata": {
        "id": "ZBtc7EbRe0io",
        "colab_type": "code",
        "colab": {}
      },
      "source": [
        ""
      ],
      "execution_count": 0,
      "outputs": []
    },
    {
      "cell_type": "markdown",
      "metadata": {
        "id": "KicSV9aIe0is",
        "colab_type": "text"
      },
      "source": [
        "# Lesson: A Basic Differencing Attack\n",
        "\n",
        "Sadly none of the functions we've looked at so far are differentially private (despite them having varying levels of sensitivity). The most basic type of attack can be done as follows.\n",
        "\n",
        "Let's say we wanted to figure out a specific person's value in the database. All we would have to do is query for the sum of the entire database and then the sum of the entire database without that person!\n",
        "\n",
        "# Project: Perform a Differencing Attack on Row 10\n",
        "\n",
        "In this project, I want you to construct a database and then demonstrate how you can use two different sum queries to explose the value of the person represented by row 10 in the database (note, you'll need to use a database with at least 10 rows)"
      ]
    },
    {
      "cell_type": "code",
      "metadata": {
        "id": "7Cja6H0ae0it",
        "colab_type": "code",
        "colab": {}
      },
      "source": [
        "db,_=create_db_and_parallels(100)"
      ],
      "execution_count": 0,
      "outputs": []
    },
    {
      "cell_type": "code",
      "metadata": {
        "id": "DTtbbBrqe0iu",
        "colab_type": "code",
        "outputId": "a20924ea-e39d-41b5-dbbe-3b1e2061390a",
        "colab": {
          "base_uri": "https://localhost:8080/",
          "height": 34
        }
      },
      "source": [
        "db.sum()\n",
        "db_without=torch.cat((db[0:10],db[11:]))\n",
        "db_without.sum()\n"
      ],
      "execution_count": 0,
      "outputs": [
        {
          "output_type": "execute_result",
          "data": {
            "text/plain": [
              "tensor(48)"
            ]
          },
          "metadata": {
            "tags": []
          },
          "execution_count": 95
        }
      ]
    },
    {
      "cell_type": "code",
      "metadata": {
        "id": "lx78mPEIe0iv",
        "colab_type": "code",
        "outputId": "0b3a446b-b8fd-4420-b5e3-9418b0a4e5e0",
        "colab": {
          "base_uri": "https://localhost:8080/",
          "height": 34
        }
      },
      "source": [
        "db.sum()-db_without.sum()\n"
      ],
      "execution_count": 0,
      "outputs": [
        {
          "output_type": "execute_result",
          "data": {
            "text/plain": [
              "tensor(1)"
            ]
          },
          "metadata": {
            "tags": []
          },
          "execution_count": 96
        }
      ]
    },
    {
      "cell_type": "code",
      "metadata": {
        "id": "-89FKCGoe0ix",
        "colab_type": "code",
        "outputId": "16612122-ba2c-42f3-9de4-b570c928822b",
        "colab": {
          "base_uri": "https://localhost:8080/",
          "height": 34
        }
      },
      "source": [
        "db.float().sum()/len(db)-db_without.float().sum()/len(db_without)\n"
      ],
      "execution_count": 0,
      "outputs": [
        {
          "output_type": "execute_result",
          "data": {
            "text/plain": [
              "tensor(0.0052)"
            ]
          },
          "metadata": {
            "tags": []
          },
          "execution_count": 97
        }
      ]
    },
    {
      "cell_type": "code",
      "metadata": {
        "id": "4jRFYr8fe0iy",
        "colab_type": "code",
        "outputId": "68672644-437c-46ea-8d62-45b20c67f204",
        "colab": {
          "base_uri": "https://localhost:8080/",
          "height": 34
        }
      },
      "source": [
        "(sum(db).float()>48)-(sum(db_without).float()>48)"
      ],
      "execution_count": 0,
      "outputs": [
        {
          "output_type": "execute_result",
          "data": {
            "text/plain": [
              "tensor(1, dtype=torch.uint8)"
            ]
          },
          "metadata": {
            "tags": []
          },
          "execution_count": 99
        }
      ]
    },
    {
      "cell_type": "code",
      "metadata": {
        "id": "HciXvsMwe0i0",
        "colab_type": "code",
        "outputId": "79a5c644-86a0-49cd-e99c-3e96889e0b24",
        "colab": {
          "base_uri": "https://localhost:8080/",
          "height": 34
        }
      },
      "source": [
        ""
      ],
      "execution_count": 0,
      "outputs": [
        {
          "output_type": "execute_result",
          "data": {
            "text/plain": [
              "tensor(49)"
            ]
          },
          "metadata": {
            "tags": []
          },
          "execution_count": 90
        }
      ]
    },
    {
      "cell_type": "code",
      "metadata": {
        "id": "aiQCB5mWe0i2",
        "colab_type": "code",
        "outputId": "61b78afb-d032-4526-98b4-a25b7c4d682c",
        "colab": {
          "base_uri": "https://localhost:8080/",
          "height": 34
        }
      },
      "source": [
        ""
      ],
      "execution_count": 0,
      "outputs": [
        {
          "output_type": "execute_result",
          "data": {
            "text/plain": [
              "tensor(49)"
            ]
          },
          "metadata": {
            "tags": []
          },
          "execution_count": 91
        }
      ]
    },
    {
      "cell_type": "code",
      "metadata": {
        "id": "Id-3265ae0i3",
        "colab_type": "code",
        "outputId": "df3ad0dd-2308-48b0-ce07-e549cb73ec15",
        "colab": {
          "base_uri": "https://localhost:8080/",
          "height": 34
        }
      },
      "source": [
        ""
      ],
      "execution_count": 0,
      "outputs": [
        {
          "output_type": "execute_result",
          "data": {
            "text/plain": [
              "100"
            ]
          },
          "metadata": {
            "tags": []
          },
          "execution_count": 94
        }
      ]
    },
    {
      "cell_type": "markdown",
      "metadata": {
        "id": "sYD_pW6Oe0i4",
        "colab_type": "text"
      },
      "source": [
        "# Project: Local Differential Privacy\n",
        "\n",
        "As you can see, the basic sum query is not differentially private at all! In truth, differential privacy always requires a form of randomness added to the query. Let me show you what I mean.\n",
        "\n",
        "### Randomized Response (Local Differential Privacy)\n",
        "\n",
        "Let's say I have a group of people I wish to survey about a very taboo behavior which I think they will lie about (say, I want to know if they have ever committed a certain kind of crime). I'm not a policeman, I'm just trying to collect statistics to understand the higher level trend in society. So, how do we do this? One technique is to add randomness to each person's response by giving each person the following instructions (assuming I'm asking a simple yes/no question):\n",
        "\n",
        "- Flip a coin 2 times.\n",
        "- If the first coin flip is heads, answer honestly\n",
        "- If the first coin flip is tails, answer according to the second coin flip (heads for yes, tails for no)!\n",
        "\n",
        "Thus, each person is now protected with \"plausible deniability\". If they answer \"Yes\" to the question \"have you committed X crime?\", then it might becasue they actually did, or it might be becasue they are answering according to a random coin flip. Each person has a high degree of protection. Furthermore, we can recover the underlying statistics with some accuracy, as the \"true statistics\" are simply averaged with a 50% probability. Thus, if we collect a bunch of samples and it turns out that 60% of people answer yes, then we know that the TRUE distribution is actually centered around 70%, because 70% averaged wtih 50% (a coin flip) is 60% which is the result we obtained. \n",
        "\n",
        "However, it should be noted that, especially when we only have a few samples, the this comes at the cost of accuracy. This tradeoff exists across all of Differential Privacy. The greater the privacy protection (plausible deniability) the less accurate the results. \n",
        "\n",
        "Let's implement this local DP for our database before!"
      ]
    },
    {
      "cell_type": "code",
      "metadata": {
        "id": "bICuF801e0i5",
        "colab_type": "code",
        "outputId": "8c90c2e0-9dae-4f65-fbb7-3fe9351c7ebd",
        "colab": {
          "base_uri": "https://localhost:8080/",
          "height": 34
        }
      },
      "source": [
        "coinone=torch.rand(1)>0.5\n",
        "cointwo=torch.rand(1)>0.5\n",
        "print(coinone)\n"
      ],
      "execution_count": 0,
      "outputs": [
        {
          "output_type": "stream",
          "text": [
            "tensor([1], dtype=torch.uint8)\n"
          ],
          "name": "stdout"
        }
      ]
    },
    {
      "cell_type": "code",
      "metadata": {
        "id": "o5gsOyJFe0i6",
        "colab_type": "code",
        "colab": {}
      },
      "source": [
        "db_one,_=create_db_and_parallels(10)\n",
        "db_two,_=create_db_and_parallels(100)\n",
        "db_three,_=create_db_and_parallels(1000)\n",
        "db_four,_=create_db_and_parallels(10000)\n"
      ],
      "execution_count": 0,
      "outputs": []
    },
    {
      "cell_type": "code",
      "metadata": {
        "id": "hCUaCqF2e0i7",
        "colab_type": "code",
        "outputId": "ca20316c-5838-404f-851a-fc92018b05ca",
        "colab": {
          "base_uri": "https://localhost:8080/",
          "height": 85
        }
      },
      "source": [
        "def db_noise(entry):\n",
        "  db,_=create_db_and_parallels(entry)\n",
        "  dbn=torch.zeros(entry)\n",
        "  for i in range(len(db)):\n",
        "    coinone=torch.rand(1)>0.5\n",
        "    cointwo=torch.rand(1)>0.5\n",
        "    if coinone==1:\n",
        "      dbn[i]=db[i]\n",
        "    else:\n",
        "      dbn[i]=cointwo \n",
        "  return db,dbn\n",
        "\n",
        "db_one,db_one_noise=db_noise(10)\n",
        "print(\"simple: {} , noise: {} \".format(db_one.float().mean(),db_one_noise.float().mean()))\n",
        "db_two,db_two_noise=db_noise(100)\n",
        "print(\"simple: {} , noise: {} \".format(db_two.float().mean(),db_two_noise.float().mean()))\n",
        "db_three,db_three_noise=db_noise(1000)\n",
        "print(\"simple: {} , noise: {} \".format(db_three.float().mean(),db_three_noise.float().mean()))\n",
        "db_four,db_four_noise=db_noise(10000)\n",
        "print(\"simple: {} , noise: {} \".format(db_four.float().mean(),db_four_noise.float().mean()))"
      ],
      "execution_count": 0,
      "outputs": [
        {
          "output_type": "stream",
          "text": [
            "simple: 0.6000000238418579 , noise: 0.30000001192092896 \n",
            "simple: 0.5299999713897705 , noise: 0.5099999904632568 \n",
            "simple: 0.4950000047683716 , noise: 0.49799999594688416 \n",
            "simple: 0.5019999742507935 , noise: 0.5019999742507935 \n"
          ],
          "name": "stdout"
        }
      ]
    },
    {
      "cell_type": "code",
      "metadata": {
        "id": "Pfpxq7y-e0i9",
        "colab_type": "code",
        "outputId": "fe687758-b938-4b7f-a645-8ab14fddd705",
        "colab": {
          "base_uri": "https://localhost:8080/",
          "height": 85
        }
      },
      "source": [
        "def db_noise(entry):\n",
        "  db,_=create_db_and_parallels(entry)\n",
        "\n",
        "  coinone=(torch.rand(entry)>0.5).float()\n",
        "  cointwo=(torch.rand(entry)>0.5).float()\n",
        "  dbn=db.float()*coinone+(1-coinone)*cointwo\n",
        "  dbs=((torch.mean(dbn.float()))*2)-0.5\n",
        "  return db,dbn,dbs\n",
        "\n",
        "db_one,db_one_noise,dbs_one=db_noise(10)\n",
        "print(\"simple: {} , noise: {} , deskewed: {}\".format(db_one.float().mean(),db_one_noise.float().mean(),dbs_one))\n",
        "db_two,db_two_noise,dbs_two=db_noise(100)\n",
        "print(\"simple: {} , noise: {} , deskewed: {}\".format(db_two.float().mean(),db_two_noise.float().mean(),dbs_two))\n",
        "db_three,db_three_noise,dbs_three=db_noise(1000)\n",
        "print(\"simple: {} , noise: {} , deskewed: {}\".format(db_three.float().mean(),db_three_noise.float().mean(),dbs_three))\n",
        "db_four,db_four_noise,dbs_four=db_noise(10000)\n",
        "print(\"simple: {} , noise: {} , deskewed: {}\".format(db_four.float().mean(),db_four_noise.float().mean(),dbs_four))"
      ],
      "execution_count": 0,
      "outputs": [
        {
          "output_type": "stream",
          "text": [
            "simple: 0.4000000059604645 , noise: 0.4000000059604645 , deskewed: 0.30000001192092896\n",
            "simple: 0.5799999833106995 , noise: 0.5400000214576721 , deskewed: 0.5800000429153442\n",
            "simple: 0.5350000262260437 , noise: 0.5220000147819519 , deskewed: 0.5440000295639038\n",
            "simple: 0.5016000270843506 , noise: 0.49970000982284546 , deskewed: 0.4994000196456909\n"
          ],
          "name": "stdout"
        }
      ]
    },
    {
      "cell_type": "code",
      "metadata": {
        "id": "67Q03NXKe0i-",
        "colab_type": "code",
        "outputId": "5ee53f23-ac63-4097-907a-d6fea400c135",
        "colab": {
          "base_uri": "https://localhost:8080/",
          "height": 34
        }
      },
      "source": [
        "(mean(db_one_noise)-0.25)*2"
      ],
      "execution_count": 0,
      "outputs": [
        {
          "output_type": "execute_result",
          "data": {
            "text/plain": [
              "tensor(0.1000)"
            ]
          },
          "metadata": {
            "tags": []
          },
          "execution_count": 148
        }
      ]
    },
    {
      "cell_type": "code",
      "metadata": {
        "id": "aK2aWzd8e0jA",
        "colab_type": "code",
        "colab": {}
      },
      "source": [
        ""
      ],
      "execution_count": 0,
      "outputs": []
    },
    {
      "cell_type": "code",
      "metadata": {
        "id": "HJh6OyVOe0jC",
        "colab_type": "code",
        "colab": {}
      },
      "source": [
        ""
      ],
      "execution_count": 0,
      "outputs": []
    },
    {
      "cell_type": "code",
      "metadata": {
        "id": "NESnN09le0jE",
        "colab_type": "code",
        "colab": {}
      },
      "source": [
        ""
      ],
      "execution_count": 0,
      "outputs": []
    },
    {
      "cell_type": "code",
      "metadata": {
        "id": "Z7ruqQH8e0jG",
        "colab_type": "code",
        "colab": {}
      },
      "source": [
        ""
      ],
      "execution_count": 0,
      "outputs": []
    },
    {
      "cell_type": "markdown",
      "metadata": {
        "id": "St--WuvXe0jH",
        "colab_type": "text"
      },
      "source": [
        "# Project: Varying Amounts of Noise\n",
        "\n",
        "In this project, I want you to augment the randomized response query (the one we just wrote) to allow for varying amounts of randomness to be added. Specifically, I want you to bias the coin flip to be higher or lower and then run the same experiment. \n",
        "\n",
        "Note - this one is a bit tricker than you might expect. You need to both adjust the likelihood of the first coin flip AND the de-skewing at the end (where we create the \"augmented_result\" variable)."
      ]
    },
    {
      "cell_type": "code",
      "metadata": {
        "id": "hMVnMQ-le0jH",
        "colab_type": "code",
        "outputId": "f8d089a7-7758-4acd-9acb-338543ba9765",
        "colab": {
          "base_uri": "https://localhost:8080/",
          "height": 85
        }
      },
      "source": [
        "noise=0.1\n",
        "def db_noise(entry,noise):\n",
        "  db,_=create_db_and_parallels(entry)\n",
        "\n",
        "  coinone=(torch.rand(entry)>noise).float()\n",
        "  cointwo=(torch.rand(entry)>0.5).float()\n",
        "  dbn=db.float()*coinone+(1-coinone)*cointwo\n",
        "  dbs=((torch.mean(dbn.float()))-(noise*0.5))/(1-noise)\n",
        "  return db,dbn,dbs\n",
        "\n",
        "db_one,db_one_noise,dbs_one=db_noise(10,noise)\n",
        "print(\"simple: {} , noise: {} , deskewed: {}\".format(db_one.float().mean(),db_one_noise.float().mean(),dbs_one))\n",
        "db_two,db_two_noise,dbs_two=db_noise(100,noise)\n",
        "print(\"simple: {} , noise: {} , deskewed: {}\".format(db_two.float().mean(),db_two_noise.float().mean(),dbs_two))\n",
        "db_three,db_three_noise,dbs_three=db_noise(1000,noise)\n",
        "print(\"simple: {} , noise: {} , deskewed: {}\".format(db_three.float().mean(),db_three_noise.float().mean(),dbs_three))\n",
        "db_four,db_four_noise,dbs_four=db_noise(10000,noise)\n",
        "print(\"simple: {} , noise: {} , deskewed: {}\".format(db_four.float().mean(),db_four_noise.float().mean(),dbs_four))"
      ],
      "execution_count": 0,
      "outputs": [
        {
          "output_type": "stream",
          "text": [
            "simple: 0.20000000298023224 , noise: 0.20000000298023224 , deskewed: 0.1666666716337204\n",
            "simple: 0.41999998688697815 , noise: 0.41999998688697815 , deskewed: 0.41111108660697937\n",
            "simple: 0.49000000953674316 , noise: 0.47600001096725464 , deskewed: 0.47333335876464844\n",
            "simple: 0.49950000643730164 , noise: 0.5013999938964844 , deskewed: 0.5015555620193481\n"
          ],
          "name": "stdout"
        }
      ]
    },
    {
      "cell_type": "code",
      "metadata": {
        "id": "PxvSOgXBe0jJ",
        "colab_type": "code",
        "colab": {}
      },
      "source": [
        ""
      ],
      "execution_count": 0,
      "outputs": []
    },
    {
      "cell_type": "code",
      "metadata": {
        "id": "F6mnszvWe0jL",
        "colab_type": "code",
        "colab": {}
      },
      "source": [
        ""
      ],
      "execution_count": 0,
      "outputs": []
    },
    {
      "cell_type": "code",
      "metadata": {
        "id": "IywVo1R_e0jM",
        "colab_type": "code",
        "colab": {}
      },
      "source": [
        ""
      ],
      "execution_count": 0,
      "outputs": []
    },
    {
      "cell_type": "code",
      "metadata": {
        "id": "hjD4am-8e0jT",
        "colab_type": "code",
        "colab": {}
      },
      "source": [
        ""
      ],
      "execution_count": 0,
      "outputs": []
    },
    {
      "cell_type": "code",
      "metadata": {
        "id": "ePJIfKSIe0jW",
        "colab_type": "code",
        "colab": {}
      },
      "source": [
        ""
      ],
      "execution_count": 0,
      "outputs": []
    },
    {
      "cell_type": "code",
      "metadata": {
        "id": "_MUEHm5Ae0jY",
        "colab_type": "code",
        "colab": {}
      },
      "source": [
        ""
      ],
      "execution_count": 0,
      "outputs": []
    },
    {
      "cell_type": "code",
      "metadata": {
        "id": "gaDVM2pce0ja",
        "colab_type": "code",
        "colab": {}
      },
      "source": [
        ""
      ],
      "execution_count": 0,
      "outputs": []
    },
    {
      "cell_type": "code",
      "metadata": {
        "id": "u91xJWDfe0jd",
        "colab_type": "code",
        "colab": {}
      },
      "source": [
        ""
      ],
      "execution_count": 0,
      "outputs": []
    },
    {
      "cell_type": "code",
      "metadata": {
        "id": "YLpDcjgAe0je",
        "colab_type": "code",
        "colab": {}
      },
      "source": [
        ""
      ],
      "execution_count": 0,
      "outputs": []
    },
    {
      "cell_type": "markdown",
      "metadata": {
        "id": "UoEzZN1Ie0jf",
        "colab_type": "text"
      },
      "source": [
        "# Lesson: The Formal Definition of Differential Privacy\n",
        "\n",
        "The previous method of adding noise was called \"Local Differentail Privacy\" because we added noise to each datapoint individually. This is necessary for some situations wherein the data is SO sensitive that individuals do not trust noise to be added later. However, it comes at a very high cost in terms of accuracy. \n",
        "\n",
        "However, alternatively we can add noise AFTER data has been aggregated by a function. This kind of noise can allow for similar levels of protection with a lower affect on accuracy. However, participants must be able to trust that no-one looked at their datapoints _before_ the aggregation took place. In some situations this works out well, in others (such as an individual hand-surveying a group of people), this is less realistic.\n",
        "\n",
        "Nevertheless, global differential privacy is incredibly important because it allows us to perform differential privacy on smaller groups of individuals with lower amounts of noise. Let's revisit our sum functions."
      ]
    },
    {
      "cell_type": "code",
      "metadata": {
        "id": "gIGXxz1fe0jg",
        "colab_type": "code",
        "outputId": "511d0046-bbc1-40c7-e18b-b3754f3a7a08",
        "colab": {}
      },
      "source": [
        "db, pdbs = create_db_and_parallels(100)\n",
        "\n",
        "def query(db):\n",
        "    return torch.sum(db.float())\n",
        "\n",
        "def M(db):\n",
        "    query(db) + noise\n",
        "\n",
        "query(db)"
      ],
      "execution_count": 0,
      "outputs": [
        {
          "output_type": "execute_result",
          "data": {
            "text/plain": [
              "tensor(40.)"
            ]
          },
          "metadata": {
            "tags": []
          },
          "execution_count": 40
        }
      ]
    },
    {
      "cell_type": "markdown",
      "metadata": {
        "id": "OtCcRNxje0ji",
        "colab_type": "text"
      },
      "source": [
        "So the idea here is that we want to add noise to the output of our function. We actually have two different kinds of noise we can add - Laplacian Noise or Gaussian Noise. However, before we do so at this point we need to dive into the formal definition of Differential Privacy.\n",
        "\n",
        "![alt text](dp_formula.png \"Title\")"
      ]
    },
    {
      "cell_type": "markdown",
      "metadata": {
        "id": "Soj68vzke0ji",
        "colab_type": "text"
      },
      "source": [
        "_Image From: \"The Algorithmic Foundations of Differential Privacy\" - Cynthia Dwork and Aaron Roth - https://www.cis.upenn.edu/~aaroth/Papers/privacybook.pdf_"
      ]
    },
    {
      "cell_type": "markdown",
      "metadata": {
        "id": "3C79So2ge0jj",
        "colab_type": "text"
      },
      "source": [
        "This definition does not _create_ differential privacy, instead it is a measure of how much privacy is afforded by a query M. Specifically, it's a comparison between running the query M on a database (x) and a parallel database (y). As you remember, parallel databases are defined to be the same as a full database (x) with one entry/person removed.\n",
        "\n",
        "Thus, this definition says that FOR ALL parallel databases, the maximum distance between a query on database (x) and the same query on database (y) will be e^epsilon, but that occasionally this constraint won't hold with probability delta. Thus, this theorem is called \"epsilon delta\" differential privacy.\n",
        "\n",
        "# Epsilon\n",
        "\n",
        "Let's unpack the intuition of this for a moment. \n",
        "\n",
        "Epsilon Zero: If a query satisfied this inequality where epsilon was set to 0, then that would mean that the query for all parallel databases outputed the exact same value as the full database. As you may remember, when we calculated the \"threshold\" function, often the Sensitivity was 0. In that case, the epsilon also happened to be zero.\n",
        "\n",
        "Epsilon One: If a query satisfied this inequality with epsilon 1, then the maximum distance between all queries would be 1 - or more precisely - the maximum distance between the two random distributions M(x) and M(y) is 1 (because all these queries have some amount of randomness in them, just like we observed in the last section).\n",
        "\n",
        "# Delta\n",
        "\n",
        "Delta is basically the probability that epsilon breaks. Namely, sometimes the epsilon is different for some queries than it is for others. For example, you may remember when we were calculating the sensitivity of threshold, most of the time sensitivity was 0 but sometimes it was 1. Thus, we could calculate this as \"epsilon zero but non-zero delta\" which would say that epsilon is perfect except for some probability of the time when it's arbitrarily higher. Note that this expression doesn't represent the full tradeoff between epsilon and delta."
      ]
    },
    {
      "cell_type": "markdown",
      "metadata": {
        "id": "JSmkxeRve0jj",
        "colab_type": "text"
      },
      "source": [
        "# Lesson: How To Add Noise for Global Differential Privacy\n",
        "\n",
        "In this lesson, we're going to learn about how to take a query and add varying amounts of noise so that it satisfies a certain degree of differential privacy. In particular, we're going to leave behind the Local Differential privacy previously discussed and instead opt to focus on Global differential privacy. \n",
        "\n",
        "So, to sum up, this lesson is about adding noise to the output of our query so that it satisfies a certain epsilon-delta differential privacy threshold.\n",
        "\n",
        "There are two kinds of noise we can add - Gaussian Noise or Laplacian Noise. Generally speaking Laplacian is better, but both are still valid. Now to the hard question...\n",
        "\n",
        "### How much noise should we add?\n",
        "\n",
        "The amount of noise necessary to add to the output of a query is a function of four things:\n",
        "\n",
        "- the type of noise (Gaussian/Laplacian)\n",
        "- the sensitivity of the query/function\n",
        "- the desired epsilon (ε)\n",
        "- the desired delta (δ)\n",
        "\n",
        "Thus, for each type of noise we're adding, we have different way of calculating how much to add as a function of sensitivity, epsilon, and delta. We're going to focus on Laplacian noise. Laplacian noise is increased/decreased according to a \"scale\" parameter b. We choose \"b\" based on the following formula.\n",
        "\n",
        "b = sensitivity(query) / epsilon\n",
        "\n",
        "In other words, if we set b to be this value, then we know that we will have a privacy leakage of <= epsilon. Furthermore, the nice thing about Laplace is that it guarantees this with delta == 0. There are some tunings where we can have very low epsilon where delta is non-zero, but we'll ignore them for now.\n",
        "\n",
        "### Querying Repeatedly\n",
        "\n",
        "- if we query the database multiple times - we can simply add the epsilons (Even if we change the amount of noise and their epsilons are not the same)."
      ]
    },
    {
      "cell_type": "code",
      "metadata": {
        "id": "-_yQTtgfe0jj",
        "colab_type": "code",
        "colab": {}
      },
      "source": [
        ""
      ],
      "execution_count": 0,
      "outputs": []
    },
    {
      "cell_type": "markdown",
      "metadata": {
        "id": "VWjkIYP2e0jl",
        "colab_type": "text"
      },
      "source": [
        "# Project: Create a Differentially Private Query\n",
        "\n",
        "In this project, I want you to take what you learned in the previous lesson and create a query function which sums over the database and adds just the right amount of noise such that it satisfies an epsilon constraint. Write a query for both \"sum\" and for \"mean\". Ensure that you use the correct sensitivity measures for both."
      ]
    },
    {
      "cell_type": "code",
      "metadata": {
        "id": "ES9PgnrWe0jl",
        "colab_type": "code",
        "colab": {}
      },
      "source": [
        "import torch\n",
        "\n",
        "def get_parallel_dbs(db):\n",
        "  dbs=list()\n",
        "  for i in range(len(db)):\n",
        "    dbs.append(torch.cat((db[:i],db[i+1:])))\n",
        "  return dbs\n",
        "def create_db_and_parallels(num_entries):\n",
        "  db = torch.rand(num_entries) > 0.5\n",
        "  dbs=get_parallel_dbs(db)\n",
        "  return db,dbs\n",
        "\n",
        "def query(db):\n",
        "    return db.sum()\n",
        "\n",
        "def mean(a):\n",
        "   return a.float().mean()\n",
        "  "
      ],
      "execution_count": 0,
      "outputs": []
    },
    {
      "cell_type": "code",
      "metadata": {
        "id": "vsY9SMIPe0jo",
        "colab_type": "code",
        "colab": {}
      },
      "source": [
        "epsilon=0.7\n",
        "\n",
        "import numpy as np\n",
        "\n",
        "def sensitivity_two(func,db,dbs):\n",
        "  result_db=func(db)\n",
        "  sensitivity = 0\n",
        "  \n",
        "  for pdb in dbs:\n",
        "    \n",
        "    pdb_result = func(pdb)\n",
        "    \n",
        "    db_distance = torch.abs(pdb_result - result_db)\n",
        "    \n",
        "    if(db_distance > sensitivity):\n",
        "        sensitivity = db_distance\n",
        "        \n",
        "  return sensitivity"
      ],
      "execution_count": 0,
      "outputs": []
    },
    {
      "cell_type": "code",
      "metadata": {
        "id": "GWJ3OnREe0jq",
        "colab_type": "code",
        "colab": {}
      },
      "source": [
        "        \n",
        "def laplacian_mechanism(entry,query):\n",
        "  db,dbs=create_db_and_parallels(entry)\n",
        "  sen=sensitivity_two(query,db,dbs)\n",
        "  beta=sen/torch.tensor(epsilon)\n",
        "  n1=np.random.laplace(0,beta,1)\n",
        "  noise=torch.tensor(n1)\n",
        "  return query(db),(query(db)+noise)\n",
        "\n",
        "\n"
      ],
      "execution_count": 0,
      "outputs": []
    },
    {
      "cell_type": "code",
      "metadata": {
        "id": "OLHOMLa1e0jr",
        "colab_type": "code",
        "outputId": "772405f5-2922-4011-b4f6-0dd2c9126991",
        "colab": {
          "base_uri": "https://localhost:8080/",
          "height": 85
        }
      },
      "source": [
        "db_one,db_one_noise=laplacian_mechanism(10,mean)\n",
        "print(\"simple: {} , noise: {} \".format(db_one,db_one_noise))\n",
        "db_two,db_two_noise=laplacian_mechanism(100,mean)\n",
        "print(\"simple: {} , noise: {} \".format(db_two,db_two_noise))\n",
        "db_three,db_three_noise=laplacian_mechanism(1000,mean)\n",
        "print(\"simple: {} , noise: {} \".format(db_three,db_three_noise))\n",
        "db_four,db_four_noise=laplacian_mechanism(10000,mean)\n",
        "print(\"simple: {} , noise: {} \".format(db_four,db_four_noise))\n"
      ],
      "execution_count": 0,
      "outputs": [
        {
          "output_type": "stream",
          "text": [
            "simple: 0.5 , noise: tensor([0.5922], dtype=torch.float64) \n",
            "simple: 0.5 , noise: tensor([0.4975], dtype=torch.float64) \n",
            "simple: 0.5320000052452087 , noise: tensor([0.5337], dtype=torch.float64) \n",
            "simple: 0.5026000142097473 , noise: tensor([0.5027], dtype=torch.float64) \n"
          ],
          "name": "stdout"
        }
      ]
    },
    {
      "cell_type": "code",
      "metadata": {
        "id": "YiVU8TDSe0js",
        "colab_type": "code",
        "outputId": "fa16403e-93f9-4e07-ffd7-cf5be1be6737",
        "colab": {
          "base_uri": "https://localhost:8080/",
          "height": 34
        }
      },
      "source": [
        "\n"
      ],
      "execution_count": 0,
      "outputs": [
        {
          "output_type": "stream",
          "text": [
            "tensor(1)\n"
          ],
          "name": "stdout"
        }
      ]
    },
    {
      "cell_type": "code",
      "metadata": {
        "id": "C3rpIq2ye0ju",
        "colab_type": "code",
        "colab": {}
      },
      "source": [
        "\n"
      ],
      "execution_count": 0,
      "outputs": []
    },
    {
      "cell_type": "code",
      "metadata": {
        "id": "L_rjw1lKe0jv",
        "colab_type": "code",
        "colab": {}
      },
      "source": [
        ""
      ],
      "execution_count": 0,
      "outputs": []
    },
    {
      "cell_type": "code",
      "metadata": {
        "id": "TRgnLJN3e0jx",
        "colab_type": "code",
        "colab": {}
      },
      "source": [
        ""
      ],
      "execution_count": 0,
      "outputs": []
    },
    {
      "cell_type": "code",
      "metadata": {
        "id": "8oc936YQe0jy",
        "colab_type": "code",
        "outputId": "d41bb2eb-c3f8-4628-ce4b-fae65ebb5e60",
        "colab": {
          "base_uri": "https://localhost:8080/",
          "height": 85
        }
      },
      "source": [
        ""
      ],
      "execution_count": 0,
      "outputs": [
        {
          "output_type": "stream",
          "text": [
            "simple: 5 , noise: tensor([5.5908], dtype=torch.float64) \n",
            "simple: 51 , noise: tensor([54.5943], dtype=torch.float64) \n",
            "simple: 500 , noise: tensor([498.8116], dtype=torch.float64) \n",
            "simple: 5037 , noise: tensor([5042.9325], dtype=torch.float64) \n"
          ],
          "name": "stdout"
        }
      ]
    },
    {
      "cell_type": "markdown",
      "metadata": {
        "id": "yXGXObCQe0j1",
        "colab_type": "text"
      },
      "source": [
        "# Lesson: Differential Privacy for Deep Learning\n",
        "\n",
        "So in the last lessons you may have been wondering - what does all of this have to do with Deep Learning? Well, these same techniques we were just studying form the core primitives for how Differential Privacy provides guarantees in the context of Deep Learning. \n",
        "\n",
        "Previously, we defined perfect privacy as \"a query to a database returns the same value even if we remove any person from the database\", and used this intuition in the description of epsilon/delta. In the context of deep learning we have a similar standard.\n",
        "\n",
        "Training a model on a dataset should return the same model even if we remove any person from the dataset.\n",
        "\n",
        "Thus, we've replaced \"querying a database\" with \"training a model on a dataset\". In essence, the training process is a kind of query. However, one should note that this adds two points of complexity which database queries did not have:\n",
        "\n",
        "    1. do we always know where \"people\" are referenced in the dataset?\n",
        "    2. neural models rarely never train to the same output model, even on identical data\n",
        "\n",
        "The answer to (1) is to treat each training example as a single, separate person. Strictly speaking, this is often overly zealous as some training examples have no relevance to people and others may have multiple/partial (consider an image with multiple people contained within it). Thus, localizing exactly where \"people\" are referenced, and thus how much your model would change if people were removed, is challenging.\n",
        "\n",
        "The answer to (2) is also an open problem - but several interesitng proposals have been made. We're going to focus on one of the most popular proposals, PATE.\n",
        "\n",
        "## An Example Scenario: A Health Neural Network\n",
        "\n",
        "First we're going to consider a scenario - you work for a hospital and you have a large collection of images about your patients. However, you don't know what's in them. You would like to use these images to develop a neural network which can automatically classify them, however since your images aren't labeled, they aren't sufficient to train a classifier. \n",
        "\n",
        "However, being a cunning strategist, you realize that you can reach out to 10 partner hospitals which DO have annotated data. It is your hope to train your new classifier on their datasets so that you can automatically label your own. While these hospitals are interested in helping, they have privacy concerns regarding information about their patients. Thus, you will use the following technique to train a classifier which protects the privacy of patients in the other hospitals.\n",
        "\n",
        "- 1) You'll ask each of the 10 hospitals to train a model on their own datasets (All of which have the same kinds of labels)\n",
        "- 2) You'll then use each of the 10 partner models to predict on your local dataset, generating 10 labels for each of your datapoints\n",
        "- 3) Then, for each local data point (now with 10 labels), you will perform a DP query to generate the final true label. This query is a \"max\" function, where \"max\" is the most frequent label across the 10 labels. We will need to add laplacian noise to make this Differentially Private to a certain epsilon/delta constraint.\n",
        "- 4) Finally, we will retrain a new model on our local dataset which now has labels. This will be our final \"DP\" model.\n",
        "\n",
        "So, let's walk through these steps. I will assume you're already familiar with how to train/predict a deep neural network, so we'll skip steps 1 and 2 and work with example data. We'll focus instead on step 3, namely how to perform the DP query for each example using toy data.\n",
        "\n",
        "So, let's say we have 10,000 training examples, and we've got 10 labels for each example (from our 10 \"teacher models\" which were trained directly on private data). Each label is chosen from a set of 10 possible labels (categories) for each image."
      ]
    },
    {
      "cell_type": "code",
      "metadata": {
        "id": "sFKWSm6Se0j1",
        "colab_type": "code",
        "colab": {}
      },
      "source": [
        "import numpy as np "
      ],
      "execution_count": 0,
      "outputs": []
    },
    {
      "cell_type": "code",
      "metadata": {
        "id": "q3IIQu6Je0j2",
        "colab_type": "code",
        "colab": {}
      },
      "source": [
        "num_teachers = 10 # we're working with 10 partner hospitals\n",
        "num_examples = 10000 # the size of OUR dataset\n",
        "num_labels = 10 # number of lablels for our classifier"
      ],
      "execution_count": 0,
      "outputs": []
    },
    {
      "cell_type": "code",
      "metadata": {
        "id": "Nbhi3XsNe0j4",
        "colab_type": "code",
        "colab": {}
      },
      "source": [
        "preds = (np.random.rand(num_teachers, num_examples) * num_labels).astype(int).transpose(1,0) # fake predictions\n"
      ],
      "execution_count": 0,
      "outputs": []
    },
    {
      "cell_type": "code",
      "metadata": {
        "id": "kRvjML79I9Tj",
        "colab_type": "code",
        "colab": {
          "base_uri": "https://localhost:8080/",
          "height": 34
        },
        "outputId": "1afb47fb-2a9d-41e8-e2a2-72feab407d52"
      },
      "source": [
        "preds.shape"
      ],
      "execution_count": 159,
      "outputs": [
        {
          "output_type": "execute_result",
          "data": {
            "text/plain": [
              "(10000, 10)"
            ]
          },
          "metadata": {
            "tags": []
          },
          "execution_count": 159
        }
      ]
    },
    {
      "cell_type": "code",
      "metadata": {
        "id": "9c5UVTGEe0j5",
        "colab_type": "code",
        "colab": {}
      },
      "source": [
        "new_labels = list()\n",
        "for an_image in preds:\n",
        "\n",
        "    label_counts = np.bincount(an_image, minlength=num_labels)\n",
        "\n",
        "    epsilon = 0.1\n",
        "    beta = 1 / epsilon\n",
        "\n",
        "    for i in range(len(label_counts)):\n",
        "        label_counts[i] += np.random.laplace(0, beta, 1)\n",
        "\n",
        "    new_label = np.argmax(label_counts)\n",
        "    \n",
        "    new_labels.append(new_label)"
      ],
      "execution_count": 0,
      "outputs": []
    },
    {
      "cell_type": "code",
      "metadata": {
        "id": "NK0BCM-ke0j7",
        "colab_type": "code",
        "colab": {}
      },
      "source": [
        "new_labels"
      ],
      "execution_count": 0,
      "outputs": []
    },
    {
      "cell_type": "markdown",
      "metadata": {
        "id": "iTeL2CBJe0j9",
        "colab_type": "text"
      },
      "source": [
        "# PATE Analysis"
      ]
    },
    {
      "cell_type": "code",
      "metadata": {
        "id": "WNCto0ZAe0j-",
        "colab_type": "code",
        "outputId": "2aeb0b1c-df71-4675-9aa5-dc1d219289b9",
        "colab": {
          "base_uri": "https://localhost:8080/",
          "height": 34
        }
      },
      "source": [
        "labels = np.array([9, 9, 3, 6, 9, 9, 9, 9, 8, 2])\n",
        "counts = np.bincount(labels, minlength=10)\n",
        "query_result = np.argmax(counts)\n",
        "query_result"
      ],
      "execution_count": 0,
      "outputs": [
        {
          "output_type": "execute_result",
          "data": {
            "text/plain": [
              "9"
            ]
          },
          "metadata": {
            "tags": []
          },
          "execution_count": 7
        }
      ]
    },
    {
      "cell_type": "code",
      "metadata": {
        "id": "229sTRWTe0kA",
        "colab_type": "code",
        "colab": {}
      },
      "source": [
        "from syft.frameworks.torch.differential_privacy import pate"
      ],
      "execution_count": 0,
      "outputs": []
    },
    {
      "cell_type": "code",
      "metadata": {
        "id": "qoDbCXZFe0kB",
        "colab_type": "code",
        "outputId": "8ef011d7-3ac0-4a09-c223-778d1ba97bd9",
        "colab": {
          "base_uri": "https://localhost:8080/",
          "height": 34
        }
      },
      "source": [
        "num_teachers, num_examples, num_labels = (100, 100, 10)\n",
        "preds = (np.random.rand(num_teachers, num_examples) * num_labels).astype(int) #fake preds\n",
        "indices = (np.random.rand(num_examples) * num_labels).astype(int) # true answers\n",
        "preds.shape\n",
        "preds[:,0:10] *= 0\n",
        "\n",
        "data_dep_eps, data_ind_eps = pate.perform_analysis(teacher_preds=preds, indices=indices, noise_eps=0.1, delta=1e-5)\n",
        "\n",
        "assert data_dep_eps < data_ind_eps\n",
        "preds.shape\n"
      ],
      "execution_count": 195,
      "outputs": [
        {
          "output_type": "stream",
          "text": [
            "Warning: May not have used enough values of l. Increase 'moments' variable and run again.\n"
          ],
          "name": "stdout"
        }
      ]
    },
    {
      "cell_type": "code",
      "metadata": {
        "id": "0OruLCFXe0kD",
        "colab_type": "code",
        "outputId": "0a1567c5-58b7-4eed-a217-fd30ac1a0a94",
        "colab": {
          "base_uri": "https://localhost:8080/",
          "height": 68
        }
      },
      "source": [
        "data_dep_eps, data_ind_eps = pate.perform_analysis(teacher_preds=preds, indices=indices, noise_eps=0.1, delta=1e-5)\n",
        "print(\"Data Independent Epsilon:\", data_ind_eps)\n",
        "print(\"Data Dependent Epsilon:\", data_dep_eps)"
      ],
      "execution_count": 196,
      "outputs": [
        {
          "output_type": "stream",
          "text": [
            "Warning: May not have used enough values of l. Increase 'moments' variable and run again.\n",
            "Data Independent Epsilon: 11.756462732485115\n",
            "Data Dependent Epsilon: 1.52655213289881\n"
          ],
          "name": "stdout"
        }
      ]
    },
    {
      "cell_type": "code",
      "metadata": {
        "id": "xYxsE9r8e0kF",
        "colab_type": "code",
        "colab": {
          "base_uri": "https://localhost:8080/",
          "height": 102
        },
        "outputId": "51a0790d-9428-4405-b765-8a38f4026a48"
      },
      "source": [
        "preds[:,0:50] *= 0"
      ],
      "execution_count": 198,
      "outputs": [
        {
          "output_type": "execute_result",
          "data": {
            "text/plain": [
              "array([6, 5, 4, 9, 3, 7, 9, 0, 5, 3, 7, 2, 7, 0, 0, 1, 2, 8, 8, 0, 9, 6,\n",
              "       8, 8, 4, 9, 3, 7, 8, 5, 2, 2, 1, 0, 2, 4, 4, 0, 2, 7, 7, 8, 6, 9,\n",
              "       7, 4, 5, 2, 9, 6, 8, 0, 3, 6, 5, 5, 6, 9, 3, 3, 4, 0, 4, 3, 6, 9,\n",
              "       2, 1, 2, 1, 6, 7, 6, 3, 0, 8, 6, 8, 5, 3, 8, 1, 8, 5, 9, 6, 1, 5,\n",
              "       7, 6, 0, 4, 4, 0, 2, 7, 3, 3, 5, 5])"
            ]
          },
          "metadata": {
            "tags": []
          },
          "execution_count": 198
        }
      ]
    },
    {
      "cell_type": "code",
      "metadata": {
        "id": "ZTUI5bL7e0kG",
        "colab_type": "code",
        "outputId": "6dc8b6aa-6a7d-46f0-aced-f16ad5449d2d",
        "colab": {
          "base_uri": "https://localhost:8080/",
          "height": 51
        }
      },
      "source": [
        "data_dep_eps, data_ind_eps = pate.perform_analysis(teacher_preds=preds, indices=indices, noise_eps=0.1, delta=1e-5, moments=20)\n",
        "print(\"Data Independent Epsilon:\", data_ind_eps)\n",
        "print(\"Data Dependent Epsilon:\", data_dep_eps)"
      ],
      "execution_count": 0,
      "outputs": [
        {
          "output_type": "stream",
          "text": [
            "Data Independent Epsilon: 11.756462732485115\n",
            "Data Dependent Epsilon: 0.9029013677789843\n"
          ],
          "name": "stdout"
        }
      ]
    },
    {
      "cell_type": "code",
      "metadata": {
        "id": "MrQC72U8e0kI",
        "colab_type": "code",
        "colab": {}
      },
      "source": [
        ""
      ],
      "execution_count": 0,
      "outputs": []
    },
    {
      "cell_type": "markdown",
      "metadata": {
        "id": "HMJX9i42e0kJ",
        "colab_type": "text"
      },
      "source": [
        "# Where to Go From Here\n",
        "\n",
        "\n",
        "Read:\n",
        "    - Algorithmic Foundations of Differential Privacy: https://www.cis.upenn.edu/~aaroth/Papers/privacybook.pdf\n",
        "    - Deep Learning with Differential Privacy: https://arxiv.org/pdf/1607.00133.pdf\n",
        "    - The Ethical Algorithm: https://www.amazon.com/Ethical-Algorithm-Science-Socially-Design/dp/0190948205\n",
        "   \n",
        "Topics:\n",
        "    - The Exponential Mechanism\n",
        "    - The Moment's Accountant\n",
        "    - Differentially Private Stochastic Gradient Descent\n",
        "\n",
        "Advice:\n",
        "    - For deployments - stick with public frameworks!\n",
        "    - Join the Differential Privacy Community\n",
        "    - Don't get ahead of yourself - DP is still in the early days"
      ]
    },
    {
      "cell_type": "code",
      "metadata": {
        "id": "6M4tSlZIe0kJ",
        "colab_type": "code",
        "colab": {}
      },
      "source": [
        ""
      ],
      "execution_count": 0,
      "outputs": []
    },
    {
      "cell_type": "code",
      "metadata": {
        "id": "Bb4oeZ2Me0kM",
        "colab_type": "code",
        "colab": {}
      },
      "source": [
        ""
      ],
      "execution_count": 0,
      "outputs": []
    },
    {
      "cell_type": "markdown",
      "metadata": {
        "id": "3ANYeCWxe0kN",
        "colab_type": "text"
      },
      "source": [
        "# Section Project:\n",
        "\n",
        "For the final project for this section, you're going to train a DP model using this PATE method on the MNIST dataset, provided below."
      ]
    },
    {
      "cell_type": "code",
      "metadata": {
        "id": "apRK8KDOe0kN",
        "colab_type": "code",
        "colab": {}
      },
      "source": [
        "import torch \n",
        "import torch.nn as nn\n",
        "import torch.nn.functional as f\n",
        "from torch import optim\n",
        "from torchvision import datasets, transforms\n",
        "transform = transforms.Compose([transforms.ToTensor(),\n",
        "                                transforms.Normalize((0.5, 0.5, 0.5), (0.5, 0.5, 0.5)),\n",
        "                              ])\n",
        "mnist_trainset = datasets.MNIST(root='./data', train=True, download=True, transform=transform)\n"
      ],
      "execution_count": 0,
      "outputs": []
    },
    {
      "cell_type": "code",
      "metadata": {
        "id": "Fz50m6FYe0kP",
        "colab_type": "code",
        "outputId": "e9f584e8-be6a-4da1-90da-648a1d667142",
        "colab": {
          "base_uri": "https://localhost:8080/",
          "height": 85
        }
      },
      "source": [
        "train_data = mnist_trainset.train_data\n",
        "train_targets = mnist_trainset.train_labels\n"
      ],
      "execution_count": 101,
      "outputs": [
        {
          "output_type": "stream",
          "text": [
            "/usr/local/lib/python3.6/dist-packages/torchvision/datasets/mnist.py:53: UserWarning: train_data has been renamed data\n",
            "  warnings.warn(\"train_data has been renamed data\")\n",
            "/usr/local/lib/python3.6/dist-packages/torchvision/datasets/mnist.py:43: UserWarning: train_labels has been renamed targets\n",
            "  warnings.warn(\"train_labels has been renamed targets\")\n"
          ],
          "name": "stderr"
        }
      ]
    },
    {
      "cell_type": "code",
      "metadata": {
        "id": "muu-PKmze0kQ",
        "colab_type": "code",
        "outputId": "da509730-faa8-4b94-a0d0-2cc40fa77388",
        "colab": {
          "base_uri": "https://localhost:8080/",
          "height": 85
        }
      },
      "source": [
        "test_data = mnist_trainset.test_data\n",
        "test_targets = mnist_trainset.test_labels"
      ],
      "execution_count": 102,
      "outputs": [
        {
          "output_type": "stream",
          "text": [
            "/usr/local/lib/python3.6/dist-packages/torchvision/datasets/mnist.py:58: UserWarning: test_data has been renamed data\n",
            "  warnings.warn(\"test_data has been renamed data\")\n",
            "/usr/local/lib/python3.6/dist-packages/torchvision/datasets/mnist.py:48: UserWarning: test_labels has been renamed targets\n",
            "  warnings.warn(\"test_labels has been renamed targets\")\n"
          ],
          "name": "stderr"
        }
      ]
    },
    {
      "cell_type": "code",
      "metadata": {
        "id": "UXOtLSwge0kU",
        "colab_type": "code",
        "outputId": "ddc3e71b-8e27-4ee2-e2a0-cdb8459ab78e",
        "colab": {
          "base_uri": "https://localhost:8080/",
          "height": 221
        }
      },
      "source": [
        "# train_data_one=train_data[:10000,:]\n",
        "# print(train_data_one.shape)\n",
        "# train_targets_one=train_targets[:10000]\n",
        "# print(train_targets_one.shape)\n",
        "# train_data_two=train_data[10000:20000,:]\n",
        "# print(train_data_two.shape)\n",
        "# train_targets_two=train_targets[10000:20000]\n",
        "# print(train_targets_two.shape)\n",
        "# train_data_three=train_data[20000:30000,:]\n",
        "# print(train_data_three.shape)\n",
        "# train_targets_three=train_targets[20000:30000]\n",
        "# print(train_targets_three.shape)\n",
        "# train_data_four=train_data[30000:40000,:]\n",
        "# print(train_data_four.shape)\n",
        "# train_targets_four=train_targets[30000:40000]\n",
        "# print(train_targets_four.shape)\n",
        "# train_data_five=train_data[40000:50000,:]\n",
        "# print(train_data_five.shape)\n",
        "# train_targets_five=train_targets[40000:50000]\n",
        "# print(train_targets_five.shape)\n",
        "# train_data_six=train_data[50000:,:]\n",
        "# print(train_data_six.shape)\n",
        "# train_targets_six=train_targets[50000:]\n",
        "# print(train_targets_six.shape)\n",
        "\n"
      ],
      "execution_count": 76,
      "outputs": [
        {
          "output_type": "stream",
          "text": [
            "torch.Size([10000, 28, 28])\n",
            "torch.Size([10000])\n",
            "torch.Size([10000, 28, 28])\n",
            "torch.Size([10000])\n",
            "torch.Size([10000, 28, 28])\n",
            "torch.Size([10000])\n",
            "torch.Size([10000, 28, 28])\n",
            "torch.Size([10000])\n",
            "torch.Size([10000, 28, 28])\n",
            "torch.Size([10000])\n",
            "torch.Size([10000, 28, 28])\n",
            "torch.Size([10000])\n"
          ],
          "name": "stdout"
        }
      ]
    },
    {
      "cell_type": "code",
      "metadata": {
        "id": "6ddVRJo6yAh8",
        "colab_type": "code",
        "colab": {}
      },
      "source": [
        "\n",
        "from torch.utils.data import TensorDataset,DataLoader\n",
        "batch_size=100\n",
        "def data_label(data,targets,size):\n",
        "  dataset=TensorDataset(data,targets)\n",
        "  data=DataLoader(dataset,batch_size=size,shuffle=True)\n",
        "  return data\n",
        "def data_label_test(data,targets,size):\n",
        "  dataset=TensorDataset(data,targets)\n",
        "  data=DataLoader(dataset,batch_size=size,shuffle=False)\n",
        "  return data"
      ],
      "execution_count": 0,
      "outputs": []
    },
    {
      "cell_type": "code",
      "metadata": {
        "id": "-wOifwWkyAsq",
        "colab_type": "code",
        "colab": {}
      },
      "source": [
        "class digit_classifier(nn.Module):\n",
        "    def __init__(self):\n",
        "        super().__init__()\n",
        "        self.fc1=nn.Linear(784,256)\n",
        "        self.fc2=nn.Linear(256,128)\n",
        "        self.fc3=nn.Linear(128,100)\n",
        "        self.fc4=nn.Linear(100,10)\n",
        "        \n",
        "        self.dropout=nn.Dropout(p=0.2)\n",
        "        \n",
        "    def forward(self,x):\n",
        "        x = x.view(x.shape[0], -1)\n",
        "        x=self.dropout(f.relu(self.fc1(x)))\n",
        "        x=self.dropout(f.relu(self.fc2(x)))\n",
        "        x=self.dropout(f.relu(self.fc3(x)))\n",
        "        \n",
        "        x=f.log_softmax(self.fc4(x),dim=1)\n",
        "        return x\n",
        "      "
      ],
      "execution_count": 0,
      "outputs": []
    },
    {
      "cell_type": "code",
      "metadata": {
        "id": "tXWP8o2myAw6",
        "colab_type": "code",
        "colab": {}
      },
      "source": [
        "\n",
        "teachers=list()\n",
        "student=list()\n",
        "testloader=data_label_test(test_data,test_targets,size)\n"
      ],
      "execution_count": 0,
      "outputs": []
    },
    {
      "cell_type": "code",
      "metadata": {
        "id": "mBxC-cy8y3Wr",
        "colab_type": "code",
        "colab": {
          "base_uri": "https://localhost:8080/",
          "height": 1000
        },
        "outputId": "df48123e-5c24-46f3-ec85-2402324f4bf6"
      },
      "source": [
        "teacher.clear()\n",
        "for i in range(6):\n",
        "  model=digit_classifier()\n",
        "  criterion = nn.NLLLoss()\n",
        "  optimizer = optim.Adam(model.parameters(), lr=0.003)\n",
        "  epochs = 30\n",
        "  steps = 0\n",
        "  train_losses, test_losses = [], []\n",
        "  size=100\n",
        "  data=train_data[i*10000:((i+1)*10000),:]\n",
        "  label=train_targets[i*10000:((i+1)*10000)]\n",
        "  trainloader=data_label(data,label,size)\n",
        "  for e in range(epochs):\n",
        "      running_loss = 0\n",
        "      for images, labels in trainloader:\n",
        "          images=images.float()\n",
        "          optimizer.zero_grad()\n",
        "\n",
        "          log_ps = model(images)\n",
        "          loss = criterion(log_ps, labels)\n",
        "          loss.backward()\n",
        "          optimizer.step()\n",
        "\n",
        "          running_loss += loss.item()\n",
        "      else:\n",
        "          test_loss=0\n",
        "          accuracy=0\n",
        "          with torch.no_grad():\n",
        "              model.eval()\n",
        "          # validation pass here\n",
        "              for images, labels in testloader:\n",
        "                  images=images.float()\n",
        "                  val=model(images)\n",
        "                  test_loss += criterion(val, labels)\n",
        "                  val_prob= torch.exp(val)\n",
        "                  top_p, top_class = val_prob.topk(1, dim=1)\n",
        "                  \n",
        "                  equals = top_class == labels.view(*top_class.shape)\n",
        "                  accuracy += torch.mean(equals.type(torch.FloatTensor))\n",
        "          model.train()\n",
        "          train_losses.append(running_loss/len(trainloader))\n",
        "          test_losses.append(test_loss/len(testloader))\n",
        "          print(\"Epoch:{}/{}.. \".format(e+1, epochs),\n",
        "               \"Training Loss: {:.3f}.. \".format(running_loss/len(trainloader)),\n",
        "               \"Test Loss: {:.3f}.. \".format(test_loss/len(testloader)),\n",
        "               \"Test Accuracy: {:.3f}\".format(accuracy/len(testloader)))\n",
        "  else:\n",
        "    with torch.no_grad():\n",
        "              model.eval()\n",
        "          # validation pass here\n",
        "              for images, labels in testloader:\n",
        "                  images=images.float()\n",
        "                  val=model(images)\n",
        "                  val_prob= torch.exp(val)\n",
        "                  top_p, top_class = val_prob.topk(1, dim=1)\n",
        "                  student.append(top_class)\n",
        "              teacher.append(list(student))\n",
        "              student.clear()\n",
        "    model.train()\n",
        "    "
      ],
      "execution_count": 121,
      "outputs": [
        {
          "output_type": "stream",
          "text": [
            "Epoch:1/30..  Training Loss: 1.117..  Test Loss: 0.329..  Test Accuracy: 0.904\n",
            "Epoch:2/30..  Training Loss: 0.436..  Test Loss: 0.267..  Test Accuracy: 0.922\n",
            "Epoch:3/30..  Training Loss: 0.338..  Test Loss: 0.255..  Test Accuracy: 0.929\n",
            "Epoch:4/30..  Training Loss: 0.318..  Test Loss: 0.273..  Test Accuracy: 0.920\n",
            "Epoch:5/30..  Training Loss: 0.273..  Test Loss: 0.234..  Test Accuracy: 0.937\n",
            "Epoch:6/30..  Training Loss: 0.254..  Test Loss: 0.220..  Test Accuracy: 0.942\n",
            "Epoch:7/30..  Training Loss: 0.242..  Test Loss: 0.249..  Test Accuracy: 0.937\n",
            "Epoch:8/30..  Training Loss: 0.236..  Test Loss: 0.226..  Test Accuracy: 0.943\n",
            "Epoch:9/30..  Training Loss: 0.227..  Test Loss: 0.224..  Test Accuracy: 0.945\n",
            "Epoch:10/30..  Training Loss: 0.230..  Test Loss: 0.228..  Test Accuracy: 0.944\n",
            "Epoch:11/30..  Training Loss: 0.200..  Test Loss: 0.229..  Test Accuracy: 0.948\n",
            "Epoch:12/30..  Training Loss: 0.179..  Test Loss: 0.226..  Test Accuracy: 0.947\n",
            "Epoch:13/30..  Training Loss: 0.207..  Test Loss: 0.277..  Test Accuracy: 0.935\n",
            "Epoch:14/30..  Training Loss: 0.196..  Test Loss: 0.256..  Test Accuracy: 0.947\n",
            "Epoch:15/30..  Training Loss: 0.219..  Test Loss: 0.274..  Test Accuracy: 0.940\n",
            "Epoch:16/30..  Training Loss: 0.245..  Test Loss: 0.260..  Test Accuracy: 0.941\n",
            "Epoch:17/30..  Training Loss: 0.208..  Test Loss: 0.259..  Test Accuracy: 0.946\n",
            "Epoch:18/30..  Training Loss: 0.184..  Test Loss: 0.254..  Test Accuracy: 0.950\n",
            "Epoch:19/30..  Training Loss: 0.196..  Test Loss: 0.243..  Test Accuracy: 0.949\n",
            "Epoch:20/30..  Training Loss: 0.173..  Test Loss: 0.238..  Test Accuracy: 0.948\n",
            "Epoch:21/30..  Training Loss: 0.186..  Test Loss: 0.256..  Test Accuracy: 0.947\n",
            "Epoch:22/30..  Training Loss: 0.196..  Test Loss: 0.285..  Test Accuracy: 0.947\n",
            "Epoch:23/30..  Training Loss: 0.178..  Test Loss: 0.291..  Test Accuracy: 0.948\n",
            "Epoch:24/30..  Training Loss: 0.182..  Test Loss: 0.283..  Test Accuracy: 0.948\n",
            "Epoch:25/30..  Training Loss: 0.223..  Test Loss: 0.303..  Test Accuracy: 0.949\n",
            "Epoch:26/30..  Training Loss: 0.201..  Test Loss: 0.269..  Test Accuracy: 0.946\n",
            "Epoch:27/30..  Training Loss: 0.213..  Test Loss: 0.334..  Test Accuracy: 0.941\n",
            "Epoch:28/30..  Training Loss: 0.245..  Test Loss: 0.311..  Test Accuracy: 0.948\n",
            "Epoch:29/30..  Training Loss: 0.194..  Test Loss: 0.324..  Test Accuracy: 0.945\n",
            "Epoch:30/30..  Training Loss: 0.197..  Test Loss: 0.296..  Test Accuracy: 0.947\n",
            "Epoch:1/30..  Training Loss: 1.116..  Test Loss: 0.343..  Test Accuracy: 0.901\n",
            "Epoch:2/30..  Training Loss: 0.430..  Test Loss: 0.283..  Test Accuracy: 0.922\n",
            "Epoch:3/30..  Training Loss: 0.354..  Test Loss: 0.252..  Test Accuracy: 0.933\n",
            "Epoch:4/30..  Training Loss: 0.326..  Test Loss: 0.264..  Test Accuracy: 0.932\n",
            "Epoch:5/30..  Training Loss: 0.290..  Test Loss: 0.216..  Test Accuracy: 0.940\n",
            "Epoch:6/30..  Training Loss: 0.244..  Test Loss: 0.234..  Test Accuracy: 0.941\n",
            "Epoch:7/30..  Training Loss: 0.222..  Test Loss: 0.269..  Test Accuracy: 0.934\n",
            "Epoch:8/30..  Training Loss: 0.220..  Test Loss: 0.206..  Test Accuracy: 0.950\n",
            "Epoch:9/30..  Training Loss: 0.207..  Test Loss: 0.209..  Test Accuracy: 0.951\n",
            "Epoch:10/30..  Training Loss: 0.211..  Test Loss: 0.234..  Test Accuracy: 0.945\n",
            "Epoch:11/30..  Training Loss: 0.207..  Test Loss: 0.219..  Test Accuracy: 0.948\n",
            "Epoch:12/30..  Training Loss: 0.226..  Test Loss: 0.235..  Test Accuracy: 0.943\n",
            "Epoch:13/30..  Training Loss: 0.211..  Test Loss: 0.250..  Test Accuracy: 0.949\n",
            "Epoch:14/30..  Training Loss: 0.203..  Test Loss: 0.220..  Test Accuracy: 0.950\n",
            "Epoch:15/30..  Training Loss: 0.219..  Test Loss: 0.252..  Test Accuracy: 0.947\n",
            "Epoch:16/30..  Training Loss: 0.193..  Test Loss: 0.253..  Test Accuracy: 0.951\n",
            "Epoch:17/30..  Training Loss: 0.199..  Test Loss: 0.269..  Test Accuracy: 0.948\n",
            "Epoch:18/30..  Training Loss: 0.193..  Test Loss: 0.270..  Test Accuracy: 0.947\n",
            "Epoch:19/30..  Training Loss: 0.186..  Test Loss: 0.269..  Test Accuracy: 0.948\n",
            "Epoch:20/30..  Training Loss: 0.193..  Test Loss: 0.247..  Test Accuracy: 0.953\n",
            "Epoch:21/30..  Training Loss: 0.190..  Test Loss: 0.269..  Test Accuracy: 0.953\n",
            "Epoch:22/30..  Training Loss: 0.204..  Test Loss: 0.285..  Test Accuracy: 0.949\n",
            "Epoch:23/30..  Training Loss: 0.185..  Test Loss: 0.258..  Test Accuracy: 0.950\n",
            "Epoch:24/30..  Training Loss: 0.181..  Test Loss: 0.334..  Test Accuracy: 0.950\n",
            "Epoch:25/30..  Training Loss: 0.207..  Test Loss: 0.257..  Test Accuracy: 0.953\n",
            "Epoch:26/30..  Training Loss: 0.176..  Test Loss: 0.303..  Test Accuracy: 0.950\n",
            "Epoch:27/30..  Training Loss: 0.207..  Test Loss: 0.313..  Test Accuracy: 0.952\n",
            "Epoch:28/30..  Training Loss: 0.194..  Test Loss: 0.292..  Test Accuracy: 0.947\n",
            "Epoch:29/30..  Training Loss: 0.175..  Test Loss: 0.312..  Test Accuracy: 0.954\n",
            "Epoch:30/30..  Training Loss: 0.191..  Test Loss: 0.315..  Test Accuracy: 0.948\n",
            "Epoch:1/30..  Training Loss: 1.314..  Test Loss: 0.327..  Test Accuracy: 0.903\n",
            "Epoch:2/30..  Training Loss: 0.448..  Test Loss: 0.263..  Test Accuracy: 0.926\n",
            "Epoch:3/30..  Training Loss: 0.350..  Test Loss: 0.282..  Test Accuracy: 0.921\n",
            "Epoch:4/30..  Training Loss: 0.300..  Test Loss: 0.242..  Test Accuracy: 0.932\n",
            "Epoch:5/30..  Training Loss: 0.289..  Test Loss: 0.238..  Test Accuracy: 0.933\n",
            "Epoch:6/30..  Training Loss: 0.256..  Test Loss: 0.226..  Test Accuracy: 0.938\n",
            "Epoch:7/30..  Training Loss: 0.237..  Test Loss: 0.206..  Test Accuracy: 0.944\n",
            "Epoch:8/30..  Training Loss: 0.255..  Test Loss: 0.205..  Test Accuracy: 0.945\n",
            "Epoch:9/30..  Training Loss: 0.220..  Test Loss: 0.200..  Test Accuracy: 0.947\n",
            "Epoch:10/30..  Training Loss: 0.196..  Test Loss: 0.213..  Test Accuracy: 0.946\n",
            "Epoch:11/30..  Training Loss: 0.193..  Test Loss: 0.202..  Test Accuracy: 0.950\n",
            "Epoch:12/30..  Training Loss: 0.222..  Test Loss: 0.215..  Test Accuracy: 0.945\n",
            "Epoch:13/30..  Training Loss: 0.220..  Test Loss: 0.255..  Test Accuracy: 0.944\n",
            "Epoch:14/30..  Training Loss: 0.209..  Test Loss: 0.240..  Test Accuracy: 0.947\n",
            "Epoch:15/30..  Training Loss: 0.208..  Test Loss: 0.255..  Test Accuracy: 0.941\n",
            "Epoch:16/30..  Training Loss: 0.237..  Test Loss: 0.238..  Test Accuracy: 0.944\n",
            "Epoch:17/30..  Training Loss: 0.217..  Test Loss: 0.242..  Test Accuracy: 0.942\n",
            "Epoch:18/30..  Training Loss: 0.202..  Test Loss: 0.260..  Test Accuracy: 0.944\n",
            "Epoch:19/30..  Training Loss: 0.178..  Test Loss: 0.224..  Test Accuracy: 0.949\n",
            "Epoch:20/30..  Training Loss: 0.186..  Test Loss: 0.270..  Test Accuracy: 0.944\n",
            "Epoch:21/30..  Training Loss: 0.183..  Test Loss: 0.253..  Test Accuracy: 0.950\n",
            "Epoch:22/30..  Training Loss: 0.169..  Test Loss: 0.269..  Test Accuracy: 0.950\n",
            "Epoch:23/30..  Training Loss: 0.221..  Test Loss: 0.271..  Test Accuracy: 0.946\n",
            "Epoch:24/30..  Training Loss: 0.190..  Test Loss: 0.278..  Test Accuracy: 0.949\n",
            "Epoch:25/30..  Training Loss: 0.184..  Test Loss: 0.293..  Test Accuracy: 0.945\n",
            "Epoch:26/30..  Training Loss: 0.221..  Test Loss: 0.288..  Test Accuracy: 0.950\n",
            "Epoch:27/30..  Training Loss: 0.218..  Test Loss: 0.321..  Test Accuracy: 0.941\n",
            "Epoch:28/30..  Training Loss: 0.210..  Test Loss: 0.306..  Test Accuracy: 0.946\n",
            "Epoch:29/30..  Training Loss: 0.226..  Test Loss: 0.288..  Test Accuracy: 0.950\n",
            "Epoch:30/30..  Training Loss: 0.204..  Test Loss: 0.282..  Test Accuracy: 0.945\n",
            "Epoch:1/30..  Training Loss: 1.047..  Test Loss: 0.332..  Test Accuracy: 0.906\n",
            "Epoch:2/30..  Training Loss: 0.478..  Test Loss: 0.338..  Test Accuracy: 0.906\n",
            "Epoch:3/30..  Training Loss: 0.366..  Test Loss: 0.293..  Test Accuracy: 0.920\n",
            "Epoch:4/30..  Training Loss: 0.320..  Test Loss: 0.286..  Test Accuracy: 0.922\n",
            "Epoch:5/30..  Training Loss: 0.295..  Test Loss: 0.247..  Test Accuracy: 0.936\n",
            "Epoch:6/30..  Training Loss: 0.270..  Test Loss: 0.210..  Test Accuracy: 0.943\n",
            "Epoch:7/30..  Training Loss: 0.238..  Test Loss: 0.211..  Test Accuracy: 0.945\n",
            "Epoch:8/30..  Training Loss: 0.234..  Test Loss: 0.223..  Test Accuracy: 0.943\n",
            "Epoch:9/30..  Training Loss: 0.232..  Test Loss: 0.225..  Test Accuracy: 0.946\n",
            "Epoch:10/30..  Training Loss: 0.220..  Test Loss: 0.253..  Test Accuracy: 0.938\n",
            "Epoch:11/30..  Training Loss: 0.245..  Test Loss: 0.242..  Test Accuracy: 0.945\n",
            "Epoch:12/30..  Training Loss: 0.229..  Test Loss: 0.225..  Test Accuracy: 0.949\n",
            "Epoch:13/30..  Training Loss: 0.223..  Test Loss: 0.210..  Test Accuracy: 0.947\n",
            "Epoch:14/30..  Training Loss: 0.239..  Test Loss: 0.263..  Test Accuracy: 0.944\n",
            "Epoch:15/30..  Training Loss: 0.243..  Test Loss: 0.242..  Test Accuracy: 0.948\n",
            "Epoch:16/30..  Training Loss: 0.226..  Test Loss: 0.301..  Test Accuracy: 0.939\n",
            "Epoch:17/30..  Training Loss: 0.212..  Test Loss: 0.290..  Test Accuracy: 0.950\n",
            "Epoch:18/30..  Training Loss: 0.195..  Test Loss: 0.273..  Test Accuracy: 0.946\n",
            "Epoch:19/30..  Training Loss: 0.181..  Test Loss: 0.254..  Test Accuracy: 0.953\n",
            "Epoch:20/30..  Training Loss: 0.209..  Test Loss: 0.271..  Test Accuracy: 0.950\n",
            "Epoch:21/30..  Training Loss: 0.189..  Test Loss: 0.268..  Test Accuracy: 0.954\n",
            "Epoch:22/30..  Training Loss: 0.198..  Test Loss: 0.315..  Test Accuracy: 0.950\n",
            "Epoch:23/30..  Training Loss: 0.184..  Test Loss: 0.354..  Test Accuracy: 0.947\n",
            "Epoch:24/30..  Training Loss: 0.242..  Test Loss: 0.267..  Test Accuracy: 0.950\n",
            "Epoch:25/30..  Training Loss: 0.175..  Test Loss: 0.303..  Test Accuracy: 0.953\n",
            "Epoch:26/30..  Training Loss: 0.209..  Test Loss: 0.336..  Test Accuracy: 0.950\n",
            "Epoch:27/30..  Training Loss: 0.198..  Test Loss: 0.297..  Test Accuracy: 0.951\n",
            "Epoch:28/30..  Training Loss: 0.212..  Test Loss: 0.293..  Test Accuracy: 0.948\n",
            "Epoch:29/30..  Training Loss: 0.222..  Test Loss: 0.292..  Test Accuracy: 0.947\n",
            "Epoch:30/30..  Training Loss: 0.204..  Test Loss: 0.315..  Test Accuracy: 0.947\n",
            "Epoch:1/30..  Training Loss: 1.095..  Test Loss: 0.330..  Test Accuracy: 0.907\n",
            "Epoch:2/30..  Training Loss: 0.437..  Test Loss: 0.274..  Test Accuracy: 0.924\n",
            "Epoch:3/30..  Training Loss: 0.354..  Test Loss: 0.246..  Test Accuracy: 0.933\n",
            "Epoch:4/30..  Training Loss: 0.307..  Test Loss: 0.218..  Test Accuracy: 0.939\n",
            "Epoch:5/30..  Training Loss: 0.275..  Test Loss: 0.273..  Test Accuracy: 0.927\n",
            "Epoch:6/30..  Training Loss: 0.275..  Test Loss: 0.243..  Test Accuracy: 0.943\n",
            "Epoch:7/30..  Training Loss: 0.266..  Test Loss: 0.243..  Test Accuracy: 0.939\n",
            "Epoch:8/30..  Training Loss: 0.249..  Test Loss: 0.253..  Test Accuracy: 0.934\n",
            "Epoch:9/30..  Training Loss: 0.255..  Test Loss: 0.231..  Test Accuracy: 0.944\n",
            "Epoch:10/30..  Training Loss: 0.221..  Test Loss: 0.243..  Test Accuracy: 0.946\n",
            "Epoch:11/30..  Training Loss: 0.234..  Test Loss: 0.234..  Test Accuracy: 0.948\n",
            "Epoch:12/30..  Training Loss: 0.225..  Test Loss: 0.240..  Test Accuracy: 0.946\n",
            "Epoch:13/30..  Training Loss: 0.216..  Test Loss: 0.254..  Test Accuracy: 0.948\n",
            "Epoch:14/30..  Training Loss: 0.229..  Test Loss: 0.295..  Test Accuracy: 0.935\n",
            "Epoch:15/30..  Training Loss: 0.249..  Test Loss: 0.287..  Test Accuracy: 0.942\n",
            "Epoch:16/30..  Training Loss: 0.241..  Test Loss: 0.263..  Test Accuracy: 0.947\n",
            "Epoch:17/30..  Training Loss: 0.198..  Test Loss: 0.236..  Test Accuracy: 0.950\n",
            "Epoch:18/30..  Training Loss: 0.192..  Test Loss: 0.296..  Test Accuracy: 0.947\n",
            "Epoch:19/30..  Training Loss: 0.202..  Test Loss: 0.281..  Test Accuracy: 0.950\n",
            "Epoch:20/30..  Training Loss: 0.225..  Test Loss: 0.272..  Test Accuracy: 0.947\n",
            "Epoch:21/30..  Training Loss: 0.199..  Test Loss: 0.276..  Test Accuracy: 0.949\n",
            "Epoch:22/30..  Training Loss: 0.209..  Test Loss: 0.298..  Test Accuracy: 0.950\n",
            "Epoch:23/30..  Training Loss: 0.202..  Test Loss: 0.303..  Test Accuracy: 0.947\n",
            "Epoch:24/30..  Training Loss: 0.190..  Test Loss: 0.301..  Test Accuracy: 0.947\n",
            "Epoch:25/30..  Training Loss: 0.202..  Test Loss: 0.308..  Test Accuracy: 0.946\n",
            "Epoch:26/30..  Training Loss: 0.204..  Test Loss: 0.308..  Test Accuracy: 0.949\n",
            "Epoch:27/30..  Training Loss: 0.190..  Test Loss: 0.346..  Test Accuracy: 0.944\n",
            "Epoch:28/30..  Training Loss: 0.206..  Test Loss: 0.302..  Test Accuracy: 0.947\n",
            "Epoch:29/30..  Training Loss: 0.168..  Test Loss: 0.301..  Test Accuracy: 0.952\n",
            "Epoch:30/30..  Training Loss: 0.161..  Test Loss: 0.332..  Test Accuracy: 0.949\n",
            "Epoch:1/30..  Training Loss: 1.059..  Test Loss: 0.350..  Test Accuracy: 0.899\n",
            "Epoch:2/30..  Training Loss: 0.379..  Test Loss: 0.314..  Test Accuracy: 0.915\n",
            "Epoch:3/30..  Training Loss: 0.346..  Test Loss: 0.320..  Test Accuracy: 0.908\n",
            "Epoch:4/30..  Training Loss: 0.281..  Test Loss: 0.286..  Test Accuracy: 0.923\n",
            "Epoch:5/30..  Training Loss: 0.237..  Test Loss: 0.257..  Test Accuracy: 0.936\n",
            "Epoch:6/30..  Training Loss: 0.223..  Test Loss: 0.289..  Test Accuracy: 0.926\n",
            "Epoch:7/30..  Training Loss: 0.232..  Test Loss: 0.260..  Test Accuracy: 0.933\n",
            "Epoch:8/30..  Training Loss: 0.209..  Test Loss: 0.223..  Test Accuracy: 0.941\n",
            "Epoch:9/30..  Training Loss: 0.204..  Test Loss: 0.222..  Test Accuracy: 0.943\n",
            "Epoch:10/30..  Training Loss: 0.198..  Test Loss: 0.260..  Test Accuracy: 0.938\n",
            "Epoch:11/30..  Training Loss: 0.201..  Test Loss: 0.251..  Test Accuracy: 0.944\n",
            "Epoch:12/30..  Training Loss: 0.200..  Test Loss: 0.273..  Test Accuracy: 0.940\n",
            "Epoch:13/30..  Training Loss: 0.185..  Test Loss: 0.258..  Test Accuracy: 0.944\n",
            "Epoch:14/30..  Training Loss: 0.186..  Test Loss: 0.269..  Test Accuracy: 0.942\n",
            "Epoch:15/30..  Training Loss: 0.217..  Test Loss: 0.240..  Test Accuracy: 0.948\n",
            "Epoch:16/30..  Training Loss: 0.170..  Test Loss: 0.257..  Test Accuracy: 0.946\n",
            "Epoch:17/30..  Training Loss: 0.184..  Test Loss: 0.279..  Test Accuracy: 0.945\n",
            "Epoch:18/30..  Training Loss: 0.176..  Test Loss: 0.266..  Test Accuracy: 0.941\n",
            "Epoch:19/30..  Training Loss: 0.186..  Test Loss: 0.237..  Test Accuracy: 0.950\n",
            "Epoch:20/30..  Training Loss: 0.161..  Test Loss: 0.277..  Test Accuracy: 0.942\n",
            "Epoch:21/30..  Training Loss: 0.178..  Test Loss: 0.298..  Test Accuracy: 0.942\n",
            "Epoch:22/30..  Training Loss: 0.164..  Test Loss: 0.279..  Test Accuracy: 0.944\n",
            "Epoch:23/30..  Training Loss: 0.167..  Test Loss: 0.291..  Test Accuracy: 0.945\n",
            "Epoch:24/30..  Training Loss: 0.178..  Test Loss: 0.330..  Test Accuracy: 0.941\n",
            "Epoch:25/30..  Training Loss: 0.160..  Test Loss: 0.348..  Test Accuracy: 0.949\n",
            "Epoch:26/30..  Training Loss: 0.201..  Test Loss: 0.411..  Test Accuracy: 0.929\n",
            "Epoch:27/30..  Training Loss: 0.193..  Test Loss: 0.345..  Test Accuracy: 0.938\n",
            "Epoch:28/30..  Training Loss: 0.174..  Test Loss: 0.331..  Test Accuracy: 0.943\n",
            "Epoch:29/30..  Training Loss: 0.228..  Test Loss: 0.385..  Test Accuracy: 0.938\n",
            "Epoch:30/30..  Training Loss: 0.220..  Test Loss: 0.380..  Test Accuracy: 0.943\n"
          ],
          "name": "stdout"
        }
      ]
    },
    {
      "cell_type": "code",
      "metadata": {
        "id": "WUDjGPxMi-yb",
        "colab_type": "code",
        "colab": {
          "base_uri": "https://localhost:8080/",
          "height": 1000
        },
        "outputId": "2748a701-2560-4680-a1ed-f8e098cf7c1e"
      },
      "source": [
        "teacher.clear()\n",
        "for i in range(120):\n",
        "  model=digit_classifier()\n",
        "  criterion = nn.NLLLoss()\n",
        "  optimizer = optim.Adam(model.parameters(), lr=0.003)\n",
        "  epochs = 5\n",
        "  steps = 0\n",
        "  train_losses, test_losses = [], []\n",
        "  size=100\n",
        "  data=train_data[i*500:((i+1)*500),:]\n",
        "  label=train_targets[i*500:((i+1)*500)]\n",
        "  trainloader=data_label(data,label,size)\n",
        "  for e in range(epochs):\n",
        "      running_loss = 0\n",
        "      for images, labels in trainloader:\n",
        "          images=images.float()\n",
        "          optimizer.zero_grad()\n",
        "\n",
        "          log_ps = model(images)\n",
        "          loss = criterion(log_ps, labels)\n",
        "          loss.backward()\n",
        "          optimizer.step()\n",
        "\n",
        "          running_loss += loss.item()\n",
        "      else:\n",
        "          test_loss=0\n",
        "          accuracy=0\n",
        "          with torch.no_grad():\n",
        "              model.eval()\n",
        "          # validation pass here\n",
        "              for images, labels in testloader:\n",
        "                  images=images.float()\n",
        "                  val=model(images)\n",
        "                  test_loss += criterion(val, labels)\n",
        "                  val_prob= torch.exp(val)\n",
        "                  top_p, top_class = val_prob.topk(1, dim=1)\n",
        "                  \n",
        "                  equals = top_class == labels.view(*top_class.shape)\n",
        "                  accuracy += torch.mean(equals.type(torch.FloatTensor))\n",
        "          model.train()\n",
        "          train_losses.append(running_loss/len(trainloader))\n",
        "          test_losses.append(test_loss/len(testloader))\n",
        "          print(\"Epoch:{}/{}.. \".format(e+1, epochs),\n",
        "               \"Training Loss: {:.3f}.. \".format(running_loss/len(trainloader)),\n",
        "               \"Test Loss: {:.3f}.. \".format(test_loss/len(testloader)),\n",
        "               \"Test Accuracy: {:.3f}\".format(accuracy/len(testloader)))\n",
        "  else:\n",
        "    with torch.no_grad():\n",
        "              model.eval()\n",
        "          # validation pass here\n",
        "              for images, labels in testloader:\n",
        "                  images=images.float()\n",
        "                  val=model(images)\n",
        "                  val_prob= torch.exp(val)\n",
        "                  top_p, top_class = val_prob.topk(1, dim=1)\n",
        "                  student.append(top_class)\n",
        "              teacher.append(list(student))\n",
        "              student.clear()\n",
        "    model.train()\n",
        "    "
      ],
      "execution_count": 261,
      "outputs": [
        {
          "output_type": "stream",
          "text": [
            "Epoch:1/5..  Training Loss: 4.322..  Test Loss: 1.667..  Test Accuracy: 0.465\n",
            "Epoch:2/5..  Training Loss: 1.831..  Test Loss: 1.116..  Test Accuracy: 0.646\n",
            "Epoch:3/5..  Training Loss: 1.142..  Test Loss: 0.969..  Test Accuracy: 0.700\n",
            "Epoch:4/5..  Training Loss: 0.744..  Test Loss: 0.852..  Test Accuracy: 0.731\n",
            "Epoch:5/5..  Training Loss: 0.658..  Test Loss: 0.786..  Test Accuracy: 0.767\n",
            "Epoch:1/5..  Training Loss: 5.562..  Test Loss: 1.476..  Test Accuracy: 0.483\n",
            "Epoch:2/5..  Training Loss: 2.319..  Test Loss: 1.378..  Test Accuracy: 0.533\n",
            "Epoch:3/5..  Training Loss: 1.438..  Test Loss: 1.051..  Test Accuracy: 0.670\n",
            "Epoch:4/5..  Training Loss: 1.057..  Test Loss: 0.847..  Test Accuracy: 0.729\n",
            "Epoch:5/5..  Training Loss: 0.753..  Test Loss: 0.726..  Test Accuracy: 0.769\n",
            "Epoch:1/5..  Training Loss: 6.445..  Test Loss: 2.008..  Test Accuracy: 0.358\n",
            "Epoch:2/5..  Training Loss: 2.277..  Test Loss: 1.364..  Test Accuracy: 0.598\n",
            "Epoch:3/5..  Training Loss: 1.648..  Test Loss: 1.094..  Test Accuracy: 0.687\n",
            "Epoch:4/5..  Training Loss: 1.176..  Test Loss: 0.856..  Test Accuracy: 0.762\n",
            "Epoch:5/5..  Training Loss: 0.923..  Test Loss: 0.723..  Test Accuracy: 0.780\n",
            "Epoch:1/5..  Training Loss: 5.121..  Test Loss: 1.946..  Test Accuracy: 0.291\n",
            "Epoch:2/5..  Training Loss: 2.196..  Test Loss: 1.388..  Test Accuracy: 0.595\n",
            "Epoch:3/5..  Training Loss: 1.383..  Test Loss: 1.024..  Test Accuracy: 0.684\n",
            "Epoch:4/5..  Training Loss: 0.917..  Test Loss: 0.873..  Test Accuracy: 0.747\n",
            "Epoch:5/5..  Training Loss: 0.703..  Test Loss: 0.745..  Test Accuracy: 0.785\n",
            "Epoch:1/5..  Training Loss: 6.296..  Test Loss: 1.860..  Test Accuracy: 0.396\n",
            "Epoch:2/5..  Training Loss: 1.962..  Test Loss: 1.226..  Test Accuracy: 0.601\n",
            "Epoch:3/5..  Training Loss: 1.301..  Test Loss: 1.041..  Test Accuracy: 0.656\n",
            "Epoch:4/5..  Training Loss: 1.048..  Test Loss: 0.840..  Test Accuracy: 0.713\n",
            "Epoch:5/5..  Training Loss: 0.736..  Test Loss: 0.707..  Test Accuracy: 0.778\n",
            "Epoch:1/5..  Training Loss: 5.257..  Test Loss: 1.605..  Test Accuracy: 0.543\n",
            "Epoch:2/5..  Training Loss: 1.732..  Test Loss: 1.079..  Test Accuracy: 0.628\n",
            "Epoch:3/5..  Training Loss: 1.037..  Test Loss: 0.885..  Test Accuracy: 0.718\n",
            "Epoch:4/5..  Training Loss: 0.796..  Test Loss: 0.742..  Test Accuracy: 0.760\n",
            "Epoch:5/5..  Training Loss: 0.644..  Test Loss: 0.702..  Test Accuracy: 0.790\n",
            "Epoch:1/5..  Training Loss: 4.669..  Test Loss: 1.730..  Test Accuracy: 0.450\n",
            "Epoch:2/5..  Training Loss: 2.030..  Test Loss: 1.138..  Test Accuracy: 0.606\n",
            "Epoch:3/5..  Training Loss: 1.153..  Test Loss: 0.838..  Test Accuracy: 0.725\n",
            "Epoch:4/5..  Training Loss: 0.801..  Test Loss: 0.735..  Test Accuracy: 0.764\n",
            "Epoch:5/5..  Training Loss: 0.599..  Test Loss: 0.658..  Test Accuracy: 0.801\n",
            "Epoch:1/5..  Training Loss: 6.881..  Test Loss: 1.948..  Test Accuracy: 0.366\n",
            "Epoch:2/5..  Training Loss: 2.287..  Test Loss: 1.413..  Test Accuracy: 0.543\n",
            "Epoch:3/5..  Training Loss: 1.448..  Test Loss: 1.122..  Test Accuracy: 0.649\n",
            "Epoch:4/5..  Training Loss: 0.992..  Test Loss: 0.880..  Test Accuracy: 0.729\n",
            "Epoch:5/5..  Training Loss: 0.762..  Test Loss: 0.751..  Test Accuracy: 0.766\n",
            "Epoch:1/5..  Training Loss: 5.584..  Test Loss: 1.978..  Test Accuracy: 0.421\n",
            "Epoch:2/5..  Training Loss: 2.183..  Test Loss: 1.324..  Test Accuracy: 0.584\n",
            "Epoch:3/5..  Training Loss: 1.356..  Test Loss: 1.041..  Test Accuracy: 0.651\n",
            "Epoch:4/5..  Training Loss: 1.054..  Test Loss: 0.855..  Test Accuracy: 0.716\n",
            "Epoch:5/5..  Training Loss: 0.828..  Test Loss: 0.733..  Test Accuracy: 0.775\n",
            "Epoch:1/5..  Training Loss: 6.028..  Test Loss: 1.729..  Test Accuracy: 0.465\n",
            "Epoch:2/5..  Training Loss: 1.845..  Test Loss: 1.199..  Test Accuracy: 0.610\n",
            "Epoch:3/5..  Training Loss: 1.229..  Test Loss: 1.009..  Test Accuracy: 0.672\n",
            "Epoch:4/5..  Training Loss: 0.920..  Test Loss: 0.789..  Test Accuracy: 0.756\n",
            "Epoch:5/5..  Training Loss: 0.683..  Test Loss: 0.699..  Test Accuracy: 0.791\n",
            "Epoch:1/5..  Training Loss: 6.847..  Test Loss: 2.299..  Test Accuracy: 0.308\n",
            "Epoch:2/5..  Training Loss: 2.399..  Test Loss: 1.412..  Test Accuracy: 0.574\n",
            "Epoch:3/5..  Training Loss: 1.494..  Test Loss: 1.139..  Test Accuracy: 0.633\n",
            "Epoch:4/5..  Training Loss: 1.237..  Test Loss: 0.910..  Test Accuracy: 0.728\n",
            "Epoch:5/5..  Training Loss: 0.850..  Test Loss: 0.787..  Test Accuracy: 0.764\n",
            "Epoch:1/5..  Training Loss: 7.875..  Test Loss: 2.022..  Test Accuracy: 0.303\n",
            "Epoch:2/5..  Training Loss: 2.341..  Test Loss: 1.758..  Test Accuracy: 0.432\n",
            "Epoch:3/5..  Training Loss: 1.829..  Test Loss: 1.546..  Test Accuracy: 0.478\n",
            "Epoch:4/5..  Training Loss: 1.603..  Test Loss: 1.366..  Test Accuracy: 0.551\n",
            "Epoch:5/5..  Training Loss: 1.316..  Test Loss: 0.992..  Test Accuracy: 0.671\n",
            "Epoch:1/5..  Training Loss: 9.110..  Test Loss: 2.920..  Test Accuracy: 0.249\n",
            "Epoch:2/5..  Training Loss: 3.437..  Test Loss: 1.452..  Test Accuracy: 0.523\n",
            "Epoch:3/5..  Training Loss: 1.622..  Test Loss: 1.146..  Test Accuracy: 0.659\n",
            "Epoch:4/5..  Training Loss: 1.181..  Test Loss: 0.979..  Test Accuracy: 0.702\n",
            "Epoch:5/5..  Training Loss: 0.872..  Test Loss: 0.850..  Test Accuracy: 0.743\n",
            "Epoch:1/5..  Training Loss: 5.209..  Test Loss: 1.526..  Test Accuracy: 0.473\n",
            "Epoch:2/5..  Training Loss: 1.828..  Test Loss: 1.043..  Test Accuracy: 0.644\n",
            "Epoch:3/5..  Training Loss: 1.189..  Test Loss: 0.870..  Test Accuracy: 0.713\n",
            "Epoch:4/5..  Training Loss: 0.880..  Test Loss: 0.782..  Test Accuracy: 0.728\n",
            "Epoch:5/5..  Training Loss: 0.634..  Test Loss: 0.885..  Test Accuracy: 0.744\n",
            "Epoch:1/5..  Training Loss: 5.762..  Test Loss: 2.361..  Test Accuracy: 0.307\n",
            "Epoch:2/5..  Training Loss: 2.308..  Test Loss: 1.448..  Test Accuracy: 0.534\n",
            "Epoch:3/5..  Training Loss: 1.732..  Test Loss: 1.132..  Test Accuracy: 0.641\n",
            "Epoch:4/5..  Training Loss: 1.248..  Test Loss: 0.923..  Test Accuracy: 0.716\n",
            "Epoch:5/5..  Training Loss: 1.029..  Test Loss: 0.777..  Test Accuracy: 0.755\n",
            "Epoch:1/5..  Training Loss: 8.388..  Test Loss: 2.465..  Test Accuracy: 0.283\n",
            "Epoch:2/5..  Training Loss: 2.591..  Test Loss: 1.520..  Test Accuracy: 0.444\n",
            "Epoch:3/5..  Training Loss: 1.808..  Test Loss: 1.294..  Test Accuracy: 0.527\n",
            "Epoch:4/5..  Training Loss: 1.444..  Test Loss: 1.103..  Test Accuracy: 0.667\n",
            "Epoch:5/5..  Training Loss: 1.056..  Test Loss: 0.917..  Test Accuracy: 0.678\n",
            "Epoch:1/5..  Training Loss: 5.243..  Test Loss: 1.816..  Test Accuracy: 0.448\n",
            "Epoch:2/5..  Training Loss: 1.878..  Test Loss: 1.214..  Test Accuracy: 0.609\n",
            "Epoch:3/5..  Training Loss: 1.376..  Test Loss: 0.981..  Test Accuracy: 0.675\n",
            "Epoch:4/5..  Training Loss: 0.998..  Test Loss: 0.839..  Test Accuracy: 0.733\n",
            "Epoch:5/5..  Training Loss: 0.761..  Test Loss: 0.777..  Test Accuracy: 0.749\n",
            "Epoch:1/5..  Training Loss: 6.852..  Test Loss: 1.814..  Test Accuracy: 0.410\n",
            "Epoch:2/5..  Training Loss: 2.530..  Test Loss: 1.578..  Test Accuracy: 0.441\n",
            "Epoch:3/5..  Training Loss: 1.776..  Test Loss: 1.491..  Test Accuracy: 0.547\n",
            "Epoch:4/5..  Training Loss: 1.464..  Test Loss: 1.164..  Test Accuracy: 0.624\n",
            "Epoch:5/5..  Training Loss: 1.251..  Test Loss: 0.984..  Test Accuracy: 0.653\n",
            "Epoch:1/5..  Training Loss: 5.074..  Test Loss: 1.833..  Test Accuracy: 0.395\n",
            "Epoch:2/5..  Training Loss: 1.879..  Test Loss: 1.148..  Test Accuracy: 0.643\n",
            "Epoch:3/5..  Training Loss: 1.280..  Test Loss: 0.918..  Test Accuracy: 0.711\n",
            "Epoch:4/5..  Training Loss: 0.798..  Test Loss: 0.750..  Test Accuracy: 0.778\n",
            "Epoch:5/5..  Training Loss: 0.613..  Test Loss: 0.705..  Test Accuracy: 0.785\n",
            "Epoch:1/5..  Training Loss: 5.383..  Test Loss: 1.885..  Test Accuracy: 0.354\n",
            "Epoch:2/5..  Training Loss: 2.178..  Test Loss: 1.393..  Test Accuracy: 0.500\n",
            "Epoch:3/5..  Training Loss: 1.430..  Test Loss: 1.130..  Test Accuracy: 0.656\n",
            "Epoch:4/5..  Training Loss: 0.985..  Test Loss: 0.911..  Test Accuracy: 0.721\n",
            "Epoch:5/5..  Training Loss: 0.787..  Test Loss: 0.786..  Test Accuracy: 0.765\n",
            "Epoch:1/5..  Training Loss: 7.345..  Test Loss: 2.254..  Test Accuracy: 0.334\n",
            "Epoch:2/5..  Training Loss: 3.015..  Test Loss: 1.601..  Test Accuracy: 0.483\n",
            "Epoch:3/5..  Training Loss: 1.809..  Test Loss: 1.308..  Test Accuracy: 0.607\n",
            "Epoch:4/5..  Training Loss: 1.321..  Test Loss: 1.105..  Test Accuracy: 0.673\n",
            "Epoch:5/5..  Training Loss: 1.036..  Test Loss: 0.890..  Test Accuracy: 0.737\n",
            "Epoch:1/5..  Training Loss: 4.147..  Test Loss: 1.582..  Test Accuracy: 0.443\n",
            "Epoch:2/5..  Training Loss: 1.679..  Test Loss: 1.007..  Test Accuracy: 0.668\n",
            "Epoch:3/5..  Training Loss: 1.089..  Test Loss: 0.862..  Test Accuracy: 0.719\n",
            "Epoch:4/5..  Training Loss: 0.787..  Test Loss: 0.735..  Test Accuracy: 0.763\n",
            "Epoch:5/5..  Training Loss: 0.574..  Test Loss: 0.607..  Test Accuracy: 0.811\n",
            "Epoch:1/5..  Training Loss: 4.350..  Test Loss: 1.532..  Test Accuracy: 0.455\n",
            "Epoch:2/5..  Training Loss: 1.707..  Test Loss: 1.009..  Test Accuracy: 0.646\n",
            "Epoch:3/5..  Training Loss: 1.189..  Test Loss: 1.012..  Test Accuracy: 0.657\n",
            "Epoch:4/5..  Training Loss: 0.929..  Test Loss: 0.924..  Test Accuracy: 0.699\n",
            "Epoch:5/5..  Training Loss: 0.658..  Test Loss: 0.741..  Test Accuracy: 0.763\n",
            "Epoch:1/5..  Training Loss: 4.843..  Test Loss: 1.849..  Test Accuracy: 0.347\n",
            "Epoch:2/5..  Training Loss: 1.954..  Test Loss: 1.300..  Test Accuracy: 0.568\n",
            "Epoch:3/5..  Training Loss: 1.297..  Test Loss: 1.008..  Test Accuracy: 0.681\n",
            "Epoch:4/5..  Training Loss: 0.851..  Test Loss: 0.836..  Test Accuracy: 0.728\n",
            "Epoch:5/5..  Training Loss: 0.760..  Test Loss: 0.782..  Test Accuracy: 0.763\n",
            "Epoch:1/5..  Training Loss: 6.574..  Test Loss: 2.017..  Test Accuracy: 0.371\n",
            "Epoch:2/5..  Training Loss: 2.372..  Test Loss: 1.408..  Test Accuracy: 0.534\n",
            "Epoch:3/5..  Training Loss: 1.639..  Test Loss: 1.192..  Test Accuracy: 0.625\n",
            "Epoch:4/5..  Training Loss: 1.174..  Test Loss: 0.951..  Test Accuracy: 0.713\n",
            "Epoch:5/5..  Training Loss: 0.896..  Test Loss: 0.789..  Test Accuracy: 0.760\n",
            "Epoch:1/5..  Training Loss: 5.950..  Test Loss: 1.953..  Test Accuracy: 0.323\n",
            "Epoch:2/5..  Training Loss: 2.221..  Test Loss: 1.352..  Test Accuracy: 0.539\n",
            "Epoch:3/5..  Training Loss: 1.538..  Test Loss: 1.140..  Test Accuracy: 0.600\n",
            "Epoch:4/5..  Training Loss: 1.256..  Test Loss: 0.886..  Test Accuracy: 0.725\n",
            "Epoch:5/5..  Training Loss: 0.965..  Test Loss: 0.747..  Test Accuracy: 0.765\n",
            "Epoch:1/5..  Training Loss: 6.058..  Test Loss: 1.939..  Test Accuracy: 0.250\n",
            "Epoch:2/5..  Training Loss: 2.109..  Test Loss: 1.209..  Test Accuracy: 0.615\n",
            "Epoch:3/5..  Training Loss: 1.544..  Test Loss: 1.074..  Test Accuracy: 0.643\n",
            "Epoch:4/5..  Training Loss: 1.191..  Test Loss: 0.917..  Test Accuracy: 0.726\n",
            "Epoch:5/5..  Training Loss: 0.926..  Test Loss: 0.783..  Test Accuracy: 0.758\n",
            "Epoch:1/5..  Training Loss: 4.625..  Test Loss: 1.979..  Test Accuracy: 0.325\n",
            "Epoch:2/5..  Training Loss: 2.232..  Test Loss: 1.479..  Test Accuracy: 0.526\n",
            "Epoch:3/5..  Training Loss: 1.612..  Test Loss: 1.167..  Test Accuracy: 0.669\n",
            "Epoch:4/5..  Training Loss: 1.172..  Test Loss: 0.890..  Test Accuracy: 0.726\n",
            "Epoch:5/5..  Training Loss: 0.925..  Test Loss: 0.714..  Test Accuracy: 0.780\n",
            "Epoch:1/5..  Training Loss: 5.790..  Test Loss: 1.817..  Test Accuracy: 0.390\n",
            "Epoch:2/5..  Training Loss: 2.180..  Test Loss: 1.598..  Test Accuracy: 0.476\n",
            "Epoch:3/5..  Training Loss: 1.745..  Test Loss: 1.413..  Test Accuracy: 0.528\n",
            "Epoch:4/5..  Training Loss: 1.479..  Test Loss: 1.221..  Test Accuracy: 0.611\n",
            "Epoch:5/5..  Training Loss: 1.161..  Test Loss: 1.001..  Test Accuracy: 0.663\n",
            "Epoch:1/5..  Training Loss: 5.415..  Test Loss: 1.762..  Test Accuracy: 0.384\n",
            "Epoch:2/5..  Training Loss: 2.101..  Test Loss: 1.255..  Test Accuracy: 0.613\n",
            "Epoch:3/5..  Training Loss: 1.435..  Test Loss: 1.066..  Test Accuracy: 0.632\n",
            "Epoch:4/5..  Training Loss: 1.168..  Test Loss: 0.912..  Test Accuracy: 0.683\n",
            "Epoch:5/5..  Training Loss: 0.843..  Test Loss: 0.797..  Test Accuracy: 0.740\n",
            "Epoch:1/5..  Training Loss: 5.156..  Test Loss: 1.571..  Test Accuracy: 0.461\n",
            "Epoch:2/5..  Training Loss: 1.835..  Test Loss: 1.106..  Test Accuracy: 0.629\n",
            "Epoch:3/5..  Training Loss: 1.209..  Test Loss: 0.903..  Test Accuracy: 0.714\n",
            "Epoch:4/5..  Training Loss: 0.864..  Test Loss: 0.805..  Test Accuracy: 0.759\n",
            "Epoch:5/5..  Training Loss: 0.610..  Test Loss: 0.736..  Test Accuracy: 0.786\n",
            "Epoch:1/5..  Training Loss: 5.108..  Test Loss: 1.609..  Test Accuracy: 0.436\n",
            "Epoch:2/5..  Training Loss: 1.975..  Test Loss: 1.212..  Test Accuracy: 0.602\n",
            "Epoch:3/5..  Training Loss: 1.456..  Test Loss: 0.853..  Test Accuracy: 0.728\n",
            "Epoch:4/5..  Training Loss: 1.042..  Test Loss: 0.760..  Test Accuracy: 0.759\n",
            "Epoch:5/5..  Training Loss: 0.868..  Test Loss: 0.657..  Test Accuracy: 0.787\n",
            "Epoch:1/5..  Training Loss: 4.734..  Test Loss: 1.652..  Test Accuracy: 0.461\n",
            "Epoch:2/5..  Training Loss: 1.982..  Test Loss: 1.106..  Test Accuracy: 0.623\n",
            "Epoch:3/5..  Training Loss: 1.191..  Test Loss: 0.903..  Test Accuracy: 0.724\n",
            "Epoch:4/5..  Training Loss: 0.967..  Test Loss: 0.805..  Test Accuracy: 0.767\n",
            "Epoch:5/5..  Training Loss: 0.694..  Test Loss: 0.653..  Test Accuracy: 0.808\n",
            "Epoch:1/5..  Training Loss: 4.516..  Test Loss: 1.583..  Test Accuracy: 0.496\n",
            "Epoch:2/5..  Training Loss: 1.946..  Test Loss: 1.103..  Test Accuracy: 0.666\n",
            "Epoch:3/5..  Training Loss: 1.264..  Test Loss: 0.848..  Test Accuracy: 0.730\n",
            "Epoch:4/5..  Training Loss: 0.928..  Test Loss: 0.763..  Test Accuracy: 0.772\n",
            "Epoch:5/5..  Training Loss: 0.750..  Test Loss: 0.729..  Test Accuracy: 0.778\n",
            "Epoch:1/5..  Training Loss: 5.729..  Test Loss: 1.946..  Test Accuracy: 0.454\n",
            "Epoch:2/5..  Training Loss: 2.525..  Test Loss: 1.356..  Test Accuracy: 0.576\n",
            "Epoch:3/5..  Training Loss: 1.721..  Test Loss: 1.243..  Test Accuracy: 0.594\n",
            "Epoch:4/5..  Training Loss: 1.251..  Test Loss: 1.093..  Test Accuracy: 0.667\n",
            "Epoch:5/5..  Training Loss: 1.073..  Test Loss: 0.824..  Test Accuracy: 0.739\n",
            "Epoch:1/5..  Training Loss: 6.334..  Test Loss: 2.006..  Test Accuracy: 0.325\n",
            "Epoch:2/5..  Training Loss: 2.315..  Test Loss: 1.478..  Test Accuracy: 0.534\n",
            "Epoch:3/5..  Training Loss: 1.632..  Test Loss: 1.176..  Test Accuracy: 0.636\n",
            "Epoch:4/5..  Training Loss: 1.238..  Test Loss: 0.872..  Test Accuracy: 0.722\n",
            "Epoch:5/5..  Training Loss: 0.927..  Test Loss: 0.735..  Test Accuracy: 0.769\n",
            "Epoch:1/5..  Training Loss: 5.982..  Test Loss: 1.706..  Test Accuracy: 0.412\n",
            "Epoch:2/5..  Training Loss: 1.967..  Test Loss: 1.428..  Test Accuracy: 0.543\n",
            "Epoch:3/5..  Training Loss: 1.363..  Test Loss: 1.095..  Test Accuracy: 0.642\n",
            "Epoch:4/5..  Training Loss: 0.985..  Test Loss: 0.898..  Test Accuracy: 0.716\n",
            "Epoch:5/5..  Training Loss: 0.696..  Test Loss: 0.802..  Test Accuracy: 0.758\n",
            "Epoch:1/5..  Training Loss: 5.345..  Test Loss: 1.738..  Test Accuracy: 0.469\n",
            "Epoch:2/5..  Training Loss: 1.730..  Test Loss: 1.092..  Test Accuracy: 0.653\n",
            "Epoch:3/5..  Training Loss: 1.263..  Test Loss: 0.825..  Test Accuracy: 0.763\n",
            "Epoch:4/5..  Training Loss: 0.837..  Test Loss: 0.726..  Test Accuracy: 0.783\n",
            "Epoch:5/5..  Training Loss: 0.617..  Test Loss: 0.664..  Test Accuracy: 0.808\n",
            "Epoch:1/5..  Training Loss: 5.685..  Test Loss: 2.059..  Test Accuracy: 0.306\n",
            "Epoch:2/5..  Training Loss: 2.334..  Test Loss: 1.434..  Test Accuracy: 0.557\n",
            "Epoch:3/5..  Training Loss: 1.631..  Test Loss: 1.173..  Test Accuracy: 0.617\n",
            "Epoch:4/5..  Training Loss: 1.247..  Test Loss: 0.893..  Test Accuracy: 0.733\n",
            "Epoch:5/5..  Training Loss: 0.961..  Test Loss: 0.738..  Test Accuracy: 0.774\n",
            "Epoch:1/5..  Training Loss: 5.276..  Test Loss: 1.633..  Test Accuracy: 0.487\n",
            "Epoch:2/5..  Training Loss: 2.167..  Test Loss: 1.192..  Test Accuracy: 0.600\n",
            "Epoch:3/5..  Training Loss: 1.347..  Test Loss: 0.950..  Test Accuracy: 0.703\n",
            "Epoch:4/5..  Training Loss: 1.102..  Test Loss: 0.786..  Test Accuracy: 0.758\n",
            "Epoch:5/5..  Training Loss: 0.761..  Test Loss: 0.708..  Test Accuracy: 0.783\n",
            "Epoch:1/5..  Training Loss: 7.900..  Test Loss: 1.799..  Test Accuracy: 0.361\n",
            "Epoch:2/5..  Training Loss: 2.372..  Test Loss: 1.356..  Test Accuracy: 0.581\n",
            "Epoch:3/5..  Training Loss: 1.583..  Test Loss: 0.972..  Test Accuracy: 0.703\n",
            "Epoch:4/5..  Training Loss: 1.132..  Test Loss: 0.833..  Test Accuracy: 0.720\n",
            "Epoch:5/5..  Training Loss: 0.858..  Test Loss: 0.701..  Test Accuracy: 0.783\n",
            "Epoch:1/5..  Training Loss: 5.660..  Test Loss: 2.048..  Test Accuracy: 0.450\n",
            "Epoch:2/5..  Training Loss: 2.422..  Test Loss: 1.427..  Test Accuracy: 0.512\n",
            "Epoch:3/5..  Training Loss: 1.553..  Test Loss: 1.106..  Test Accuracy: 0.631\n",
            "Epoch:4/5..  Training Loss: 1.137..  Test Loss: 0.868..  Test Accuracy: 0.723\n",
            "Epoch:5/5..  Training Loss: 0.797..  Test Loss: 0.769..  Test Accuracy: 0.760\n",
            "Epoch:1/5..  Training Loss: 4.132..  Test Loss: 1.701..  Test Accuracy: 0.462\n",
            "Epoch:2/5..  Training Loss: 1.751..  Test Loss: 1.142..  Test Accuracy: 0.623\n",
            "Epoch:3/5..  Training Loss: 1.160..  Test Loss: 0.890..  Test Accuracy: 0.716\n",
            "Epoch:4/5..  Training Loss: 0.834..  Test Loss: 0.813..  Test Accuracy: 0.752\n",
            "Epoch:5/5..  Training Loss: 0.611..  Test Loss: 0.799..  Test Accuracy: 0.771\n",
            "Epoch:1/5..  Training Loss: 5.383..  Test Loss: 1.651..  Test Accuracy: 0.421\n",
            "Epoch:2/5..  Training Loss: 2.312..  Test Loss: 1.137..  Test Accuracy: 0.623\n",
            "Epoch:3/5..  Training Loss: 1.222..  Test Loss: 0.948..  Test Accuracy: 0.697\n",
            "Epoch:4/5..  Training Loss: 0.873..  Test Loss: 0.834..  Test Accuracy: 0.728\n",
            "Epoch:5/5..  Training Loss: 0.669..  Test Loss: 0.711..  Test Accuracy: 0.785\n",
            "Epoch:1/5..  Training Loss: 4.356..  Test Loss: 1.751..  Test Accuracy: 0.407\n",
            "Epoch:2/5..  Training Loss: 1.770..  Test Loss: 1.214..  Test Accuracy: 0.615\n",
            "Epoch:3/5..  Training Loss: 1.380..  Test Loss: 0.966..  Test Accuracy: 0.692\n",
            "Epoch:4/5..  Training Loss: 1.000..  Test Loss: 0.815..  Test Accuracy: 0.738\n",
            "Epoch:5/5..  Training Loss: 0.743..  Test Loss: 0.793..  Test Accuracy: 0.741\n",
            "Epoch:1/5..  Training Loss: 6.646..  Test Loss: 1.851..  Test Accuracy: 0.332\n",
            "Epoch:2/5..  Training Loss: 2.701..  Test Loss: 1.387..  Test Accuracy: 0.512\n",
            "Epoch:3/5..  Training Loss: 1.670..  Test Loss: 1.065..  Test Accuracy: 0.670\n",
            "Epoch:4/5..  Training Loss: 1.243..  Test Loss: 0.949..  Test Accuracy: 0.682\n",
            "Epoch:5/5..  Training Loss: 1.017..  Test Loss: 0.849..  Test Accuracy: 0.737\n",
            "Epoch:1/5..  Training Loss: 6.595..  Test Loss: 1.794..  Test Accuracy: 0.429\n",
            "Epoch:2/5..  Training Loss: 2.251..  Test Loss: 1.305..  Test Accuracy: 0.559\n",
            "Epoch:3/5..  Training Loss: 1.416..  Test Loss: 1.055..  Test Accuracy: 0.680\n",
            "Epoch:4/5..  Training Loss: 1.001..  Test Loss: 0.844..  Test Accuracy: 0.741\n",
            "Epoch:5/5..  Training Loss: 0.715..  Test Loss: 0.700..  Test Accuracy: 0.788\n",
            "Epoch:1/5..  Training Loss: 5.428..  Test Loss: 1.799..  Test Accuracy: 0.365\n",
            "Epoch:2/5..  Training Loss: 1.993..  Test Loss: 1.376..  Test Accuracy: 0.533\n",
            "Epoch:3/5..  Training Loss: 1.457..  Test Loss: 1.039..  Test Accuracy: 0.662\n",
            "Epoch:4/5..  Training Loss: 1.030..  Test Loss: 0.772..  Test Accuracy: 0.765\n",
            "Epoch:5/5..  Training Loss: 0.803..  Test Loss: 0.769..  Test Accuracy: 0.768\n",
            "Epoch:1/5..  Training Loss: 4.573..  Test Loss: 1.864..  Test Accuracy: 0.397\n",
            "Epoch:2/5..  Training Loss: 2.164..  Test Loss: 1.219..  Test Accuracy: 0.601\n",
            "Epoch:3/5..  Training Loss: 1.367..  Test Loss: 0.967..  Test Accuracy: 0.700\n",
            "Epoch:4/5..  Training Loss: 1.045..  Test Loss: 0.712..  Test Accuracy: 0.780\n",
            "Epoch:5/5..  Training Loss: 0.774..  Test Loss: 0.676..  Test Accuracy: 0.790\n",
            "Epoch:1/5..  Training Loss: 4.331..  Test Loss: 1.649..  Test Accuracy: 0.416\n",
            "Epoch:2/5..  Training Loss: 1.972..  Test Loss: 1.168..  Test Accuracy: 0.610\n",
            "Epoch:3/5..  Training Loss: 1.131..  Test Loss: 0.876..  Test Accuracy: 0.730\n",
            "Epoch:4/5..  Training Loss: 0.927..  Test Loss: 0.705..  Test Accuracy: 0.787\n",
            "Epoch:5/5..  Training Loss: 0.635..  Test Loss: 0.690..  Test Accuracy: 0.791\n",
            "Epoch:1/5..  Training Loss: 4.284..  Test Loss: 1.252..  Test Accuracy: 0.575\n",
            "Epoch:2/5..  Training Loss: 1.543..  Test Loss: 0.948..  Test Accuracy: 0.692\n",
            "Epoch:3/5..  Training Loss: 1.025..  Test Loss: 0.849..  Test Accuracy: 0.732\n",
            "Epoch:4/5..  Training Loss: 0.735..  Test Loss: 0.680..  Test Accuracy: 0.793\n",
            "Epoch:5/5..  Training Loss: 0.538..  Test Loss: 0.622..  Test Accuracy: 0.811\n",
            "Epoch:1/5..  Training Loss: 5.478..  Test Loss: 1.944..  Test Accuracy: 0.340\n",
            "Epoch:2/5..  Training Loss: 2.235..  Test Loss: 1.467..  Test Accuracy: 0.532\n",
            "Epoch:3/5..  Training Loss: 1.486..  Test Loss: 1.149..  Test Accuracy: 0.659\n",
            "Epoch:4/5..  Training Loss: 1.004..  Test Loss: 0.950..  Test Accuracy: 0.691\n",
            "Epoch:5/5..  Training Loss: 0.848..  Test Loss: 0.861..  Test Accuracy: 0.726\n",
            "Epoch:1/5..  Training Loss: 4.584..  Test Loss: 1.740..  Test Accuracy: 0.424\n",
            "Epoch:2/5..  Training Loss: 2.072..  Test Loss: 1.205..  Test Accuracy: 0.600\n",
            "Epoch:3/5..  Training Loss: 1.317..  Test Loss: 0.932..  Test Accuracy: 0.687\n",
            "Epoch:4/5..  Training Loss: 0.950..  Test Loss: 0.738..  Test Accuracy: 0.779\n",
            "Epoch:5/5..  Training Loss: 0.727..  Test Loss: 0.708..  Test Accuracy: 0.796\n",
            "Epoch:1/5..  Training Loss: 5.606..  Test Loss: 1.864..  Test Accuracy: 0.380\n",
            "Epoch:2/5..  Training Loss: 2.258..  Test Loss: 1.299..  Test Accuracy: 0.560\n",
            "Epoch:3/5..  Training Loss: 1.384..  Test Loss: 1.105..  Test Accuracy: 0.628\n",
            "Epoch:4/5..  Training Loss: 0.984..  Test Loss: 0.814..  Test Accuracy: 0.738\n",
            "Epoch:5/5..  Training Loss: 0.829..  Test Loss: 0.757..  Test Accuracy: 0.765\n",
            "Epoch:1/5..  Training Loss: 6.517..  Test Loss: 1.862..  Test Accuracy: 0.362\n",
            "Epoch:2/5..  Training Loss: 2.166..  Test Loss: 1.391..  Test Accuracy: 0.542\n",
            "Epoch:3/5..  Training Loss: 1.336..  Test Loss: 1.033..  Test Accuracy: 0.683\n",
            "Epoch:4/5..  Training Loss: 1.032..  Test Loss: 0.869..  Test Accuracy: 0.735\n",
            "Epoch:5/5..  Training Loss: 0.762..  Test Loss: 0.786..  Test Accuracy: 0.759\n",
            "Epoch:1/5..  Training Loss: 5.925..  Test Loss: 1.506..  Test Accuracy: 0.513\n",
            "Epoch:2/5..  Training Loss: 1.848..  Test Loss: 1.190..  Test Accuracy: 0.620\n",
            "Epoch:3/5..  Training Loss: 1.190..  Test Loss: 0.882..  Test Accuracy: 0.721\n",
            "Epoch:4/5..  Training Loss: 0.804..  Test Loss: 0.799..  Test Accuracy: 0.754\n",
            "Epoch:5/5..  Training Loss: 0.603..  Test Loss: 0.734..  Test Accuracy: 0.780\n",
            "Epoch:1/5..  Training Loss: 5.459..  Test Loss: 1.494..  Test Accuracy: 0.509\n",
            "Epoch:2/5..  Training Loss: 1.843..  Test Loss: 1.072..  Test Accuracy: 0.653\n",
            "Epoch:3/5..  Training Loss: 1.094..  Test Loss: 0.867..  Test Accuracy: 0.713\n",
            "Epoch:4/5..  Training Loss: 0.830..  Test Loss: 0.823..  Test Accuracy: 0.738\n",
            "Epoch:5/5..  Training Loss: 0.669..  Test Loss: 0.696..  Test Accuracy: 0.792\n",
            "Epoch:1/5..  Training Loss: 7.037..  Test Loss: 1.895..  Test Accuracy: 0.443\n",
            "Epoch:2/5..  Training Loss: 2.029..  Test Loss: 1.337..  Test Accuracy: 0.577\n",
            "Epoch:3/5..  Training Loss: 1.498..  Test Loss: 1.158..  Test Accuracy: 0.650\n",
            "Epoch:4/5..  Training Loss: 1.289..  Test Loss: 0.987..  Test Accuracy: 0.682\n",
            "Epoch:5/5..  Training Loss: 0.966..  Test Loss: 0.854..  Test Accuracy: 0.725\n",
            "Epoch:1/5..  Training Loss: 5.091..  Test Loss: 1.528..  Test Accuracy: 0.491\n",
            "Epoch:2/5..  Training Loss: 2.010..  Test Loss: 1.244..  Test Accuracy: 0.563\n",
            "Epoch:3/5..  Training Loss: 1.471..  Test Loss: 1.040..  Test Accuracy: 0.656\n",
            "Epoch:4/5..  Training Loss: 1.183..  Test Loss: 0.884..  Test Accuracy: 0.718\n",
            "Epoch:5/5..  Training Loss: 0.883..  Test Loss: 0.786..  Test Accuracy: 0.750\n",
            "Epoch:1/5..  Training Loss: 5.122..  Test Loss: 1.755..  Test Accuracy: 0.367\n",
            "Epoch:2/5..  Training Loss: 2.323..  Test Loss: 1.492..  Test Accuracy: 0.518\n",
            "Epoch:3/5..  Training Loss: 1.681..  Test Loss: 1.151..  Test Accuracy: 0.646\n",
            "Epoch:4/5..  Training Loss: 1.297..  Test Loss: 0.866..  Test Accuracy: 0.722\n",
            "Epoch:5/5..  Training Loss: 0.998..  Test Loss: 0.751..  Test Accuracy: 0.767\n",
            "Epoch:1/5..  Training Loss: 6.232..  Test Loss: 1.760..  Test Accuracy: 0.472\n",
            "Epoch:2/5..  Training Loss: 2.038..  Test Loss: 1.126..  Test Accuracy: 0.609\n",
            "Epoch:3/5..  Training Loss: 1.282..  Test Loss: 1.037..  Test Accuracy: 0.664\n",
            "Epoch:4/5..  Training Loss: 1.075..  Test Loss: 0.873..  Test Accuracy: 0.724\n",
            "Epoch:5/5..  Training Loss: 0.716..  Test Loss: 0.684..  Test Accuracy: 0.806\n",
            "Epoch:1/5..  Training Loss: 4.637..  Test Loss: 1.552..  Test Accuracy: 0.470\n",
            "Epoch:2/5..  Training Loss: 2.088..  Test Loss: 1.290..  Test Accuracy: 0.598\n",
            "Epoch:3/5..  Training Loss: 1.390..  Test Loss: 0.935..  Test Accuracy: 0.672\n",
            "Epoch:4/5..  Training Loss: 1.027..  Test Loss: 0.807..  Test Accuracy: 0.725\n",
            "Epoch:5/5..  Training Loss: 0.761..  Test Loss: 0.713..  Test Accuracy: 0.776\n",
            "Epoch:1/5..  Training Loss: 8.362..  Test Loss: 2.453..  Test Accuracy: 0.310\n",
            "Epoch:2/5..  Training Loss: 2.798..  Test Loss: 1.674..  Test Accuracy: 0.410\n",
            "Epoch:3/5..  Training Loss: 1.981..  Test Loss: 1.283..  Test Accuracy: 0.584\n",
            "Epoch:4/5..  Training Loss: 1.530..  Test Loss: 1.129..  Test Accuracy: 0.652\n",
            "Epoch:5/5..  Training Loss: 1.214..  Test Loss: 0.928..  Test Accuracy: 0.733\n",
            "Epoch:1/5..  Training Loss: 4.855..  Test Loss: 1.621..  Test Accuracy: 0.449\n",
            "Epoch:2/5..  Training Loss: 1.941..  Test Loss: 1.110..  Test Accuracy: 0.637\n",
            "Epoch:3/5..  Training Loss: 1.424..  Test Loss: 0.932..  Test Accuracy: 0.700\n",
            "Epoch:4/5..  Training Loss: 0.906..  Test Loss: 0.813..  Test Accuracy: 0.742\n",
            "Epoch:5/5..  Training Loss: 0.711..  Test Loss: 0.810..  Test Accuracy: 0.748\n",
            "Epoch:1/5..  Training Loss: 5.307..  Test Loss: 1.767..  Test Accuracy: 0.361\n",
            "Epoch:2/5..  Training Loss: 2.362..  Test Loss: 1.196..  Test Accuracy: 0.571\n",
            "Epoch:3/5..  Training Loss: 1.513..  Test Loss: 1.033..  Test Accuracy: 0.661\n",
            "Epoch:4/5..  Training Loss: 1.122..  Test Loss: 0.880..  Test Accuracy: 0.713\n",
            "Epoch:5/5..  Training Loss: 0.943..  Test Loss: 0.682..  Test Accuracy: 0.790\n",
            "Epoch:1/5..  Training Loss: 3.836..  Test Loss: 1.374..  Test Accuracy: 0.519\n",
            "Epoch:2/5..  Training Loss: 1.474..  Test Loss: 1.117..  Test Accuracy: 0.631\n",
            "Epoch:3/5..  Training Loss: 1.015..  Test Loss: 0.957..  Test Accuracy: 0.706\n",
            "Epoch:4/5..  Training Loss: 0.729..  Test Loss: 0.880..  Test Accuracy: 0.729\n",
            "Epoch:5/5..  Training Loss: 0.509..  Test Loss: 0.730..  Test Accuracy: 0.779\n",
            "Epoch:1/5..  Training Loss: 5.570..  Test Loss: 1.696..  Test Accuracy: 0.386\n",
            "Epoch:2/5..  Training Loss: 1.921..  Test Loss: 1.357..  Test Accuracy: 0.588\n",
            "Epoch:3/5..  Training Loss: 1.239..  Test Loss: 0.993..  Test Accuracy: 0.682\n",
            "Epoch:4/5..  Training Loss: 0.914..  Test Loss: 0.865..  Test Accuracy: 0.731\n",
            "Epoch:5/5..  Training Loss: 0.699..  Test Loss: 0.759..  Test Accuracy: 0.775\n",
            "Epoch:1/5..  Training Loss: 4.711..  Test Loss: 1.507..  Test Accuracy: 0.516\n",
            "Epoch:2/5..  Training Loss: 1.918..  Test Loss: 1.214..  Test Accuracy: 0.568\n",
            "Epoch:3/5..  Training Loss: 1.357..  Test Loss: 0.915..  Test Accuracy: 0.720\n",
            "Epoch:4/5..  Training Loss: 0.913..  Test Loss: 0.839..  Test Accuracy: 0.746\n",
            "Epoch:5/5..  Training Loss: 0.706..  Test Loss: 0.777..  Test Accuracy: 0.782\n",
            "Epoch:1/5..  Training Loss: 4.915..  Test Loss: 1.994..  Test Accuracy: 0.402\n",
            "Epoch:2/5..  Training Loss: 2.078..  Test Loss: 1.354..  Test Accuracy: 0.576\n",
            "Epoch:3/5..  Training Loss: 1.408..  Test Loss: 1.021..  Test Accuracy: 0.683\n",
            "Epoch:4/5..  Training Loss: 1.075..  Test Loss: 0.757..  Test Accuracy: 0.772\n",
            "Epoch:5/5..  Training Loss: 0.852..  Test Loss: 0.676..  Test Accuracy: 0.799\n",
            "Epoch:1/5..  Training Loss: 5.465..  Test Loss: 1.876..  Test Accuracy: 0.403\n",
            "Epoch:2/5..  Training Loss: 2.105..  Test Loss: 1.320..  Test Accuracy: 0.595\n",
            "Epoch:3/5..  Training Loss: 1.492..  Test Loss: 1.134..  Test Accuracy: 0.628\n",
            "Epoch:4/5..  Training Loss: 1.182..  Test Loss: 0.846..  Test Accuracy: 0.734\n",
            "Epoch:5/5..  Training Loss: 0.917..  Test Loss: 0.781..  Test Accuracy: 0.753\n",
            "Epoch:1/5..  Training Loss: 5.186..  Test Loss: 1.802..  Test Accuracy: 0.395\n",
            "Epoch:2/5..  Training Loss: 1.748..  Test Loss: 1.094..  Test Accuracy: 0.658\n",
            "Epoch:3/5..  Training Loss: 1.093..  Test Loss: 0.863..  Test Accuracy: 0.719\n",
            "Epoch:4/5..  Training Loss: 0.810..  Test Loss: 0.718..  Test Accuracy: 0.771\n",
            "Epoch:5/5..  Training Loss: 0.649..  Test Loss: 0.633..  Test Accuracy: 0.803\n",
            "Epoch:1/5..  Training Loss: 4.792..  Test Loss: 1.723..  Test Accuracy: 0.407\n",
            "Epoch:2/5..  Training Loss: 2.064..  Test Loss: 1.330..  Test Accuracy: 0.586\n",
            "Epoch:3/5..  Training Loss: 1.369..  Test Loss: 1.038..  Test Accuracy: 0.666\n",
            "Epoch:4/5..  Training Loss: 1.039..  Test Loss: 0.803..  Test Accuracy: 0.760\n",
            "Epoch:5/5..  Training Loss: 0.699..  Test Loss: 0.671..  Test Accuracy: 0.801\n",
            "Epoch:1/5..  Training Loss: 4.874..  Test Loss: 1.906..  Test Accuracy: 0.377\n",
            "Epoch:2/5..  Training Loss: 1.950..  Test Loss: 1.303..  Test Accuracy: 0.578\n",
            "Epoch:3/5..  Training Loss: 1.332..  Test Loss: 0.969..  Test Accuracy: 0.687\n",
            "Epoch:4/5..  Training Loss: 1.033..  Test Loss: 0.794..  Test Accuracy: 0.745\n",
            "Epoch:5/5..  Training Loss: 0.791..  Test Loss: 0.749..  Test Accuracy: 0.764\n",
            "Epoch:1/5..  Training Loss: 7.598..  Test Loss: 1.986..  Test Accuracy: 0.372\n",
            "Epoch:2/5..  Training Loss: 2.694..  Test Loss: 1.311..  Test Accuracy: 0.552\n",
            "Epoch:3/5..  Training Loss: 1.574..  Test Loss: 1.103..  Test Accuracy: 0.627\n",
            "Epoch:4/5..  Training Loss: 1.351..  Test Loss: 0.995..  Test Accuracy: 0.689\n",
            "Epoch:5/5..  Training Loss: 1.033..  Test Loss: 0.968..  Test Accuracy: 0.701\n",
            "Epoch:1/5..  Training Loss: 5.815..  Test Loss: 1.637..  Test Accuracy: 0.451\n",
            "Epoch:2/5..  Training Loss: 1.880..  Test Loss: 1.153..  Test Accuracy: 0.615\n",
            "Epoch:3/5..  Training Loss: 1.364..  Test Loss: 1.014..  Test Accuracy: 0.670\n",
            "Epoch:4/5..  Training Loss: 1.060..  Test Loss: 0.841..  Test Accuracy: 0.731\n",
            "Epoch:5/5..  Training Loss: 0.832..  Test Loss: 0.750..  Test Accuracy: 0.761\n",
            "Epoch:1/5..  Training Loss: 5.960..  Test Loss: 1.749..  Test Accuracy: 0.411\n",
            "Epoch:2/5..  Training Loss: 1.922..  Test Loss: 1.289..  Test Accuracy: 0.584\n",
            "Epoch:3/5..  Training Loss: 1.466..  Test Loss: 1.016..  Test Accuracy: 0.702\n",
            "Epoch:4/5..  Training Loss: 1.053..  Test Loss: 0.878..  Test Accuracy: 0.744\n",
            "Epoch:5/5..  Training Loss: 0.808..  Test Loss: 0.745..  Test Accuracy: 0.776\n",
            "Epoch:1/5..  Training Loss: 6.249..  Test Loss: 1.721..  Test Accuracy: 0.478\n",
            "Epoch:2/5..  Training Loss: 2.101..  Test Loss: 1.355..  Test Accuracy: 0.558\n",
            "Epoch:3/5..  Training Loss: 1.343..  Test Loss: 0.978..  Test Accuracy: 0.692\n",
            "Epoch:4/5..  Training Loss: 0.956..  Test Loss: 0.836..  Test Accuracy: 0.734\n",
            "Epoch:5/5..  Training Loss: 0.807..  Test Loss: 0.735..  Test Accuracy: 0.778\n",
            "Epoch:1/5..  Training Loss: 5.058..  Test Loss: 1.877..  Test Accuracy: 0.382\n",
            "Epoch:2/5..  Training Loss: 2.000..  Test Loss: 1.088..  Test Accuracy: 0.646\n",
            "Epoch:3/5..  Training Loss: 1.450..  Test Loss: 0.961..  Test Accuracy: 0.703\n",
            "Epoch:4/5..  Training Loss: 1.000..  Test Loss: 0.797..  Test Accuracy: 0.754\n",
            "Epoch:5/5..  Training Loss: 0.775..  Test Loss: 0.693..  Test Accuracy: 0.784\n",
            "Epoch:1/5..  Training Loss: 5.452..  Test Loss: 1.694..  Test Accuracy: 0.473\n",
            "Epoch:2/5..  Training Loss: 2.067..  Test Loss: 1.106..  Test Accuracy: 0.649\n",
            "Epoch:3/5..  Training Loss: 1.258..  Test Loss: 0.882..  Test Accuracy: 0.722\n",
            "Epoch:4/5..  Training Loss: 0.961..  Test Loss: 0.776..  Test Accuracy: 0.754\n",
            "Epoch:5/5..  Training Loss: 0.734..  Test Loss: 0.698..  Test Accuracy: 0.782\n",
            "Epoch:1/5..  Training Loss: 7.186..  Test Loss: 2.107..  Test Accuracy: 0.258\n",
            "Epoch:2/5..  Training Loss: 2.781..  Test Loss: 1.621..  Test Accuracy: 0.481\n",
            "Epoch:3/5..  Training Loss: 1.675..  Test Loss: 1.234..  Test Accuracy: 0.635\n",
            "Epoch:4/5..  Training Loss: 1.323..  Test Loss: 1.010..  Test Accuracy: 0.673\n",
            "Epoch:5/5..  Training Loss: 1.006..  Test Loss: 0.841..  Test Accuracy: 0.717\n",
            "Epoch:1/5..  Training Loss: 3.871..  Test Loss: 1.359..  Test Accuracy: 0.529\n",
            "Epoch:2/5..  Training Loss: 1.771..  Test Loss: 1.095..  Test Accuracy: 0.620\n",
            "Epoch:3/5..  Training Loss: 1.285..  Test Loss: 0.874..  Test Accuracy: 0.697\n",
            "Epoch:4/5..  Training Loss: 0.831..  Test Loss: 0.730..  Test Accuracy: 0.769\n",
            "Epoch:5/5..  Training Loss: 0.659..  Test Loss: 0.707..  Test Accuracy: 0.780\n",
            "Epoch:1/5..  Training Loss: 5.354..  Test Loss: 1.647..  Test Accuracy: 0.489\n",
            "Epoch:2/5..  Training Loss: 2.162..  Test Loss: 1.231..  Test Accuracy: 0.587\n",
            "Epoch:3/5..  Training Loss: 1.243..  Test Loss: 0.901..  Test Accuracy: 0.699\n",
            "Epoch:4/5..  Training Loss: 0.852..  Test Loss: 0.751..  Test Accuracy: 0.758\n",
            "Epoch:5/5..  Training Loss: 0.606..  Test Loss: 0.668..  Test Accuracy: 0.793\n",
            "Epoch:1/5..  Training Loss: 6.083..  Test Loss: 2.338..  Test Accuracy: 0.243\n",
            "Epoch:2/5..  Training Loss: 2.394..  Test Loss: 1.526..  Test Accuracy: 0.559\n",
            "Epoch:3/5..  Training Loss: 1.671..  Test Loss: 1.261..  Test Accuracy: 0.605\n",
            "Epoch:4/5..  Training Loss: 1.272..  Test Loss: 0.980..  Test Accuracy: 0.678\n",
            "Epoch:5/5..  Training Loss: 0.998..  Test Loss: 0.781..  Test Accuracy: 0.756\n",
            "Epoch:1/5..  Training Loss: 7.001..  Test Loss: 2.059..  Test Accuracy: 0.313\n",
            "Epoch:2/5..  Training Loss: 2.305..  Test Loss: 1.557..  Test Accuracy: 0.497\n",
            "Epoch:3/5..  Training Loss: 1.572..  Test Loss: 1.201..  Test Accuracy: 0.618\n",
            "Epoch:4/5..  Training Loss: 1.151..  Test Loss: 0.936..  Test Accuracy: 0.708\n",
            "Epoch:5/5..  Training Loss: 0.855..  Test Loss: 0.760..  Test Accuracy: 0.751\n",
            "Epoch:1/5..  Training Loss: 5.176..  Test Loss: 1.702..  Test Accuracy: 0.426\n",
            "Epoch:2/5..  Training Loss: 1.993..  Test Loss: 1.297..  Test Accuracy: 0.585\n",
            "Epoch:3/5..  Training Loss: 1.292..  Test Loss: 0.954..  Test Accuracy: 0.698\n",
            "Epoch:4/5..  Training Loss: 0.947..  Test Loss: 0.754..  Test Accuracy: 0.765\n",
            "Epoch:5/5..  Training Loss: 0.690..  Test Loss: 0.638..  Test Accuracy: 0.804\n",
            "Epoch:1/5..  Training Loss: 5.387..  Test Loss: 1.891..  Test Accuracy: 0.327\n",
            "Epoch:2/5..  Training Loss: 2.269..  Test Loss: 1.351..  Test Accuracy: 0.591\n",
            "Epoch:3/5..  Training Loss: 1.486..  Test Loss: 1.076..  Test Accuracy: 0.617\n",
            "Epoch:4/5..  Training Loss: 1.230..  Test Loss: 0.849..  Test Accuracy: 0.741\n",
            "Epoch:5/5..  Training Loss: 0.873..  Test Loss: 0.712..  Test Accuracy: 0.781\n",
            "Epoch:1/5..  Training Loss: 7.315..  Test Loss: 2.031..  Test Accuracy: 0.304\n",
            "Epoch:2/5..  Training Loss: 2.428..  Test Loss: 1.446..  Test Accuracy: 0.527\n",
            "Epoch:3/5..  Training Loss: 1.661..  Test Loss: 1.234..  Test Accuracy: 0.573\n",
            "Epoch:4/5..  Training Loss: 1.291..  Test Loss: 0.970..  Test Accuracy: 0.675\n",
            "Epoch:5/5..  Training Loss: 0.965..  Test Loss: 0.899..  Test Accuracy: 0.686\n",
            "Epoch:1/5..  Training Loss: 8.224..  Test Loss: 2.242..  Test Accuracy: 0.244\n",
            "Epoch:2/5..  Training Loss: 2.681..  Test Loss: 1.668..  Test Accuracy: 0.363\n",
            "Epoch:3/5..  Training Loss: 1.771..  Test Loss: 1.342..  Test Accuracy: 0.572\n",
            "Epoch:4/5..  Training Loss: 1.450..  Test Loss: 1.085..  Test Accuracy: 0.693\n",
            "Epoch:5/5..  Training Loss: 1.163..  Test Loss: 0.893..  Test Accuracy: 0.726\n",
            "Epoch:1/5..  Training Loss: 5.274..  Test Loss: 1.588..  Test Accuracy: 0.449\n",
            "Epoch:2/5..  Training Loss: 2.123..  Test Loss: 1.158..  Test Accuracy: 0.653\n",
            "Epoch:3/5..  Training Loss: 1.285..  Test Loss: 0.984..  Test Accuracy: 0.683\n",
            "Epoch:4/5..  Training Loss: 0.926..  Test Loss: 0.815..  Test Accuracy: 0.726\n",
            "Epoch:5/5..  Training Loss: 0.735..  Test Loss: 0.717..  Test Accuracy: 0.762\n",
            "Epoch:1/5..  Training Loss: 5.213..  Test Loss: 1.838..  Test Accuracy: 0.447\n",
            "Epoch:2/5..  Training Loss: 1.796..  Test Loss: 1.105..  Test Accuracy: 0.644\n",
            "Epoch:3/5..  Training Loss: 1.065..  Test Loss: 0.904..  Test Accuracy: 0.720\n",
            "Epoch:4/5..  Training Loss: 0.793..  Test Loss: 0.817..  Test Accuracy: 0.745\n",
            "Epoch:5/5..  Training Loss: 0.643..  Test Loss: 0.770..  Test Accuracy: 0.765\n",
            "Epoch:1/5..  Training Loss: 5.665..  Test Loss: 1.623..  Test Accuracy: 0.420\n",
            "Epoch:2/5..  Training Loss: 2.145..  Test Loss: 1.374..  Test Accuracy: 0.499\n",
            "Epoch:3/5..  Training Loss: 1.460..  Test Loss: 1.109..  Test Accuracy: 0.604\n",
            "Epoch:4/5..  Training Loss: 1.142..  Test Loss: 0.849..  Test Accuracy: 0.716\n",
            "Epoch:5/5..  Training Loss: 0.878..  Test Loss: 0.793..  Test Accuracy: 0.743\n",
            "Epoch:1/5..  Training Loss: 4.516..  Test Loss: 1.758..  Test Accuracy: 0.423\n",
            "Epoch:2/5..  Training Loss: 2.045..  Test Loss: 1.200..  Test Accuracy: 0.592\n",
            "Epoch:3/5..  Training Loss: 1.304..  Test Loss: 0.950..  Test Accuracy: 0.685\n",
            "Epoch:4/5..  Training Loss: 1.073..  Test Loss: 0.876..  Test Accuracy: 0.723\n",
            "Epoch:5/5..  Training Loss: 0.848..  Test Loss: 0.754..  Test Accuracy: 0.754\n",
            "Epoch:1/5..  Training Loss: 5.258..  Test Loss: 1.522..  Test Accuracy: 0.487\n",
            "Epoch:2/5..  Training Loss: 1.859..  Test Loss: 1.060..  Test Accuracy: 0.653\n",
            "Epoch:3/5..  Training Loss: 1.362..  Test Loss: 0.935..  Test Accuracy: 0.692\n",
            "Epoch:4/5..  Training Loss: 0.939..  Test Loss: 0.879..  Test Accuracy: 0.718\n",
            "Epoch:5/5..  Training Loss: 0.771..  Test Loss: 0.747..  Test Accuracy: 0.766\n",
            "Epoch:1/5..  Training Loss: 7.156..  Test Loss: 1.859..  Test Accuracy: 0.337\n",
            "Epoch:2/5..  Training Loss: 1.967..  Test Loss: 1.394..  Test Accuracy: 0.519\n",
            "Epoch:3/5..  Training Loss: 1.447..  Test Loss: 1.037..  Test Accuracy: 0.674\n",
            "Epoch:4/5..  Training Loss: 1.066..  Test Loss: 0.863..  Test Accuracy: 0.719\n",
            "Epoch:5/5..  Training Loss: 0.686..  Test Loss: 0.746..  Test Accuracy: 0.769\n",
            "Epoch:1/5..  Training Loss: 5.536..  Test Loss: 1.703..  Test Accuracy: 0.449\n",
            "Epoch:2/5..  Training Loss: 2.004..  Test Loss: 1.305..  Test Accuracy: 0.569\n",
            "Epoch:3/5..  Training Loss: 1.324..  Test Loss: 0.928..  Test Accuracy: 0.705\n",
            "Epoch:4/5..  Training Loss: 0.970..  Test Loss: 0.748..  Test Accuracy: 0.760\n",
            "Epoch:5/5..  Training Loss: 0.684..  Test Loss: 0.649..  Test Accuracy: 0.788\n",
            "Epoch:1/5..  Training Loss: 5.574..  Test Loss: 1.466..  Test Accuracy: 0.513\n",
            "Epoch:2/5..  Training Loss: 2.099..  Test Loss: 1.147..  Test Accuracy: 0.653\n",
            "Epoch:3/5..  Training Loss: 1.446..  Test Loss: 0.930..  Test Accuracy: 0.702\n",
            "Epoch:4/5..  Training Loss: 1.097..  Test Loss: 0.912..  Test Accuracy: 0.704\n",
            "Epoch:5/5..  Training Loss: 0.764..  Test Loss: 0.813..  Test Accuracy: 0.745\n",
            "Epoch:1/5..  Training Loss: 7.101..  Test Loss: 1.812..  Test Accuracy: 0.390\n",
            "Epoch:2/5..  Training Loss: 1.991..  Test Loss: 1.294..  Test Accuracy: 0.614\n",
            "Epoch:3/5..  Training Loss: 1.350..  Test Loss: 1.009..  Test Accuracy: 0.710\n",
            "Epoch:4/5..  Training Loss: 0.850..  Test Loss: 0.803..  Test Accuracy: 0.758\n",
            "Epoch:5/5..  Training Loss: 0.636..  Test Loss: 0.751..  Test Accuracy: 0.765\n",
            "Epoch:1/5..  Training Loss: 4.585..  Test Loss: 1.788..  Test Accuracy: 0.460\n",
            "Epoch:2/5..  Training Loss: 2.140..  Test Loss: 1.181..  Test Accuracy: 0.620\n",
            "Epoch:3/5..  Training Loss: 1.363..  Test Loss: 0.852..  Test Accuracy: 0.716\n",
            "Epoch:4/5..  Training Loss: 0.959..  Test Loss: 0.755..  Test Accuracy: 0.740\n",
            "Epoch:5/5..  Training Loss: 0.774..  Test Loss: 0.644..  Test Accuracy: 0.795\n",
            "Epoch:1/5..  Training Loss: 5.312..  Test Loss: 1.869..  Test Accuracy: 0.335\n",
            "Epoch:2/5..  Training Loss: 2.300..  Test Loss: 1.376..  Test Accuracy: 0.561\n",
            "Epoch:3/5..  Training Loss: 1.479..  Test Loss: 1.149..  Test Accuracy: 0.622\n",
            "Epoch:4/5..  Training Loss: 1.108..  Test Loss: 0.853..  Test Accuracy: 0.702\n",
            "Epoch:5/5..  Training Loss: 0.943..  Test Loss: 0.785..  Test Accuracy: 0.742\n",
            "Epoch:1/5..  Training Loss: 6.636..  Test Loss: 2.134..  Test Accuracy: 0.303\n",
            "Epoch:2/5..  Training Loss: 2.442..  Test Loss: 1.567..  Test Accuracy: 0.483\n",
            "Epoch:3/5..  Training Loss: 1.907..  Test Loss: 1.338..  Test Accuracy: 0.627\n",
            "Epoch:4/5..  Training Loss: 1.474..  Test Loss: 1.171..  Test Accuracy: 0.633\n",
            "Epoch:5/5..  Training Loss: 1.236..  Test Loss: 0.940..  Test Accuracy: 0.714\n",
            "Epoch:1/5..  Training Loss: 4.276..  Test Loss: 1.673..  Test Accuracy: 0.458\n",
            "Epoch:2/5..  Training Loss: 1.856..  Test Loss: 1.161..  Test Accuracy: 0.630\n",
            "Epoch:3/5..  Training Loss: 1.221..  Test Loss: 0.803..  Test Accuracy: 0.753\n",
            "Epoch:4/5..  Training Loss: 0.869..  Test Loss: 0.733..  Test Accuracy: 0.780\n",
            "Epoch:5/5..  Training Loss: 0.694..  Test Loss: 0.703..  Test Accuracy: 0.792\n",
            "Epoch:1/5..  Training Loss: 6.498..  Test Loss: 2.320..  Test Accuracy: 0.234\n",
            "Epoch:2/5..  Training Loss: 2.486..  Test Loss: 1.460..  Test Accuracy: 0.531\n",
            "Epoch:3/5..  Training Loss: 1.550..  Test Loss: 1.111..  Test Accuracy: 0.621\n",
            "Epoch:4/5..  Training Loss: 0.999..  Test Loss: 0.930..  Test Accuracy: 0.695\n",
            "Epoch:5/5..  Training Loss: 0.758..  Test Loss: 0.824..  Test Accuracy: 0.731\n",
            "Epoch:1/5..  Training Loss: 5.485..  Test Loss: 1.791..  Test Accuracy: 0.476\n",
            "Epoch:2/5..  Training Loss: 2.001..  Test Loss: 1.236..  Test Accuracy: 0.616\n",
            "Epoch:3/5..  Training Loss: 1.246..  Test Loss: 1.001..  Test Accuracy: 0.688\n",
            "Epoch:4/5..  Training Loss: 0.972..  Test Loss: 0.778..  Test Accuracy: 0.762\n",
            "Epoch:5/5..  Training Loss: 0.626..  Test Loss: 0.701..  Test Accuracy: 0.790\n",
            "Epoch:1/5..  Training Loss: 6.282..  Test Loss: 1.766..  Test Accuracy: 0.377\n",
            "Epoch:2/5..  Training Loss: 2.078..  Test Loss: 1.240..  Test Accuracy: 0.617\n",
            "Epoch:3/5..  Training Loss: 1.337..  Test Loss: 0.870..  Test Accuracy: 0.742\n",
            "Epoch:4/5..  Training Loss: 0.949..  Test Loss: 0.739..  Test Accuracy: 0.758\n",
            "Epoch:5/5..  Training Loss: 0.703..  Test Loss: 0.643..  Test Accuracy: 0.797\n",
            "Epoch:1/5..  Training Loss: 4.290..  Test Loss: 1.348..  Test Accuracy: 0.552\n",
            "Epoch:2/5..  Training Loss: 1.669..  Test Loss: 0.994..  Test Accuracy: 0.689\n",
            "Epoch:3/5..  Training Loss: 1.270..  Test Loss: 0.828..  Test Accuracy: 0.736\n",
            "Epoch:4/5..  Training Loss: 0.896..  Test Loss: 0.716..  Test Accuracy: 0.777\n",
            "Epoch:5/5..  Training Loss: 0.668..  Test Loss: 0.606..  Test Accuracy: 0.808\n",
            "Epoch:1/5..  Training Loss: 5.479..  Test Loss: 2.082..  Test Accuracy: 0.308\n",
            "Epoch:2/5..  Training Loss: 2.279..  Test Loss: 1.473..  Test Accuracy: 0.529\n",
            "Epoch:3/5..  Training Loss: 1.539..  Test Loss: 1.068..  Test Accuracy: 0.692\n",
            "Epoch:4/5..  Training Loss: 1.191..  Test Loss: 0.844..  Test Accuracy: 0.733\n",
            "Epoch:5/5..  Training Loss: 0.889..  Test Loss: 0.699..  Test Accuracy: 0.774\n",
            "Epoch:1/5..  Training Loss: 5.209..  Test Loss: 1.859..  Test Accuracy: 0.444\n",
            "Epoch:2/5..  Training Loss: 1.779..  Test Loss: 1.036..  Test Accuracy: 0.660\n",
            "Epoch:3/5..  Training Loss: 1.165..  Test Loss: 0.844..  Test Accuracy: 0.741\n",
            "Epoch:4/5..  Training Loss: 0.899..  Test Loss: 0.716..  Test Accuracy: 0.786\n",
            "Epoch:5/5..  Training Loss: 0.640..  Test Loss: 0.621..  Test Accuracy: 0.815\n",
            "Epoch:1/5..  Training Loss: 4.323..  Test Loss: 1.544..  Test Accuracy: 0.466\n",
            "Epoch:2/5..  Training Loss: 1.703..  Test Loss: 1.066..  Test Accuracy: 0.645\n",
            "Epoch:3/5..  Training Loss: 1.296..  Test Loss: 0.848..  Test Accuracy: 0.738\n",
            "Epoch:4/5..  Training Loss: 0.941..  Test Loss: 0.755..  Test Accuracy: 0.764\n",
            "Epoch:5/5..  Training Loss: 0.675..  Test Loss: 0.659..  Test Accuracy: 0.808\n",
            "Epoch:1/5..  Training Loss: 6.274..  Test Loss: 1.844..  Test Accuracy: 0.348\n",
            "Epoch:2/5..  Training Loss: 2.100..  Test Loss: 1.155..  Test Accuracy: 0.656\n",
            "Epoch:3/5..  Training Loss: 1.318..  Test Loss: 0.963..  Test Accuracy: 0.692\n",
            "Epoch:4/5..  Training Loss: 0.975..  Test Loss: 0.812..  Test Accuracy: 0.753\n",
            "Epoch:5/5..  Training Loss: 0.711..  Test Loss: 0.687..  Test Accuracy: 0.785\n",
            "Epoch:1/5..  Training Loss: 8.134..  Test Loss: 2.076..  Test Accuracy: 0.297\n",
            "Epoch:2/5..  Training Loss: 2.271..  Test Loss: 1.565..  Test Accuracy: 0.484\n",
            "Epoch:3/5..  Training Loss: 1.756..  Test Loss: 1.340..  Test Accuracy: 0.550\n",
            "Epoch:4/5..  Training Loss: 1.464..  Test Loss: 1.061..  Test Accuracy: 0.653\n",
            "Epoch:5/5..  Training Loss: 1.058..  Test Loss: 0.922..  Test Accuracy: 0.708\n",
            "Epoch:1/5..  Training Loss: 4.271..  Test Loss: 1.428..  Test Accuracy: 0.519\n",
            "Epoch:2/5..  Training Loss: 1.521..  Test Loss: 0.965..  Test Accuracy: 0.695\n",
            "Epoch:3/5..  Training Loss: 0.962..  Test Loss: 0.818..  Test Accuracy: 0.744\n",
            "Epoch:4/5..  Training Loss: 0.663..  Test Loss: 0.664..  Test Accuracy: 0.790\n",
            "Epoch:5/5..  Training Loss: 0.546..  Test Loss: 0.630..  Test Accuracy: 0.808\n",
            "Epoch:1/5..  Training Loss: 6.840..  Test Loss: 1.962..  Test Accuracy: 0.398\n",
            "Epoch:2/5..  Training Loss: 2.515..  Test Loss: 1.336..  Test Accuracy: 0.532\n",
            "Epoch:3/5..  Training Loss: 1.578..  Test Loss: 1.116..  Test Accuracy: 0.631\n",
            "Epoch:4/5..  Training Loss: 1.170..  Test Loss: 0.987..  Test Accuracy: 0.674\n",
            "Epoch:5/5..  Training Loss: 0.814..  Test Loss: 0.863..  Test Accuracy: 0.719\n",
            "Epoch:1/5..  Training Loss: 5.490..  Test Loss: 1.950..  Test Accuracy: 0.262\n",
            "Epoch:2/5..  Training Loss: 2.346..  Test Loss: 1.380..  Test Accuracy: 0.570\n",
            "Epoch:3/5..  Training Loss: 1.559..  Test Loss: 1.032..  Test Accuracy: 0.716\n",
            "Epoch:4/5..  Training Loss: 1.028..  Test Loss: 0.771..  Test Accuracy: 0.770\n",
            "Epoch:5/5..  Training Loss: 0.840..  Test Loss: 0.702..  Test Accuracy: 0.796\n",
            "Epoch:1/5..  Training Loss: 5.516..  Test Loss: 2.158..  Test Accuracy: 0.310\n",
            "Epoch:2/5..  Training Loss: 2.185..  Test Loss: 1.396..  Test Accuracy: 0.546\n",
            "Epoch:3/5..  Training Loss: 1.316..  Test Loss: 1.155..  Test Accuracy: 0.616\n",
            "Epoch:4/5..  Training Loss: 0.857..  Test Loss: 0.942..  Test Accuracy: 0.678\n",
            "Epoch:5/5..  Training Loss: 0.670..  Test Loss: 0.817..  Test Accuracy: 0.750\n",
            "Epoch:1/5..  Training Loss: 5.568..  Test Loss: 1.696..  Test Accuracy: 0.443\n",
            "Epoch:2/5..  Training Loss: 1.978..  Test Loss: 1.132..  Test Accuracy: 0.623\n",
            "Epoch:3/5..  Training Loss: 1.136..  Test Loss: 0.906..  Test Accuracy: 0.722\n",
            "Epoch:4/5..  Training Loss: 0.768..  Test Loss: 0.748..  Test Accuracy: 0.777\n",
            "Epoch:5/5..  Training Loss: 0.623..  Test Loss: 0.661..  Test Accuracy: 0.799\n",
            "Epoch:1/5..  Training Loss: 4.378..  Test Loss: 1.673..  Test Accuracy: 0.466\n",
            "Epoch:2/5..  Training Loss: 1.831..  Test Loss: 1.123..  Test Accuracy: 0.626\n",
            "Epoch:3/5..  Training Loss: 1.167..  Test Loss: 0.859..  Test Accuracy: 0.707\n",
            "Epoch:4/5..  Training Loss: 0.821..  Test Loss: 0.745..  Test Accuracy: 0.763\n",
            "Epoch:5/5..  Training Loss: 0.632..  Test Loss: 0.678..  Test Accuracy: 0.784\n",
            "Epoch:1/5..  Training Loss: 4.548..  Test Loss: 1.552..  Test Accuracy: 0.467\n",
            "Epoch:2/5..  Training Loss: 1.842..  Test Loss: 1.153..  Test Accuracy: 0.616\n",
            "Epoch:3/5..  Training Loss: 1.072..  Test Loss: 0.886..  Test Accuracy: 0.725\n",
            "Epoch:4/5..  Training Loss: 0.714..  Test Loss: 0.824..  Test Accuracy: 0.757\n",
            "Epoch:5/5..  Training Loss: 0.456..  Test Loss: 0.773..  Test Accuracy: 0.784\n",
            "Epoch:1/5..  Training Loss: 5.933..  Test Loss: 2.174..  Test Accuracy: 0.331\n",
            "Epoch:2/5..  Training Loss: 1.848..  Test Loss: 1.276..  Test Accuracy: 0.571\n",
            "Epoch:3/5..  Training Loss: 1.098..  Test Loss: 1.036..  Test Accuracy: 0.675\n",
            "Epoch:4/5..  Training Loss: 0.737..  Test Loss: 0.933..  Test Accuracy: 0.718\n",
            "Epoch:5/5..  Training Loss: 0.553..  Test Loss: 0.841..  Test Accuracy: 0.757\n",
            "Epoch:1/5..  Training Loss: 6.227..  Test Loss: 1.802..  Test Accuracy: 0.418\n",
            "Epoch:2/5..  Training Loss: 1.834..  Test Loss: 1.090..  Test Accuracy: 0.619\n",
            "Epoch:3/5..  Training Loss: 1.019..  Test Loss: 0.957..  Test Accuracy: 0.712\n",
            "Epoch:4/5..  Training Loss: 0.563..  Test Loss: 0.869..  Test Accuracy: 0.735\n",
            "Epoch:5/5..  Training Loss: 0.351..  Test Loss: 0.943..  Test Accuracy: 0.749\n",
            "Epoch:1/5..  Training Loss: 8.006..  Test Loss: 2.144..  Test Accuracy: 0.276\n",
            "Epoch:2/5..  Training Loss: 2.096..  Test Loss: 1.497..  Test Accuracy: 0.504\n",
            "Epoch:3/5..  Training Loss: 1.290..  Test Loss: 1.219..  Test Accuracy: 0.611\n",
            "Epoch:4/5..  Training Loss: 0.917..  Test Loss: 1.034..  Test Accuracy: 0.690\n",
            "Epoch:5/5..  Training Loss: 0.618..  Test Loss: 0.948..  Test Accuracy: 0.711\n"
          ],
          "name": "stdout"
        }
      ]
    },
    {
      "cell_type": "code",
      "metadata": {
        "id": "GoD8LHuDy39S",
        "colab_type": "code",
        "colab": {}
      },
      "source": [
        "# teacher_one=teacher[0]\n",
        "# teacher_two=teacher[1]\n",
        "# teacher_three=teacher[2]\n",
        "# teacher_four=teacher[3]\n",
        "# teacher_five=teacher[4]\n",
        "# teacher_six=teacher[5]\n"
      ],
      "execution_count": 0,
      "outputs": []
    },
    {
      "cell_type": "code",
      "metadata": {
        "id": "ZusMfrwBhv6A",
        "colab_type": "code",
        "colab": {}
      },
      "source": [
        "for i in range(6):\n",
        "  teacher_tensor=torch.stack(teacher[i])\n",
        "teacher_tensor=teacher_tensor.view(60000)"
      ],
      "execution_count": 0,
      "outputs": []
    },
    {
      "cell_type": "code",
      "metadata": {
        "id": "7FfPY99EkJWB",
        "colab_type": "code",
        "colab": {
          "base_uri": "https://localhost:8080/",
          "height": 215
        },
        "outputId": "c13aaf0d-1db0-4059-80e5-f132ee8697fa"
      },
      "source": [
        "teacher_list=list()\n",
        "for i in teacher:\n",
        "  teacher_list.append(torch.stack(i))\n",
        "\n",
        "for i in range(120):\n",
        "  teacher_list=torch.stack(teacher_list[i])\n",
        "teacher_list.shape"
      ],
      "execution_count": 327,
      "outputs": [
        {
          "output_type": "error",
          "ename": "TypeError",
          "evalue": "ignored",
          "traceback": [
            "\u001b[0;31m---------------------------------------------------------------------------\u001b[0m",
            "\u001b[0;31mTypeError\u001b[0m                                 Traceback (most recent call last)",
            "\u001b[0;32m<ipython-input-327-048d4f628499>\u001b[0m in \u001b[0;36m<module>\u001b[0;34m()\u001b[0m\n\u001b[1;32m      4\u001b[0m \u001b[0;34m\u001b[0m\u001b[0m\n\u001b[1;32m      5\u001b[0m \u001b[0;32mfor\u001b[0m \u001b[0mi\u001b[0m \u001b[0;32min\u001b[0m \u001b[0mrange\u001b[0m\u001b[0;34m(\u001b[0m\u001b[0;36m120\u001b[0m\u001b[0;34m)\u001b[0m\u001b[0;34m:\u001b[0m\u001b[0;34m\u001b[0m\u001b[0;34m\u001b[0m\u001b[0m\n\u001b[0;32m----> 6\u001b[0;31m   \u001b[0mteacher_list\u001b[0m\u001b[0;34m=\u001b[0m\u001b[0mtorch\u001b[0m\u001b[0;34m.\u001b[0m\u001b[0mstack\u001b[0m\u001b[0;34m(\u001b[0m\u001b[0mteacher_list\u001b[0m\u001b[0;34m[\u001b[0m\u001b[0mi\u001b[0m\u001b[0;34m]\u001b[0m\u001b[0;34m)\u001b[0m\u001b[0;34m\u001b[0m\u001b[0;34m\u001b[0m\u001b[0m\n\u001b[0m\u001b[1;32m      7\u001b[0m \u001b[0mteacher_list\u001b[0m\u001b[0;34m.\u001b[0m\u001b[0mshape\u001b[0m\u001b[0;34m\u001b[0m\u001b[0;34m\u001b[0m\u001b[0m\n",
            "\u001b[0;31mTypeError\u001b[0m: stack(): argument 'tensors' (position 1) must be tuple of Tensors, not Tensor"
          ]
        }
      ]
    },
    {
      "cell_type": "code",
      "metadata": {
        "id": "k9j_47wliJbD",
        "colab_type": "code",
        "colab": {
          "base_uri": "https://localhost:8080/",
          "height": 34
        },
        "outputId": "8427f68d-5447-407e-974a-ad0233ca73b5"
      },
      "source": [
        "# teacher_test=teacher_test.view(60000)\n",
        "# teacher_tensor.shape\n",
        "teacher_test.shape\n",
        "# len(teacher)"
      ],
      "execution_count": 314,
      "outputs": [
        {
          "output_type": "execute_result",
          "data": {
            "text/plain": [
              "torch.Size([1, 60000])"
            ]
          },
          "metadata": {
            "tags": []
          },
          "execution_count": 314
        }
      ]
    },
    {
      "cell_type": "code",
      "metadata": {
        "id": "wragDmtfDn-5",
        "colab_type": "code",
        "colab": {}
      },
      "source": [
        "# teacher_one=torch.stack(teacher_one)\n",
        "# teacher_two=torch.stack(teacher_two)\n",
        "# teacher_three=torch.stack(teacher_three)\n",
        "# teacher_four=torch.stack(teacher_four)\n",
        "# teacher_five=torch.stack(teacher_five)\n",
        "# teacher_six=torch.stack(teacher_six)\n"
      ],
      "execution_count": 0,
      "outputs": []
    },
    {
      "cell_type": "code",
      "metadata": {
        "id": "pFXwCofKDoOU",
        "colab_type": "code",
        "colab": {}
      },
      "source": [
        "# teacher_one=teacher_one.view(60000)\n",
        "# teacher_two=teacher_two.view(60000)\n",
        "# teacher_three=teacher_three.view(60000)\n",
        "# teacher_four=teacher_four.view(60000)\n",
        "# teacher_five=teacher_five.view(60000)\n",
        "# teacher_six=teacher_six.view(60000)\n"
      ],
      "execution_count": 0,
      "outputs": []
    },
    {
      "cell_type": "code",
      "metadata": {
        "id": "wTnP6miPFh2_",
        "colab_type": "code",
        "colab": {}
      },
      "source": [
        "# teacher_tensor=torch.stack((teacher_one,teacher_two,teacher_three,teacher_four,teacher_five,teacher_six))\n"
      ],
      "execution_count": 0,
      "outputs": []
    },
    {
      "cell_type": "code",
      "metadata": {
        "id": "9Lk0uyRHIzaw",
        "colab_type": "code",
        "colab": {}
      },
      "source": [
        "# teacher_tensor=teacher_tensor.view(60000)\n",
        "# teacher_tensor"
      ],
      "execution_count": 0,
      "outputs": []
    },
    {
      "cell_type": "code",
      "metadata": {
        "id": "YaAdvVT3JS-X",
        "colab_type": "code",
        "colab": {
          "base_uri": "https://localhost:8080/",
          "height": 232
        },
        "outputId": "85ddb702-00ca-487f-808d-4913f93f7df5"
      },
      "source": [
        "new_labels=list()\n",
        "for an_image in teacher_tensor:\n",
        "\n",
        "    label_counts = torch.bincount(an_image, minlength=num_labels)\n",
        "    label_counts=label_counts.numpy()\n",
        "    epsilon = 0.1\n",
        "    beta = 1 / epsilon\n",
        "\n",
        "    for i in range(len(label_counts)):\n",
        "        label_counts[i] += np.random.laplace(0, beta, 1)\n",
        "\n",
        "    new_label = np.argmax(label_counts)\n",
        "    \n",
        "    new_labels.append(new_label)"
      ],
      "execution_count": 268,
      "outputs": [
        {
          "output_type": "error",
          "ename": "RuntimeError",
          "evalue": "ignored",
          "traceback": [
            "\u001b[0;31m---------------------------------------------------------------------------\u001b[0m",
            "\u001b[0;31mRuntimeError\u001b[0m                              Traceback (most recent call last)",
            "\u001b[0;32m<ipython-input-268-9a32d1104a14>\u001b[0m in \u001b[0;36m<module>\u001b[0;34m()\u001b[0m\n\u001b[1;32m      2\u001b[0m \u001b[0;32mfor\u001b[0m \u001b[0man_image\u001b[0m \u001b[0;32min\u001b[0m \u001b[0mteacher_tensor\u001b[0m\u001b[0;34m:\u001b[0m\u001b[0;34m\u001b[0m\u001b[0;34m\u001b[0m\u001b[0m\n\u001b[1;32m      3\u001b[0m \u001b[0;34m\u001b[0m\u001b[0m\n\u001b[0;32m----> 4\u001b[0;31m     \u001b[0mlabel_counts\u001b[0m \u001b[0;34m=\u001b[0m \u001b[0mtorch\u001b[0m\u001b[0;34m.\u001b[0m\u001b[0mbincount\u001b[0m\u001b[0;34m(\u001b[0m\u001b[0man_image\u001b[0m\u001b[0;34m,\u001b[0m \u001b[0mminlength\u001b[0m\u001b[0;34m=\u001b[0m\u001b[0mnum_labels\u001b[0m\u001b[0;34m)\u001b[0m\u001b[0;34m\u001b[0m\u001b[0;34m\u001b[0m\u001b[0m\n\u001b[0m\u001b[1;32m      5\u001b[0m     \u001b[0mlabel_counts\u001b[0m\u001b[0;34m=\u001b[0m\u001b[0mlabel_counts\u001b[0m\u001b[0;34m.\u001b[0m\u001b[0mnumpy\u001b[0m\u001b[0;34m(\u001b[0m\u001b[0;34m)\u001b[0m\u001b[0;34m\u001b[0m\u001b[0;34m\u001b[0m\u001b[0m\n\u001b[1;32m      6\u001b[0m     \u001b[0mepsilon\u001b[0m \u001b[0;34m=\u001b[0m \u001b[0;36m0.1\u001b[0m\u001b[0;34m\u001b[0m\u001b[0;34m\u001b[0m\u001b[0m\n",
            "\u001b[0;31mRuntimeError\u001b[0m: bincount only supports 1-d non-negative integral inputs."
          ]
        }
      ]
    },
    {
      "cell_type": "code",
      "metadata": {
        "id": "J4wAMNv_JoHc",
        "colab_type": "code",
        "colab": {}
      },
      "source": [
        "equals = torch.tensor(new_labels) == test_targets\n",
        "accuracy += torch.mean(equals.type(torch.FloatTensor))"
      ],
      "execution_count": 0,
      "outputs": []
    },
    {
      "cell_type": "code",
      "metadata": {
        "id": "PbpFJvtfOevJ",
        "colab_type": "code",
        "colab": {
          "base_uri": "https://localhost:8080/",
          "height": 34
        },
        "outputId": "fbacce72-80c7-41a0-880a-7f2310812439"
      },
      "source": [
        "print(accuracy/len(testloader))"
      ],
      "execution_count": 248,
      "outputs": [
        {
          "output_type": "stream",
          "text": [
            "tensor(0.9443)\n"
          ],
          "name": "stdout"
        }
      ]
    },
    {
      "cell_type": "code",
      "metadata": {
        "id": "dHZIZB_UOvnA",
        "colab_type": "code",
        "colab": {
          "base_uri": "https://localhost:8080/",
          "height": 51
        },
        "outputId": "0e1fd3a6-8eca-449a-8bd5-38f50bb7b39f"
      },
      "source": [
        "from syft.frameworks.torch.differential_privacy import pate\n",
        "data_dep_eps, data_ind_eps = pate.perform_analysis(teacher_preds=teacher_tensor.view(6,-1).numpy(), indices=test_targets.numpy(), noise_eps=0.1, delta=1e-5,moments=20)\n",
        "\n",
        "print(\"Data Independent Epsilon:\", data_ind_eps)\n",
        "print(\"Data Dependent Epsilon:\", data_dep_eps)"
      ],
      "execution_count": 232,
      "outputs": [
        {
          "output_type": "stream",
          "text": [
            "Data Independent Epsilon: 2411.5129254649705\n",
            "Data Dependent Epsilon: 2411.5129254633675\n"
          ],
          "name": "stdout"
        }
      ]
    },
    {
      "cell_type": "code",
      "metadata": {
        "id": "Je5WQNMMkO-L",
        "colab_type": "code",
        "colab": {}
      },
      "source": [
        "from syft.frameworks.torch.differential_privacy import pate\n",
        "data_dep_eps, data_ind_eps = pate.perform_analysis(teacher_preds=teacher_tensor.view(120,-1).numpy(), indices=test_targets.numpy(), noise_eps=0.1, delta=1e-5,moments=20)\n",
        "\n",
        "print(\"Data Independent Epsilon:\", data_ind_eps)\n",
        "print(\"Data Dependent Epsilon:\", data_dep_eps)"
      ],
      "execution_count": 0,
      "outputs": []
    },
    {
      "cell_type": "code",
      "metadata": {
        "id": "bYyYbIyqyA1r",
        "colab_type": "code",
        "colab": {
          "base_uri": "https://localhost:8080/",
          "height": 51
        },
        "outputId": "ade96530-a66e-40c8-fd3a-8476e726b5dd"
      },
      "source": [
        "from syft.frameworks.torch.differential_privacy import pate\n",
        "data_dep_eps, data_ind_eps = pate.perform_analysis(teacher_preds=teacher_tensor[:10,:].view(120,-1).numpy(), indices=test_targets[:10].numpy(), noise_eps=0.05, delta=1e-5,moments=20)\n",
        "\n",
        "print(\"Data Independent Epsilon:\", data_ind_eps)\n",
        "print(\"Data Dependent Epsilon:\", data_dep_eps)"
      ],
      "execution_count": 252,
      "outputs": [
        {
          "output_type": "stream",
          "text": [
            "Data Independent Epsilon: 1.5675283643313487\n",
            "Data Dependent Epsilon: 1.5675283643313487\n"
          ],
          "name": "stdout"
        }
      ]
    },
    {
      "cell_type": "code",
      "metadata": {
        "id": "wXTABq1BkP-f",
        "colab_type": "code",
        "colab": {}
      },
      "source": [
        ""
      ],
      "execution_count": 0,
      "outputs": []
    },
    {
      "cell_type": "code",
      "metadata": {
        "id": "voVfvBgVXOyp",
        "colab_type": "code",
        "colab": {
          "base_uri": "https://localhost:8080/",
          "height": 34
        },
        "outputId": "13cb8353-94e1-4730-e28e-c67d28d214bd"
      },
      "source": [
        "test_targets[:10].numpy().shape"
      ],
      "execution_count": 205,
      "outputs": [
        {
          "output_type": "execute_result",
          "data": {
            "text/plain": [
              "(10,)"
            ]
          },
          "metadata": {
            "tags": []
          },
          "execution_count": 205
        }
      ]
    },
    {
      "cell_type": "code",
      "metadata": {
        "id": "WLkeawbvyA5T",
        "colab_type": "code",
        "colab": {}
      },
      "source": [
        "\n"
      ],
      "execution_count": 0,
      "outputs": []
    }
  ]
}